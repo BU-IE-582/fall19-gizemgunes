{
 "cells": [
  {
   "cell_type": "markdown",
   "metadata": {},
   "source": [
    "# IE 582 - HOMEWORK 4"
   ]
  },
  {
   "cell_type": "markdown",
   "metadata": {},
   "source": [
    "### Gizem Güneş"
   ]
  },
  {
   "cell_type": "markdown",
   "metadata": {},
   "source": [
    "# TASK 1"
   ]
  },
  {
   "cell_type": "code",
   "execution_count": 1,
   "metadata": {},
   "outputs": [
    {
     "name": "stderr",
     "output_type": "stream",
     "text": [
      "\n",
      "Attaching package: 'dplyr'\n",
      "\n",
      "The following object is masked from 'package:MASS':\n",
      "\n",
      "    select\n",
      "\n",
      "The following objects are masked from 'package:stats':\n",
      "\n",
      "    filter, lag\n",
      "\n",
      "The following objects are masked from 'package:base':\n",
      "\n",
      "    intersect, setdiff, setequal, union\n",
      "\n",
      "\n",
      "Attaching package: 'lubridate'\n",
      "\n",
      "The following object is masked from 'package:base':\n",
      "\n",
      "    date\n",
      "\n",
      "\n",
      "Attaching package: 'tidyr'\n",
      "\n",
      "The following object is masked from 'package:reshape2':\n",
      "\n",
      "    smiths\n",
      "\n"
     ]
    }
   ],
   "source": [
    "#install.packages(\"https://cran.r-project.org/src/contrib/Archive/rlang/rlang_0.4.1.tar.gz\", repo=NULL, type=\"source\")\n",
    "#install.packages('dplyr')\n",
    "library(MASS)\n",
    "library(dplyr)\n",
    "library(lubridate)\n",
    "library(reshape2)\n",
    "library(tidyr)"
   ]
  },
  {
   "cell_type": "code",
   "execution_count": 2,
   "metadata": {},
   "outputs": [],
   "source": [
    "#Data is read as following :\n",
    "matches=read.csv(\"C:/Users/gizem/Desktop/MS-3/IE582 - Data Mining/Homeworks - gizemgunes/HW4/matches.csv\")\n",
    "bets=read.csv(\"C:/Users/gizem/Desktop/MS-3/IE582 - Data Mining/Homeworks - gizemgunes/HW4/bets.csv\")\n",
    "booking=read.csv(\"C:/Users/gizem/Desktop/MS-3/IE582 - Data Mining/Homeworks - gizemgunes/HW4/booking.csv\")\n",
    "goals=read.csv(\"C:/Users/gizem/Desktop/MS-3/IE582 - Data Mining/Homeworks - gizemgunes/HW4/goals.csv\")\n",
    "stats=read.csv(\"C:/Users/gizem/Desktop/MS-3/IE582 - Data Mining/Homeworks - gizemgunes/HW4/stats.csv\")\n",
    "\n",
    "#Filtering English Premier League and removing NA values in Match_status :\n",
    "matches = filter(matches, league_id == 148)\n",
    "matches=matches %>% drop_na(match_status)"
   ]
  },
  {
   "cell_type": "code",
   "execution_count": 3,
   "metadata": {},
   "outputs": [
    {
     "data": {
      "text/html": [
       "<table>\n",
       "<thead><tr><th scope=col>match_id</th><th scope=col>date</th><th scope=col>match_hometeam_id</th><th scope=col>match_hometeam_name</th><th scope=col>match_awayteam_id</th><th scope=col>match_awayteam_name</th><th scope=col>match_hometeam_score</th><th scope=col>match_awayteam_score</th><th scope=col>league_id</th><th scope=col>match_status</th></tr></thead>\n",
       "<tbody>\n",
       "\t<tr><td>13331              </td><td>2017-09-16 11:30:00</td><td>2619               </td><td>Crystal Palace     </td><td>2614               </td><td>Southampton        </td><td>0                  </td><td>1                  </td><td>148                </td><td>Finished           </td></tr>\n",
       "\t<tr><td>13329              </td><td>2017-09-16 14:00:00</td><td>2623               </td><td>Watford            </td><td>2626               </td><td>Manchester City    </td><td>0                  </td><td>6                  </td><td>148                </td><td>Finished           </td></tr>\n",
       "\t<tr><td>13327              </td><td>2017-09-16 14:00:00</td><td>2621               </td><td>Liverpool          </td><td>2629               </td><td>Burnley            </td><td>1                  </td><td>1                  </td><td>148                </td><td>Finished           </td></tr>\n",
       "\t<tr><td>13456              </td><td>2017-09-16 14:00:00</td><td>2654               </td><td>Sheffield Utd      </td><td>2641               </td><td>Norwich            </td><td>0                  </td><td>1                  </td><td>148                </td><td>Finished           </td></tr>\n",
       "\t<tr><td>13324              </td><td>2017-09-17 12:30:00</td><td>2616               </td><td>Chelsea            </td><td>2617               </td><td>Arsenal            </td><td>0                  </td><td>0                  </td><td>148                </td><td>Finished           </td></tr>\n",
       "\t<tr><td>13323              </td><td>2017-09-17 15:00:00</td><td>2627               </td><td>Manchester United  </td><td>2612               </td><td>Everton            </td><td>4                  </td><td>0                  </td><td>148                </td><td>Finished           </td></tr>\n",
       "</tbody>\n",
       "</table>\n"
      ],
      "text/latex": [
       "\\begin{tabular}{r|llllllllll}\n",
       " match\\_id & date & match\\_hometeam\\_id & match\\_hometeam\\_name & match\\_awayteam\\_id & match\\_awayteam\\_name & match\\_hometeam\\_score & match\\_awayteam\\_score & league\\_id & match\\_status\\\\\n",
       "\\hline\n",
       "\t 13331               & 2017-09-16 11:30:00 & 2619                & Crystal Palace      & 2614                & Southampton         & 0                   & 1                   & 148                 & Finished           \\\\\n",
       "\t 13329               & 2017-09-16 14:00:00 & 2623                & Watford             & 2626                & Manchester City     & 0                   & 6                   & 148                 & Finished           \\\\\n",
       "\t 13327               & 2017-09-16 14:00:00 & 2621                & Liverpool           & 2629                & Burnley             & 1                   & 1                   & 148                 & Finished           \\\\\n",
       "\t 13456               & 2017-09-16 14:00:00 & 2654                & Sheffield Utd       & 2641                & Norwich             & 0                   & 1                   & 148                 & Finished           \\\\\n",
       "\t 13324               & 2017-09-17 12:30:00 & 2616                & Chelsea             & 2617                & Arsenal             & 0                   & 0                   & 148                 & Finished           \\\\\n",
       "\t 13323               & 2017-09-17 15:00:00 & 2627                & Manchester United   & 2612                & Everton             & 4                   & 0                   & 148                 & Finished           \\\\\n",
       "\\end{tabular}\n"
      ],
      "text/markdown": [
       "\n",
       "| match_id | date | match_hometeam_id | match_hometeam_name | match_awayteam_id | match_awayteam_name | match_hometeam_score | match_awayteam_score | league_id | match_status |\n",
       "|---|---|---|---|---|---|---|---|---|---|\n",
       "| 13331               | 2017-09-16 11:30:00 | 2619                | Crystal Palace      | 2614                | Southampton         | 0                   | 1                   | 148                 | Finished            |\n",
       "| 13329               | 2017-09-16 14:00:00 | 2623                | Watford             | 2626                | Manchester City     | 0                   | 6                   | 148                 | Finished            |\n",
       "| 13327               | 2017-09-16 14:00:00 | 2621                | Liverpool           | 2629                | Burnley             | 1                   | 1                   | 148                 | Finished            |\n",
       "| 13456               | 2017-09-16 14:00:00 | 2654                | Sheffield Utd       | 2641                | Norwich             | 0                   | 1                   | 148                 | Finished            |\n",
       "| 13324               | 2017-09-17 12:30:00 | 2616                | Chelsea             | 2617                | Arsenal             | 0                   | 0                   | 148                 | Finished            |\n",
       "| 13323               | 2017-09-17 15:00:00 | 2627                | Manchester United   | 2612                | Everton             | 4                   | 0                   | 148                 | Finished            |\n",
       "\n"
      ],
      "text/plain": [
       "  match_id date                match_hometeam_id match_hometeam_name\n",
       "1 13331    2017-09-16 11:30:00 2619              Crystal Palace     \n",
       "2 13329    2017-09-16 14:00:00 2623              Watford            \n",
       "3 13327    2017-09-16 14:00:00 2621              Liverpool          \n",
       "4 13456    2017-09-16 14:00:00 2654              Sheffield Utd      \n",
       "5 13324    2017-09-17 12:30:00 2616              Chelsea            \n",
       "6 13323    2017-09-17 15:00:00 2627              Manchester United  \n",
       "  match_awayteam_id match_awayteam_name match_hometeam_score\n",
       "1 2614              Southampton         0                   \n",
       "2 2626              Manchester City     0                   \n",
       "3 2629              Burnley             1                   \n",
       "4 2641              Norwich             0                   \n",
       "5 2617              Arsenal             0                   \n",
       "6 2612              Everton             4                   \n",
       "  match_awayteam_score league_id match_status\n",
       "1 1                    148       Finished    \n",
       "2 6                    148       Finished    \n",
       "3 1                    148       Finished    \n",
       "4 1                    148       Finished    \n",
       "5 0                    148       Finished    \n",
       "6 0                    148       Finished    "
      ]
     },
     "metadata": {},
     "output_type": "display_data"
    }
   ],
   "source": [
    "#Necessary instances are selected as following :\n",
    "matches2=matches\n",
    "matches2$date = as_datetime(matches2$epoch)\n",
    "matches2 = select(matches2, match_id, date, match_hometeam_id, match_hometeam_name, match_awayteam_id, match_awayteam_name, \n",
    "                            match_hometeam_score, match_awayteam_score, league_id, match_status)\n",
    "\n",
    "head(matches2)"
   ]
  },
  {
   "cell_type": "code",
   "execution_count": 4,
   "metadata": {},
   "outputs": [
    {
     "data": {
      "text/html": [
       "<table>\n",
       "<thead><tr><th scope=col>match_id</th><th scope=col>prob_1</th><th scope=col>prob_x</th><th scope=col>prob_2</th></tr></thead>\n",
       "<tbody>\n",
       "\t<tr><td>150842   </td><td>0.1880534</td><td>0.2617220</td><td>0.5502247</td></tr>\n",
       "\t<tr><td>150844   </td><td>0.3258270</td><td>0.2861687</td><td>0.3880043</td></tr>\n",
       "\t<tr><td>156845   </td><td>0.3989720</td><td>0.3186946</td><td>0.2823334</td></tr>\n",
       "\t<tr><td>156847   </td><td>0.5436984</td><td>0.2679607</td><td>0.1883409</td></tr>\n",
       "\t<tr><td>156848   </td><td>0.3407637</td><td>0.3131682</td><td>0.3460681</td></tr>\n",
       "\t<tr><td>156850   </td><td>0.5237476</td><td>0.2796348</td><td>0.1966176</td></tr>\n",
       "</tbody>\n",
       "</table>\n"
      ],
      "text/latex": [
       "\\begin{tabular}{r|llll}\n",
       " match\\_id & prob\\_1 & prob\\_x & prob\\_2\\\\\n",
       "\\hline\n",
       "\t 150842    & 0.1880534 & 0.2617220 & 0.5502247\\\\\n",
       "\t 150844    & 0.3258270 & 0.2861687 & 0.3880043\\\\\n",
       "\t 156845    & 0.3989720 & 0.3186946 & 0.2823334\\\\\n",
       "\t 156847    & 0.5436984 & 0.2679607 & 0.1883409\\\\\n",
       "\t 156848    & 0.3407637 & 0.3131682 & 0.3460681\\\\\n",
       "\t 156850    & 0.5237476 & 0.2796348 & 0.1966176\\\\\n",
       "\\end{tabular}\n"
      ],
      "text/markdown": [
       "\n",
       "| match_id | prob_1 | prob_x | prob_2 |\n",
       "|---|---|---|---|\n",
       "| 150842    | 0.1880534 | 0.2617220 | 0.5502247 |\n",
       "| 150844    | 0.3258270 | 0.2861687 | 0.3880043 |\n",
       "| 156845    | 0.3989720 | 0.3186946 | 0.2823334 |\n",
       "| 156847    | 0.5436984 | 0.2679607 | 0.1883409 |\n",
       "| 156848    | 0.3407637 | 0.3131682 | 0.3460681 |\n",
       "| 156850    | 0.5237476 | 0.2796348 | 0.1966176 |\n",
       "\n"
      ],
      "text/plain": [
       "  match_id prob_1    prob_x    prob_2   \n",
       "1 150842   0.1880534 0.2617220 0.5502247\n",
       "2 150844   0.3258270 0.2861687 0.3880043\n",
       "3 156845   0.3989720 0.3186946 0.2823334\n",
       "4 156847   0.5436984 0.2679607 0.1883409\n",
       "5 156848   0.3407637 0.3131682 0.3460681\n",
       "6 156850   0.5237476 0.2796348 0.1966176"
      ]
     },
     "metadata": {},
     "output_type": "display_data"
    }
   ],
   "source": [
    "#Probabilities of odd_bookmakers\n",
    "bets2 = bets\n",
    "bets2$odd_date = as_datetime(bets2$odd_epoch)\n",
    "bets2 = select(bets2, match_id, odd_date, odd_bookmakers, variable, value)\n",
    "bets2 = filter(bets2, variable == \"odd_x\" | variable == \"odd_1\"| variable == \"odd_2\")\n",
    "bets2$prob = 1/bets2$value\n",
    "bets2 = dcast(bets2, match_id + odd_date + odd_bookmakers ~ variable, value.var = \"prob\")\n",
    "bets2$sum = bets2$odd_1 + bets2$odd_2 + bets2$odd_x\n",
    "bets2$prob_1 = bets2$odd_1 / bets2$sum\n",
    "bets2$prob_2 = bets2$odd_2 / bets2$sum\n",
    "bets2$prob_x = bets2$odd_x / bets2$sum\n",
    "bets2 = select(bets2, match_id, odd_date, odd_bookmakers, prob_1, prob_x, prob_2)\n",
    "\n",
    "date = select(matches2, match_id, date)\n",
    "bets2 = left_join(x=date, y=bets2, by=\"match_id\")\n",
    "bets2 = filter(bets2, date > (odd_date + hours(1)))\n",
    "bets2 = bets2 %>% group_by(match_id, odd_bookmakers, prob_1, prob_x, prob_2) %>% summarise(odd_date = max(odd_date))\n",
    "bets2 = select(bets2, -odd_date)\n",
    "bets2 = bets2 %>% group_by(match_id) %>% summarise(prob_1=mean(prob_1),prob_x=mean(prob_x),prob_2=mean(prob_2)) \n",
    "head(bets2)"
   ]
  },
  {
   "cell_type": "code",
   "execution_count": 5,
   "metadata": {},
   "outputs": [
    {
     "data": {
      "text/html": [
       "<table>\n",
       "<thead><tr><th scope=col>match_id</th><th scope=col>date</th><th scope=col>match_hometeam_id</th><th scope=col>match_hometeam_name</th><th scope=col>match_awayteam_id</th><th scope=col>match_awayteam_name</th><th scope=col>match_hometeam_score</th><th scope=col>match_awayteam_score</th><th scope=col>match_status</th><th scope=col>prob_1</th><th scope=col>prob_x</th><th scope=col>prob_2</th></tr></thead>\n",
       "<tbody>\n",
       "\t<tr><td>13331              </td><td>2017-09-16 11:30:00</td><td>2619               </td><td>Crystal Palace     </td><td>2614               </td><td>Southampton        </td><td>0                  </td><td>1                  </td><td>Finished           </td><td>NA                 </td><td>NA                 </td><td>NA                 </td></tr>\n",
       "\t<tr><td>13329              </td><td>2017-09-16 14:00:00</td><td>2623               </td><td>Watford            </td><td>2626               </td><td>Manchester City    </td><td>0                  </td><td>6                  </td><td>Finished           </td><td>NA                 </td><td>NA                 </td><td>NA                 </td></tr>\n",
       "\t<tr><td>13327              </td><td>2017-09-16 14:00:00</td><td>2621               </td><td>Liverpool          </td><td>2629               </td><td>Burnley            </td><td>1                  </td><td>1                  </td><td>Finished           </td><td>NA                 </td><td>NA                 </td><td>NA                 </td></tr>\n",
       "\t<tr><td>13456              </td><td>2017-09-16 14:00:00</td><td>2654               </td><td>Sheffield Utd      </td><td>2641               </td><td>Norwich            </td><td>0                  </td><td>1                  </td><td>Finished           </td><td>NA                 </td><td>NA                 </td><td>NA                 </td></tr>\n",
       "\t<tr><td>13324              </td><td>2017-09-17 12:30:00</td><td>2616               </td><td>Chelsea            </td><td>2617               </td><td>Arsenal            </td><td>0                  </td><td>0                  </td><td>Finished           </td><td>NA                 </td><td>NA                 </td><td>NA                 </td></tr>\n",
       "\t<tr><td>13323              </td><td>2017-09-17 15:00:00</td><td>2627               </td><td>Manchester United  </td><td>2612               </td><td>Everton            </td><td>4                  </td><td>0                  </td><td>Finished           </td><td>NA                 </td><td>NA                 </td><td>NA                 </td></tr>\n",
       "</tbody>\n",
       "</table>\n"
      ],
      "text/latex": [
       "\\begin{tabular}{r|llllllllllll}\n",
       " match\\_id & date & match\\_hometeam\\_id & match\\_hometeam\\_name & match\\_awayteam\\_id & match\\_awayteam\\_name & match\\_hometeam\\_score & match\\_awayteam\\_score & match\\_status & prob\\_1 & prob\\_x & prob\\_2\\\\\n",
       "\\hline\n",
       "\t 13331               & 2017-09-16 11:30:00 & 2619                & Crystal Palace      & 2614                & Southampton         & 0                   & 1                   & Finished            & NA                  & NA                  & NA                 \\\\\n",
       "\t 13329               & 2017-09-16 14:00:00 & 2623                & Watford             & 2626                & Manchester City     & 0                   & 6                   & Finished            & NA                  & NA                  & NA                 \\\\\n",
       "\t 13327               & 2017-09-16 14:00:00 & 2621                & Liverpool           & 2629                & Burnley             & 1                   & 1                   & Finished            & NA                  & NA                  & NA                 \\\\\n",
       "\t 13456               & 2017-09-16 14:00:00 & 2654                & Sheffield Utd       & 2641                & Norwich             & 0                   & 1                   & Finished            & NA                  & NA                  & NA                 \\\\\n",
       "\t 13324               & 2017-09-17 12:30:00 & 2616                & Chelsea             & 2617                & Arsenal             & 0                   & 0                   & Finished            & NA                  & NA                  & NA                 \\\\\n",
       "\t 13323               & 2017-09-17 15:00:00 & 2627                & Manchester United   & 2612                & Everton             & 4                   & 0                   & Finished            & NA                  & NA                  & NA                 \\\\\n",
       "\\end{tabular}\n"
      ],
      "text/markdown": [
       "\n",
       "| match_id | date | match_hometeam_id | match_hometeam_name | match_awayteam_id | match_awayteam_name | match_hometeam_score | match_awayteam_score | match_status | prob_1 | prob_x | prob_2 |\n",
       "|---|---|---|---|---|---|---|---|---|---|---|---|\n",
       "| 13331               | 2017-09-16 11:30:00 | 2619                | Crystal Palace      | 2614                | Southampton         | 0                   | 1                   | Finished            | NA                  | NA                  | NA                  |\n",
       "| 13329               | 2017-09-16 14:00:00 | 2623                | Watford             | 2626                | Manchester City     | 0                   | 6                   | Finished            | NA                  | NA                  | NA                  |\n",
       "| 13327               | 2017-09-16 14:00:00 | 2621                | Liverpool           | 2629                | Burnley             | 1                   | 1                   | Finished            | NA                  | NA                  | NA                  |\n",
       "| 13456               | 2017-09-16 14:00:00 | 2654                | Sheffield Utd       | 2641                | Norwich             | 0                   | 1                   | Finished            | NA                  | NA                  | NA                  |\n",
       "| 13324               | 2017-09-17 12:30:00 | 2616                | Chelsea             | 2617                | Arsenal             | 0                   | 0                   | Finished            | NA                  | NA                  | NA                  |\n",
       "| 13323               | 2017-09-17 15:00:00 | 2627                | Manchester United   | 2612                | Everton             | 4                   | 0                   | Finished            | NA                  | NA                  | NA                  |\n",
       "\n"
      ],
      "text/plain": [
       "  match_id date                match_hometeam_id match_hometeam_name\n",
       "1 13331    2017-09-16 11:30:00 2619              Crystal Palace     \n",
       "2 13329    2017-09-16 14:00:00 2623              Watford            \n",
       "3 13327    2017-09-16 14:00:00 2621              Liverpool          \n",
       "4 13456    2017-09-16 14:00:00 2654              Sheffield Utd      \n",
       "5 13324    2017-09-17 12:30:00 2616              Chelsea            \n",
       "6 13323    2017-09-17 15:00:00 2627              Manchester United  \n",
       "  match_awayteam_id match_awayteam_name match_hometeam_score\n",
       "1 2614              Southampton         0                   \n",
       "2 2626              Manchester City     0                   \n",
       "3 2629              Burnley             1                   \n",
       "4 2641              Norwich             0                   \n",
       "5 2617              Arsenal             0                   \n",
       "6 2612              Everton             4                   \n",
       "  match_awayteam_score match_status prob_1 prob_x prob_2\n",
       "1 1                    Finished     NA     NA     NA    \n",
       "2 6                    Finished     NA     NA     NA    \n",
       "3 1                    Finished     NA     NA     NA    \n",
       "4 1                    Finished     NA     NA     NA    \n",
       "5 0                    Finished     NA     NA     NA    \n",
       "6 0                    Finished     NA     NA     NA    "
      ]
     },
     "metadata": {},
     "output_type": "display_data"
    }
   ],
   "source": [
    "data = left_join(x=matches2, y=bets2, by=\"match_id\")\n",
    "data = select(data, match_id, date, match_hometeam_id, match_hometeam_name, match_awayteam_id, match_awayteam_name, \n",
    "                            match_hometeam_score, match_awayteam_score, match_status, prob_1, prob_x, prob_2)\n",
    "head(data)"
   ]
  },
  {
   "cell_type": "code",
   "execution_count": 6,
   "metadata": {},
   "outputs": [],
   "source": [
    "#Team average goals in last 5 games for each\n",
    "for (i in data$match_id){   \n",
    "        goals=0\n",
    "    \n",
    "        data[data$match_id==i,\"hometeam_goals\"]=goals\n",
    "        \n",
    "        e=data[data$match_id==i,\"date\"]\n",
    "        matches3=data[data$date<e,]\n",
    "        matches3=matches3[(matches3$match_hometeam_id==data[data$match_id==i,3] | \n",
    "                           matches3$match_awayteam_id==data[data$match_id==i,3]),]\n",
    "    \n",
    "        matches3=matches3[order(matches3$date,decreasing = T),]\n",
    "        max=nrow(matches3)\n",
    "        if(max>5){max=5}\n",
    "        if (max>0){matches3=matches3[1:max,]}\n",
    "        if(max>0){\n",
    "        \n",
    "            for (j in 1:max){\n",
    "\n",
    "                    if(matches3[j,5]==data[data$match_id==i,3]){\n",
    "\n",
    "                        goals=goals+matches3[j,8]\n",
    "                    }\n",
    "                    \n",
    "                    if(matches3[j,3]==data[data$match_id==i,3] ){\n",
    "\n",
    "                        goals=goals+matches3[j,7]\n",
    "                    }\n",
    "                    \n",
    "            }\n",
    "        data[data$match_id==i,\"hometeam_goals\"]=goals/max\n",
    "        }\n",
    "\n",
    "    }\n",
    "    \n",
    "   for (i in data$match_id){  \n",
    "        goals=0\n",
    "    \n",
    "        data[data$match_id==i,\"awayteam_goals\"]=goals\n",
    "        \n",
    "        e=data[data$match_id==i,\"date\"]\n",
    "        matches3=data[data$date<e,]\n",
    "        matches3=matches3[(matches3$match_hometeam_id==data[data$match_id==i,5] | \n",
    "                           matches3$match_awayteam_id==data[data$match_id==i,5]),]\n",
    "    \n",
    "        matches3=matches3[order(matches3$date,decreasing = T),]\n",
    "        max=nrow(matches3)\n",
    "        if(max>5){max=5}\n",
    "        if (max>0){matches3=matches3[1:max,]}\n",
    "        if(max>0){\n",
    "        \n",
    "            for (j in 1:max){\n",
    "\n",
    "                    if(matches3[j,5]==data[data$match_id==i,5] ){\n",
    "\n",
    "                        goals=goals+matches3[j,8]\n",
    "                    }\n",
    "                  \n",
    "                    if(matches3[j,3]==data[data$match_id==i,5] ){\n",
    "\n",
    "                        goals=goals+matches3[j,7]\n",
    "                    }        \n",
    "            }\n",
    "        data[data$match_id==i,\"awayteam_goals\"]=goals/max\n",
    "        \n",
    "        }  \n",
    "}\n",
    "#data[data$match_id == 218349,]"
   ]
  },
  {
   "cell_type": "code",
   "execution_count": 7,
   "metadata": {},
   "outputs": [],
   "source": [
    "#Team average goals in last 5 games between each other\n",
    "for (i in data$match_id){   \n",
    "        goals_for=0\n",
    "        goals_against=0\n",
    "    \n",
    "        data[data$match_id==i,\"hometeam_goals_btw\"]=goals_for\n",
    "        data[data$match_id==i,\"awayteam_goals_btw\"]=goals_against\n",
    "        \n",
    "        \n",
    "        e=data[data$match_id==i,\"date\"]\n",
    "        matches3=data[data$date<e,]\n",
    "        matches3=matches3[(matches3$match_hometeam_id==data[data$match_id==i,3] | \n",
    "                           matches3$match_awayteam_id==data[data$match_id==i,3]),]\n",
    "        matches3=matches3[(matches3$match_hometeam_id==data[data$match_id==i,5] | \n",
    "                           matches3$match_awayteam_id==data[data$match_id==i,5]),]\n",
    "    \n",
    "        matches3=matches3[order(matches3$date,decreasing = T),]\n",
    "        max=nrow(matches3)\n",
    "        if(max>5){max=5}\n",
    "        if (max>0){matches3=matches3[1:max,]}\n",
    "        if(max>0){\n",
    "        \n",
    "            for (j in 1:max){\n",
    "\n",
    "                    if(matches3[j,5]==data[data$match_id==i,3]){\n",
    "\n",
    "                        goals_for=goals_for+matches3[j,8]\n",
    "                        goals_against=goals_against+matches3[j,7]\n",
    "                    }\n",
    "                    \n",
    "                    if(matches3[j,3]==data[data$match_id==i,3] ){\n",
    "\n",
    "                        goals_for=goals_for+matches3[j,7]\n",
    "                        goals_against=goals_against+matches3[j,8]\n",
    "                    }\n",
    "                    \n",
    "            }\n",
    "        data[data$match_id==i,\"hometeam_goals_btw\"]=goals_for/max\n",
    "        data[data$match_id==i,\"awayteam_goals_btw\"]=goals_against/max\n",
    "        \n",
    "        \n",
    "        }\n",
    "\n",
    "    }\n",
    "    \n",
    "#data[data$match_id == 218349,]"
   ]
  },
  {
   "cell_type": "code",
   "execution_count": 8,
   "metadata": {},
   "outputs": [],
   "source": [
    "#Average team points in last 5 matches\n",
    "data['hometeam_win']=ifelse(data$match_hometeam_score>data$match_awayteam_score,1,0)\n",
    "data['tie']=ifelse(data$match_hometeam_score==data$match_awayteam_score,1,0)\n",
    "data['awayteam_win']=ifelse(data$match_hometeam_score<data$match_awayteam_score,1,0)\n",
    "\n",
    "for (i in data$match_id){   \n",
    "        win=0\n",
    "        loss=0\n",
    "        tie=0\n",
    "    \n",
    "        data[data$match_id==i,\"hometeam_win_number\"]=win\n",
    "        data[data$match_id==i,\"hometeam_tie_number\"]=tie\n",
    "        data[data$match_id==i,\"hometeam_loss_number\"]=loss\n",
    "        \n",
    "        e=data[data$match_id==i,\"date\"]\n",
    "        matches3=data[data$date<e,]\n",
    "        matches3=matches3[(matches3$match_hometeam_id==data[data$match_id==i,3] | \n",
    "                           matches3$match_awayteam_id==data[data$match_id==i,3]),]\n",
    "    \n",
    "        matches3=matches3[order(matches3$date,decreasing = T),]\n",
    "        max=nrow(matches3)\n",
    "        if(max>5){max=5}\n",
    "        if (max>0){matches3=matches3[1:max,]}\n",
    "        if(max>0){\n",
    "        \n",
    "            for (j in 1:max){\n",
    "\n",
    "                    if(matches3[j,5]==data[data$match_id==i,3] & matches3[j,19]==1){\n",
    "\n",
    "                        win=win+1\n",
    "                    }\n",
    "                    if(matches3[j,5]==data[data$match_id==i,3] & matches3[j,17]==1){\n",
    "\n",
    "                        loss=loss+1\n",
    "                    }\n",
    "                    if(matches3[j,3]==data[data$match_id==i,3] & matches3[j,17]==1){\n",
    "\n",
    "                        win=win+1\n",
    "                    }\n",
    "                    if(matches3[j,3]==data[data$match_id==i,3] & matches3[j,19]==1){\n",
    "\n",
    "                        loss=loss+1\n",
    "                    }\n",
    "                    if(matches3[j,18]==1){\n",
    "\n",
    "                        tie=tie+1\n",
    "                    }\n",
    "                }\n",
    "        data[data$match_id==i,\"hometeam_win_number\"]=win\n",
    "        data[data$match_id==i,\"hometeam_tie_number\"]=tie\n",
    "        data[data$match_id==i,\"hometeam_loss_number\"]=loss\n",
    "        \n",
    "        }\n",
    "        \n",
    "    }\n",
    "\n",
    "for (i in data$match_id){  \n",
    "        win=0\n",
    "        loss=0\n",
    "        tie=0\n",
    "        data[data$match_id==i,\"awayteam_win_number\"]=win\n",
    "        data[data$match_id==i,\"awayteam_tie_number\"]=tie\n",
    "        data[data$match_id==i,\"awayteam_loss_number\"]=loss\n",
    "        \n",
    "        e=data[data$match_id==i,\"date\"]\n",
    "        matches3=data[data$date<e,]\n",
    "        matches3=matches3[(matches3$match_hometeam_id==data[data$match_id==i,5] | \n",
    "                           matches3$match_awayteam_id==data[data$match_id==i,5]),]\n",
    "    \n",
    "        matches3=matches3[order(matches3$date,decreasing = T),]\n",
    "        max=nrow(matches3)\n",
    "        if(max>5){max=5}\n",
    "        if (max>0){matches3=matches3[1:max,]}\n",
    "        if(max>0){\n",
    "        \n",
    "            for (j in 1:max){\n",
    "\n",
    "                    if(matches3[j,5]==data[data$match_id==i,5] & matches3[j,19]==1){\n",
    "\n",
    "                        win=win+1\n",
    "                    }\n",
    "                    if(matches3[j,5]==data[data$match_id==i,5] & matches3[j,17]==1){\n",
    "\n",
    "                        loss=loss+1\n",
    "                    }\n",
    "                    if(matches3[j,3]==data[data$match_id==i,5] & matches3[j,17]==1){\n",
    "\n",
    "                        win=win+1\n",
    "                    }\n",
    "                    if(matches3[j,3]==data[data$match_id==i,5] & matches3[j,19]==1){\n",
    "\n",
    "                        loss=loss+1\n",
    "                    }\n",
    "                    if(matches3[j,18]==1){\n",
    "\n",
    "                        tie=tie+1\n",
    "                    }\n",
    "                }\n",
    "        data[data$match_id==i,\"awayteam_win_number\"]=win\n",
    "        data[data$match_id==i,\"awayteam_tie_number\"]=tie\n",
    "        data[data$match_id==i,\"awayteam_loss_number\"]=loss\n",
    "        \n",
    "        }\n",
    "        \n",
    "       \n",
    "        \n",
    "    }\n",
    "\n",
    "#data[data$match_id == 218349,]\n",
    "\n",
    "data[,\"avg_hometeam_points\"]=(3*data[,\"hometeam_win_number\"]+1*data[,\"hometeam_tie_number\"])/max\n",
    "data[,\"avg_awayteam_points\"]=(3*data[,\"awayteam_win_number\"]+1*data[,\"awayteam_tie_number\"])/max\n",
    "data[,c(\"hometeam_win\",\"tie\",\"awayteam_win\",\"hometeam_win_number\",\"hometeam_tie_number\",\"hometeam_loss_number\",\n",
    "          \"awayteam_win_number\",\"awayteam_tie_number\",\"awayteam_loss_number\")]=NULL"
   ]
  },
  {
   "cell_type": "code",
   "execution_count": 9,
   "metadata": {},
   "outputs": [],
   "source": [
    "data = select(data, match_id, date, match_hometeam_id, match_hometeam_name, match_awayteam_id, match_awayteam_name, \n",
    "              match_hometeam_score, match_awayteam_score, hometeam_goals, awayteam_goals, hometeam_goals_btw,\n",
    "              awayteam_goals_btw, avg_hometeam_points, avg_awayteam_points, prob_1, prob_x, prob_2)\n",
    "data$total_goals = data$match_hometeam_score + data$match_awayteam_score\n",
    "data$total_goals_class = ifelse(data$total_goals > 2.5, 1, 0)\n",
    "data$total_goals_class = as.factor(data$total_goals_class)\n",
    "#Class 1 means total goals of a match is higher than 2.5; Class 0 means the opposite.\n",
    "\n",
    "#data[1:10,]"
   ]
  },
  {
   "cell_type": "code",
   "execution_count": 10,
   "metadata": {},
   "outputs": [
    {
     "data": {
      "text/html": [
       "<table>\n",
       "<thead><tr><th scope=col>hometeam_goals</th><th scope=col>awayteam_goals</th><th scope=col>hometeam_goals_btw</th><th scope=col>awayteam_goals_btw</th><th scope=col>avg_hometeam_points</th><th scope=col>avg_awayteam_points</th><th scope=col>prob_1</th><th scope=col>prob_x</th><th scope=col>prob_2</th><th scope=col>total_goals</th></tr></thead>\n",
       "<tbody>\n",
       "\t<tr><td>0 </td><td>0 </td><td>0 </td><td>0 </td><td>0 </td><td>0 </td><td>NA</td><td>NA</td><td>NA</td><td>1 </td></tr>\n",
       "\t<tr><td>0 </td><td>0 </td><td>0 </td><td>0 </td><td>0 </td><td>0 </td><td>NA</td><td>NA</td><td>NA</td><td>6 </td></tr>\n",
       "\t<tr><td>0 </td><td>0 </td><td>0 </td><td>0 </td><td>0 </td><td>0 </td><td>NA</td><td>NA</td><td>NA</td><td>2 </td></tr>\n",
       "\t<tr><td>0 </td><td>0 </td><td>0 </td><td>0 </td><td>0 </td><td>0 </td><td>NA</td><td>NA</td><td>NA</td><td>1 </td></tr>\n",
       "\t<tr><td>0 </td><td>0 </td><td>0 </td><td>0 </td><td>0 </td><td>0 </td><td>NA</td><td>NA</td><td>NA</td><td>0 </td></tr>\n",
       "\t<tr><td>0 </td><td>0 </td><td>0 </td><td>0 </td><td>0 </td><td>0 </td><td>NA</td><td>NA</td><td>NA</td><td>4 </td></tr>\n",
       "</tbody>\n",
       "</table>\n"
      ],
      "text/latex": [
       "\\begin{tabular}{r|llllllllll}\n",
       " hometeam\\_goals & awayteam\\_goals & hometeam\\_goals\\_btw & awayteam\\_goals\\_btw & avg\\_hometeam\\_points & avg\\_awayteam\\_points & prob\\_1 & prob\\_x & prob\\_2 & total\\_goals\\\\\n",
       "\\hline\n",
       "\t 0  & 0  & 0  & 0  & 0  & 0  & NA & NA & NA & 1 \\\\\n",
       "\t 0  & 0  & 0  & 0  & 0  & 0  & NA & NA & NA & 6 \\\\\n",
       "\t 0  & 0  & 0  & 0  & 0  & 0  & NA & NA & NA & 2 \\\\\n",
       "\t 0  & 0  & 0  & 0  & 0  & 0  & NA & NA & NA & 1 \\\\\n",
       "\t 0  & 0  & 0  & 0  & 0  & 0  & NA & NA & NA & 0 \\\\\n",
       "\t 0  & 0  & 0  & 0  & 0  & 0  & NA & NA & NA & 4 \\\\\n",
       "\\end{tabular}\n"
      ],
      "text/markdown": [
       "\n",
       "| hometeam_goals | awayteam_goals | hometeam_goals_btw | awayteam_goals_btw | avg_hometeam_points | avg_awayteam_points | prob_1 | prob_x | prob_2 | total_goals |\n",
       "|---|---|---|---|---|---|---|---|---|---|\n",
       "| 0  | 0  | 0  | 0  | 0  | 0  | NA | NA | NA | 1  |\n",
       "| 0  | 0  | 0  | 0  | 0  | 0  | NA | NA | NA | 6  |\n",
       "| 0  | 0  | 0  | 0  | 0  | 0  | NA | NA | NA | 2  |\n",
       "| 0  | 0  | 0  | 0  | 0  | 0  | NA | NA | NA | 1  |\n",
       "| 0  | 0  | 0  | 0  | 0  | 0  | NA | NA | NA | 0  |\n",
       "| 0  | 0  | 0  | 0  | 0  | 0  | NA | NA | NA | 4  |\n",
       "\n"
      ],
      "text/plain": [
       "  hometeam_goals awayteam_goals hometeam_goals_btw awayteam_goals_btw\n",
       "1 0              0              0                  0                 \n",
       "2 0              0              0                  0                 \n",
       "3 0              0              0                  0                 \n",
       "4 0              0              0                  0                 \n",
       "5 0              0              0                  0                 \n",
       "6 0              0              0                  0                 \n",
       "  avg_hometeam_points avg_awayteam_points prob_1 prob_x prob_2 total_goals\n",
       "1 0                   0                   NA     NA     NA     1          \n",
       "2 0                   0                   NA     NA     NA     6          \n",
       "3 0                   0                   NA     NA     NA     2          \n",
       "4 0                   0                   NA     NA     NA     1          \n",
       "5 0                   0                   NA     NA     NA     0          \n",
       "6 0                   0                   NA     NA     NA     4          "
      ]
     },
     "metadata": {},
     "output_type": "display_data"
    },
    {
     "data": {
      "text/html": [
       "<table>\n",
       "<thead><tr><th scope=col>hometeam_goals</th><th scope=col>awayteam_goals</th><th scope=col>hometeam_goals_btw</th><th scope=col>awayteam_goals_btw</th><th scope=col>avg_hometeam_points</th><th scope=col>avg_awayteam_points</th><th scope=col>prob_1</th><th scope=col>prob_x</th><th scope=col>prob_2</th><th scope=col>total_goals_class</th></tr></thead>\n",
       "<tbody>\n",
       "\t<tr><td>0 </td><td>0 </td><td>0 </td><td>0 </td><td>0 </td><td>0 </td><td>NA</td><td>NA</td><td>NA</td><td>0 </td></tr>\n",
       "\t<tr><td>0 </td><td>0 </td><td>0 </td><td>0 </td><td>0 </td><td>0 </td><td>NA</td><td>NA</td><td>NA</td><td>1 </td></tr>\n",
       "\t<tr><td>0 </td><td>0 </td><td>0 </td><td>0 </td><td>0 </td><td>0 </td><td>NA</td><td>NA</td><td>NA</td><td>0 </td></tr>\n",
       "\t<tr><td>0 </td><td>0 </td><td>0 </td><td>0 </td><td>0 </td><td>0 </td><td>NA</td><td>NA</td><td>NA</td><td>0 </td></tr>\n",
       "\t<tr><td>0 </td><td>0 </td><td>0 </td><td>0 </td><td>0 </td><td>0 </td><td>NA</td><td>NA</td><td>NA</td><td>0 </td></tr>\n",
       "\t<tr><td>0 </td><td>0 </td><td>0 </td><td>0 </td><td>0 </td><td>0 </td><td>NA</td><td>NA</td><td>NA</td><td>1 </td></tr>\n",
       "</tbody>\n",
       "</table>\n"
      ],
      "text/latex": [
       "\\begin{tabular}{r|llllllllll}\n",
       " hometeam\\_goals & awayteam\\_goals & hometeam\\_goals\\_btw & awayteam\\_goals\\_btw & avg\\_hometeam\\_points & avg\\_awayteam\\_points & prob\\_1 & prob\\_x & prob\\_2 & total\\_goals\\_class\\\\\n",
       "\\hline\n",
       "\t 0  & 0  & 0  & 0  & 0  & 0  & NA & NA & NA & 0 \\\\\n",
       "\t 0  & 0  & 0  & 0  & 0  & 0  & NA & NA & NA & 1 \\\\\n",
       "\t 0  & 0  & 0  & 0  & 0  & 0  & NA & NA & NA & 0 \\\\\n",
       "\t 0  & 0  & 0  & 0  & 0  & 0  & NA & NA & NA & 0 \\\\\n",
       "\t 0  & 0  & 0  & 0  & 0  & 0  & NA & NA & NA & 0 \\\\\n",
       "\t 0  & 0  & 0  & 0  & 0  & 0  & NA & NA & NA & 1 \\\\\n",
       "\\end{tabular}\n"
      ],
      "text/markdown": [
       "\n",
       "| hometeam_goals | awayteam_goals | hometeam_goals_btw | awayteam_goals_btw | avg_hometeam_points | avg_awayteam_points | prob_1 | prob_x | prob_2 | total_goals_class |\n",
       "|---|---|---|---|---|---|---|---|---|---|\n",
       "| 0  | 0  | 0  | 0  | 0  | 0  | NA | NA | NA | 0  |\n",
       "| 0  | 0  | 0  | 0  | 0  | 0  | NA | NA | NA | 1  |\n",
       "| 0  | 0  | 0  | 0  | 0  | 0  | NA | NA | NA | 0  |\n",
       "| 0  | 0  | 0  | 0  | 0  | 0  | NA | NA | NA | 0  |\n",
       "| 0  | 0  | 0  | 0  | 0  | 0  | NA | NA | NA | 0  |\n",
       "| 0  | 0  | 0  | 0  | 0  | 0  | NA | NA | NA | 1  |\n",
       "\n"
      ],
      "text/plain": [
       "  hometeam_goals awayteam_goals hometeam_goals_btw awayteam_goals_btw\n",
       "1 0              0              0                  0                 \n",
       "2 0              0              0                  0                 \n",
       "3 0              0              0                  0                 \n",
       "4 0              0              0                  0                 \n",
       "5 0              0              0                  0                 \n",
       "6 0              0              0                  0                 \n",
       "  avg_hometeam_points avg_awayteam_points prob_1 prob_x prob_2\n",
       "1 0                   0                   NA     NA     NA    \n",
       "2 0                   0                   NA     NA     NA    \n",
       "3 0                   0                   NA     NA     NA    \n",
       "4 0                   0                   NA     NA     NA    \n",
       "5 0                   0                   NA     NA     NA    \n",
       "6 0                   0                   NA     NA     NA    \n",
       "  total_goals_class\n",
       "1 0                \n",
       "2 1                \n",
       "3 0                \n",
       "4 0                \n",
       "5 0                \n",
       "6 1                "
      ]
     },
     "metadata": {},
     "output_type": "display_data"
    }
   ],
   "source": [
    "#Input and output data are created as following :\n",
    "data_reg  = select(data, hometeam_goals, awayteam_goals, hometeam_goals_btw, awayteam_goals_btw, avg_hometeam_points, \n",
    "                   avg_awayteam_points, prob_1, prob_x, prob_2, total_goals)\n",
    "data_class = select(data, hometeam_goals, awayteam_goals, hometeam_goals_btw, awayteam_goals_btw, avg_hometeam_points, \n",
    "                    avg_awayteam_points, prob_1, prob_x, prob_2, total_goals_class)\n",
    "\n",
    "head(data_reg)\n",
    "head(data_class)"
   ]
  },
  {
   "cell_type": "code",
   "execution_count": 11,
   "metadata": {},
   "outputs": [
    {
     "data": {
      "text/plain": [
       "\n",
       "FALSE  TRUE \n",
       "  329   372 "
      ]
     },
     "metadata": {},
     "output_type": "display_data"
    }
   ],
   "source": [
    "#Testing Missing Values\n",
    "table(is.na(data$prob_1))"
   ]
  },
  {
   "cell_type": "markdown",
   "metadata": {},
   "source": [
    "#### What we should do with NA values will be evaluated under three options. First one is to remove the rows including NA values. Second one is to replace the NA values by the mean of the corresponding column. Lastly, third one is to remove all columns of probabilities. In addition, dividing the data into training and test data is evaluated under two options, namely stratification and random sampling."
   ]
  },
  {
   "cell_type": "code",
   "execution_count": 12,
   "metadata": {},
   "outputs": [],
   "source": [
    "#Removing the rows which include NA values in probabilities:\n",
    "data_reg_NA = data_reg %>% drop_na(prob_1)\n",
    "data_class_NA = data_class %>% drop_na(prob_1)\n",
    "\n",
    "#Replacing the NA values with mean of the column\n",
    "data_reg$prob_1[is.na(data_reg$prob_1)] <- mean(data_reg$prob_1, na.rm = TRUE)\n",
    "data_reg$prob_x[is.na(data_reg$prob_x)] <- mean(data_reg$prob_x, na.rm = TRUE)\n",
    "data_reg$prob_2[is.na(data_reg$prob_2)] <- mean(data_reg$prob_2, na.rm = TRUE)\n",
    "data_class$prob_1[is.na(data_class$prob_1)] <- mean(data_class$prob_1, na.rm = TRUE)\n",
    "data_class$prob_x[is.na(data_class$prob_x)] <- mean(data_class$prob_x, na.rm = TRUE)\n",
    "data_class$prob_2[is.na(data_class$prob_2)] <- mean(data_class$prob_2, na.rm = TRUE)\n",
    "#table(is.na(data_reg$prob_1))\n",
    "\n",
    "#Removing the probabilities of odd_bookmakers from input data set :\n",
    "data_reg_NoP = select(data_reg, -prob_1, -prob_2, -prob_x)\n",
    "data_class_NoP = select(data_class, -prob_1,-prob_2,-prob_x)\n"
   ]
  },
  {
   "cell_type": "markdown",
   "metadata": {},
   "source": [
    "### Stratification"
   ]
  },
  {
   "cell_type": "code",
   "execution_count": 13,
   "metadata": {},
   "outputs": [
    {
     "data": {
      "text/plain": [
       "\n",
       "  0   1 \n",
       "308 393 "
      ]
     },
     "metadata": {},
     "output_type": "display_data"
    },
    {
     "data": {
      "text/plain": [
       "\n",
       "  0   1   2   3   4   5   6   7   8   9 \n",
       " 43 103 162 164 126  66  23   9   3   2 "
      ]
     },
     "metadata": {},
     "output_type": "display_data"
    },
    {
     "name": "stderr",
     "output_type": "stream",
     "text": [
      "Loading required package: lattice\n",
      "Loading required package: ggplot2\n"
     ]
    }
   ],
   "source": [
    "#Imbalanced classes :\n",
    "table(data$total_goals_class)\n",
    "table(data$total_goals)\n",
    "\n",
    "#Stratification is implemented due to imbalanced classes as following :\n",
    "#Classification Problem\n",
    "library(caret)\n",
    "set.seed(1)\n",
    "\n",
    "#First option (removing the rows including NA values)\n",
    "train_class_NA <- sample_frac(data_class_NA, 0.70,)\n",
    "dpart <- as.numeric(rownames(train_class_NA))\n",
    "test_class_NA <- data_class_NA[-dpart,]\n",
    "\n",
    "#Second option (replacing the NA values by the mean of the corresponding column)\n",
    "train_class <- sample_frac(data_class, 0.70,)\n",
    "dpart <- as.numeric(rownames(train_class))\n",
    "test_class <- data_class[-dpart,]\n",
    "\n",
    "#Third option (removing all columns of probabilities)\n",
    "train_class_NoP <- sample_frac(data_class_NoP, 0.70,)\n",
    "dpart <- as.numeric(rownames(train_class_NoP))\n",
    "test_class_NoP <- data_class_NoP[-dpart,]\n",
    "\n",
    "\n",
    "#Stratification for Regression Problem\n",
    "#First option\n",
    "train_reg_NA <- sample_frac(data_reg_NA, 0.70,)\n",
    "dpart <- as.numeric(rownames(train_reg_NA))\n",
    "test_reg_NA <- data_reg_NA[-dpart,]\n",
    "\n",
    "#Second option\n",
    "train_reg <- sample_frac(data_reg, 0.70,)\n",
    "dpart = as.numeric(rownames(train_reg))\n",
    "test_reg = data_reg[-dpart,]\n",
    "\n",
    "#Third option\n",
    "train_reg_NoP <- sample_frac(data_reg_NoP, 0.70,)\n",
    "dpart = as.numeric(rownames(train_reg_NoP))\n",
    "test_reg_NoP <- data_reg_NoP[-dpart,]\n"
   ]
  },
  {
   "cell_type": "code",
   "execution_count": 14,
   "metadata": {},
   "outputs": [
    {
     "name": "stderr",
     "output_type": "stream",
     "text": [
      "\n",
      "Attaching package: 'MLmetrics'\n",
      "\n",
      "The following objects are masked from 'package:caret':\n",
      "\n",
      "    MAE, RMSE\n",
      "\n",
      "The following object is masked from 'package:base':\n",
      "\n",
      "    Recall\n",
      "\n",
      "Warning message in predict.lm(object, newdata, se.fit, scale = 1, type = if (type == :\n",
      "\"prediction from a rank-deficient fit may be misleading\"Warning message in predict.lm(object, newdata, se.fit, scale = 1, type = if (type == :\n",
      "\"prediction from a rank-deficient fit may be misleading\""
     ]
    },
    {
     "name": "stdout",
     "output_type": "stream",
     "text": [
      "[1] \"Accuracy of Option 1 :  0.54\"\n",
      "[1] \"Accuracy of Option 2 :  0.6\"\n",
      "[1] \"Accuracy of Option 3 :  0.55\"\n"
     ]
    }
   ],
   "source": [
    "#Evaluation of Options for Classification\n",
    "#install.packages('MLmetrics')\n",
    "library(MLmetrics)\n",
    "#Building model with the data removing NA values (First option)\n",
    "logistic1 = glm(total_goals_class~., data=train_class_NA, family=\"binomial\")\n",
    "test_class_NA$pred <- predict(logistic1, test_class_NA, type=\"response\")\n",
    "test_class_NA$pred = ifelse(test_class_NA$pred> 0.5, 1, 0)\n",
    "\n",
    "#Building model with the data including replaced NA values (Second option)\n",
    "logistic2 = glm(total_goals_class~., data=train_class, family=\"binomial\")\n",
    "test_class$pred <- predict(logistic2, test_class, type=\"response\")\n",
    "test_class$pred = ifelse(test_class$pred> 0.5, 1, 0)\n",
    "\n",
    "#Building model with the data not including probabilities info (Third option)\n",
    "logistic3 = glm(total_goals_class~., data=train_class_NoP, family=\"binomial\")\n",
    "test_class_NoP$pred <- predict(logistic3, test_class_NoP, type=\"response\")\n",
    "test_class_NoP$pred = ifelse(test_class_NoP$pred> 0.5, 1, 0)\n",
    "\n",
    "print(paste(\"Accuracy of Option 1 : \", round(Accuracy(test_class_NA$total_goals_class, test_class_NA$pred), 2)))\n",
    "print(paste(\"Accuracy of Option 2 : \", round(Accuracy(test_class$total_goals_class, test_class$pred), 2)))\n",
    "print(paste(\"Accuracy of Option 3 : \", round(Accuracy(test_class_NoP$total_goals_class, test_class_NoP$pred), 2)))"
   ]
  },
  {
   "cell_type": "code",
   "execution_count": 15,
   "metadata": {},
   "outputs": [
    {
     "name": "stderr",
     "output_type": "stream",
     "text": [
      "Warning message in predict.lm(linear_reg1, test_reg_NA, type = \"response\"):\n",
      "\"prediction from a rank-deficient fit may be misleading\"Warning message in predict.lm(linear_reg2, test_reg, type = \"response\"):\n",
      "\"prediction from a rank-deficient fit may be misleading\""
     ]
    },
    {
     "name": "stdout",
     "output_type": "stream",
     "text": [
      "[1] \"MAE value of Option 1 : 1.1\"\n",
      "[1] \"MAE value of Option 2 : 1.23\"\n",
      "[1] \"MAE value of Option 3 : 1.24\"\n"
     ]
    }
   ],
   "source": [
    "#Evaluation of Options for Regression\n",
    "library(MLmetrics)\n",
    "#Building model with the data removing NA values (First option)\n",
    "linear_reg1 = lm(total_goals~., data=train_reg_NA)\n",
    "test_reg_NA$pred <- round(predict(linear_reg1, test_reg_NA, type=\"response\"),0)\n",
    "\n",
    "#Building model with the data including replaced NA values (Second option)\n",
    "linear_reg2 = lm(total_goals~., data=train_reg)\n",
    "test_reg$pred <- round(predict(linear_reg2, test_reg, type=\"response\"),0)\n",
    "\n",
    "#Building model with the data not including probabilities info (Third option)\n",
    "linear_reg3 = lm(total_goals~., data=train_reg_NoP)\n",
    "test_reg_NoP$pred <- round(predict(linear_reg3, test_reg_NoP, type=\"response\"),0)\n",
    "\n",
    "print(paste(\"MAE value of Option 1 :\", round(MAE(test_reg_NA$total_goals , test_reg_NA$pred),2)))\n",
    "print(paste(\"MAE value of Option 2 :\", round(MAE(test_reg$total_goals , test_reg$pred),2)))\n",
    "print(paste(\"MAE value of Option 3 :\", round(MAE(test_reg_NoP$total_goals , test_reg_NoP$pred),2)))\n"
   ]
  },
  {
   "cell_type": "markdown",
   "metadata": {},
   "source": [
    "### Random Sampling"
   ]
  },
  {
   "cell_type": "code",
   "execution_count": 16,
   "metadata": {},
   "outputs": [],
   "source": [
    "#Classification Problem\n",
    "library(caret)\n",
    "set.seed(1)\n",
    "\n",
    "#First option (removing the rows including NA values)\n",
    "train_class_NA <- sample_frac(data_class_NA, 0.70,)\n",
    "dpart <- as.numeric(rownames(train_class_NA))\n",
    "test_class_NA <- data_class_NA[-dpart,]\n",
    "\n",
    "#Second option (replacing the NA values by the mean of the corresponding column)\n",
    "train_class <- sample_frac(data_class, 0.70,)\n",
    "dpart <- as.numeric(rownames(train_class))\n",
    "test_class <- data_class[-dpart,]\n",
    "\n",
    "#Third option (removing all columns of probabilities)\n",
    "train_class_NoP <- sample_frac(data_class_NoP, 0.70,)\n",
    "dpart <- as.numeric(rownames(train_class_NoP))\n",
    "test_class_NoP <- data_class_NoP[-dpart,]\n",
    "\n",
    "\n",
    "#Regression Problem\n",
    "#First option\n",
    "train_reg_NA <- sample_frac(data_reg_NA, 0.70,)\n",
    "dpart <- as.numeric(rownames(train_reg_NA))\n",
    "test_reg_NA <- data_reg_NA[-dpart,]\n",
    "\n",
    "#Second option\n",
    "train_reg <- sample_frac(data_reg, 0.70,)\n",
    "dpart = as.numeric(rownames(train_reg))\n",
    "test_reg = data_reg[-dpart,]\n",
    "\n",
    "#Third option\n",
    "train_reg_NoP <- sample_frac(data_reg_NoP, 0.70,)\n",
    "dpart = as.numeric(rownames(train_reg_NoP))\n",
    "test_reg_NoP <- data_reg_NoP[-dpart,]\n"
   ]
  },
  {
   "cell_type": "code",
   "execution_count": 17,
   "metadata": {},
   "outputs": [
    {
     "name": "stderr",
     "output_type": "stream",
     "text": [
      "Warning message in predict.lm(object, newdata, se.fit, scale = 1, type = if (type == :\n",
      "\"prediction from a rank-deficient fit may be misleading\"Warning message in predict.lm(object, newdata, se.fit, scale = 1, type = if (type == :\n",
      "\"prediction from a rank-deficient fit may be misleading\""
     ]
    },
    {
     "name": "stdout",
     "output_type": "stream",
     "text": [
      "[1] \"Accuracy of Option 1 :  0.54\"\n",
      "[1] \"Accuracy of Option 2 :  0.6\"\n",
      "[1] \"Accuracy of Option 3 :  0.55\"\n"
     ]
    }
   ],
   "source": [
    "#Evaluation of Options for Classification\n",
    "#install.packages('MLmetrics')\n",
    "library(MLmetrics)\n",
    "#Building model with the data removing NA values (First option)\n",
    "logistic1 = glm(total_goals_class~., data=train_class_NA, family=\"binomial\")\n",
    "test_class_NA$pred <- predict(logistic1, test_class_NA, type=\"response\")\n",
    "test_class_NA$pred = ifelse(test_class_NA$pred> 0.5, 1, 0)\n",
    "\n",
    "#Building model with the data including replaced NA values (Second option)\n",
    "logistic2 = glm(total_goals_class~., data=train_class, family=\"binomial\")\n",
    "test_class$pred <- predict(logistic2, test_class, type=\"response\")\n",
    "test_class$pred = ifelse(test_class$pred> 0.5, 1, 0)\n",
    "\n",
    "#Building model with the data not including probabilities info (Third option)\n",
    "logistic3 = glm(total_goals_class~., data=train_class_NoP, family=\"binomial\")\n",
    "test_class_NoP$pred <- predict(logistic3, test_class_NoP, type=\"response\")\n",
    "test_class_NoP$pred = ifelse(test_class_NoP$pred> 0.5, 1, 0)\n",
    "\n",
    "print(paste(\"Accuracy of Option 1 : \", round(Accuracy(test_class_NA$total_goals_class, test_class_NA$pred), 2)))\n",
    "print(paste(\"Accuracy of Option 2 : \", round(Accuracy(test_class$total_goals_class, test_class$pred), 2)))\n",
    "print(paste(\"Accuracy of Option 3 : \", round(Accuracy(test_class_NoP$total_goals_class, test_class_NoP$pred), 2)))"
   ]
  },
  {
   "cell_type": "code",
   "execution_count": 18,
   "metadata": {},
   "outputs": [
    {
     "name": "stderr",
     "output_type": "stream",
     "text": [
      "Warning message in predict.lm(linear_reg1, test_reg_NA, type = \"response\"):\n",
      "\"prediction from a rank-deficient fit may be misleading\"Warning message in predict.lm(linear_reg2, test_reg, type = \"response\"):\n",
      "\"prediction from a rank-deficient fit may be misleading\""
     ]
    },
    {
     "name": "stdout",
     "output_type": "stream",
     "text": [
      "[1] \"MAE value of Option 1 : 1.1\"\n",
      "[1] \"MAE value of Option 2 : 1.23\"\n",
      "[1] \"MAE value of Option 3 : 1.24\"\n"
     ]
    }
   ],
   "source": [
    "#Evaluation of Options for Regression\n",
    "library(MLmetrics)\n",
    "#Building model with the data removing NA values (First option)\n",
    "linear_reg1 = lm(total_goals~., data=train_reg_NA)\n",
    "test_reg_NA$pred <- round(predict(linear_reg1, test_reg_NA, type=\"response\"),0)\n",
    "\n",
    "#Building model with the data including replaced NA values (Second option)\n",
    "linear_reg2 = lm(total_goals~., data=train_reg)\n",
    "test_reg$pred <- round(predict(linear_reg2, test_reg, type=\"response\"),0)\n",
    "\n",
    "#Building model with the data not including probabilities info (Third option)\n",
    "linear_reg3 = lm(total_goals~., data=train_reg_NoP)\n",
    "test_reg_NoP$pred <- round(predict(linear_reg3, test_reg_NoP, type=\"response\"),0)\n",
    "\n",
    "print(paste(\"MAE value of Option 1 :\", round(MAE(test_reg_NA$total_goals , test_reg_NA$pred),2)))\n",
    "print(paste(\"MAE value of Option 2 :\", round(MAE(test_reg$total_goals , test_reg$pred),2)))\n",
    "print(paste(\"MAE value of Option 3 :\", round(MAE(test_reg_NoP$total_goals , test_reg_NoP$pred),2)))\n"
   ]
  },
  {
   "cell_type": "markdown",
   "metadata": {},
   "source": [
    "#### In conclusion, random sampling has a better performance in terms of both classification and regression. Also,second option (replacing the NA values by the mean of the corresponding column) will be used for classification, and first option (removing the rows including NA values) will be used for regression in the next steps."
   ]
  },
  {
   "cell_type": "markdown",
   "metadata": {},
   "source": [
    "# TASK 2"
   ]
  },
  {
   "cell_type": "markdown",
   "metadata": {},
   "source": [
    "## Penalized Regression"
   ]
  },
  {
   "cell_type": "code",
   "execution_count": 19,
   "metadata": {},
   "outputs": [
    {
     "name": "stderr",
     "output_type": "stream",
     "text": [
      "Loading required package: Matrix\n",
      "\n",
      "Attaching package: 'Matrix'\n",
      "\n",
      "The following objects are masked from 'package:tidyr':\n",
      "\n",
      "    expand, pack, unpack\n",
      "\n",
      "Loaded glmnet 3.0-1\n",
      "\n"
     ]
    },
    {
     "name": "stdout",
     "output_type": "stream",
     "text": [
      "[1] \"Accuracy of penalized regression for classification : 0.6\"\n",
      "[1] \"MAE value of penalized regression for regression : 1.134\"\n"
     ]
    }
   ],
   "source": [
    "library(glmnet)\n",
    "set.seed(1)\n",
    "\n",
    "#Building the penalized regression model for classification as following:\n",
    "train_class_pr <- train_class\n",
    "test_class_pr <- test_class[,1:10]\n",
    "class_pr=glmnet(as.matrix(train_class_pr[,1:9]),train_class_pr[,10],family=\"binomial\")\n",
    "test_class_pr$pred=predict(class_pr,newx=as.matrix(test_class_pr[,1:9]),type=\"class\")\n",
    "print(paste(\"Accuracy of penalized regression for classification :\",\n",
    "            round(Accuracy(test_class_pr$total_goals_class, test_class_pr$pred),2)))\n",
    "\n",
    "#Building the penalized regression model for regression as following:\n",
    "train_reg_pr <- train_reg_NA\n",
    "test_reg_pr <- test_reg_NA[,1:10]\n",
    "reg_pr=glmnet(as.matrix(train_reg_pr[,1:9]),train_reg_pr[,10], family=\"gaussian\")\n",
    "test_reg_pr$pred=predict(reg_pr,newx=as.matrix(test_reg_pr[,1:9]))\n",
    "print(paste(\"MAE value of penalized regression for regression :\",\n",
    "            round(MAE(test_reg_pr$total_goals , test_reg_pr$pred),3)))"
   ]
  },
  {
   "cell_type": "markdown",
   "metadata": {},
   "source": [
    "## Decision Tree\n"
   ]
  },
  {
   "cell_type": "code",
   "execution_count": 20,
   "metadata": {},
   "outputs": [
    {
     "name": "stdout",
     "output_type": "stream",
     "text": [
      "[1] \"Accuracy of decision tree for classification :  0.58\"\n",
      "[1] \"MAE valus of decision tree for regression  1.061\"\n"
     ]
    }
   ],
   "source": [
    "#Here, we use the same training and test data sets for this step.\n",
    "#install.packages('rpart')\n",
    "library(rpart)\n",
    "set.seed(1)\n",
    "\n",
    "#Building the decision tree for classification as following:\n",
    "train_class_dt <- train_class\n",
    "test_class_dt <- test_class[,1:10]\n",
    "class_dt=rpart(total_goals_class~.,data=train_class_dt,method='class',control=rpart.control(cp=0.05,minobsinnode = 10))\n",
    "test_class_dt$pred=predict(class_dt, newdata=test_class_dt[,1:9],type=\"class\")\n",
    "print(paste(\"Accuracy of decision tree for classification : \",round(Accuracy(test_class_dt$total_goals_class , \n",
    "                                                                             test_class_dt$pred),2)))\n",
    "\n",
    "#Building the decision tree for regression as following:\n",
    "train_reg_dt <- train_reg_NA\n",
    "test_reg_dt <- test_reg_NA[,1:10]\n",
    "reg_dt=rpart(total_goals~.,data=train_reg_dt,control=rpart.control(cp=0.01,minobsinnode = 10))\n",
    "test_reg_dt$pred=round(predict(reg_dt, newdata=test_reg_dt[,1:9]))\n",
    "print(paste(\"MAE valus of decision tree for regression \",round(MAE(test_reg_dt$total_goals , test_reg_dt$pred),3)))"
   ]
  },
  {
   "cell_type": "markdown",
   "metadata": {},
   "source": [
    "## Random Forest"
   ]
  },
  {
   "cell_type": "code",
   "execution_count": 21,
   "metadata": {},
   "outputs": [
    {
     "name": "stderr",
     "output_type": "stream",
     "text": [
      "randomForest 4.6-14\n",
      "Type rfNews() to see new features/changes/bug fixes.\n",
      "\n",
      "Attaching package: 'randomForest'\n",
      "\n",
      "The following object is masked from 'package:ggplot2':\n",
      "\n",
      "    margin\n",
      "\n",
      "The following object is masked from 'package:dplyr':\n",
      "\n",
      "    combine\n",
      "\n"
     ]
    },
    {
     "name": "stdout",
     "output_type": "stream",
     "text": [
      "[1] \"Accuracy of random forest for classification : 0.81\"\n",
      "[1] \"MAE value of random forest for regression : 0.737\"\n"
     ]
    }
   ],
   "source": [
    "#Here, we use the same training and test data sets for this step.\n",
    "#install.packages('randomForest')\n",
    "library(randomForest)\n",
    "library(caret)\n",
    "set.seed(1)\n",
    "\n",
    "#Building the random forest model for classification as following:\n",
    "train_class_rf <- train_class\n",
    "test_class_rf <- test_class[,1:10]\n",
    "class_rf = randomForest(total_goals_class~.,data=na.roughfix(train_class_rf),minobsinnode = 10,na.action=na.roughfix)\n",
    "test_class_rf$pred=predict(class_rf, newdata=na.roughfix(test_class_rf[,1:9]))\n",
    "print(paste(\"Accuracy of random forest for classification :\",round(Accuracy(test_class_rf$total_goals_class , \n",
    "                                                                           test_class_rf$pred),2)))\n",
    "\n",
    "#Building the decision tree for regression as following:\n",
    "train_reg_rf <- train_reg_NA\n",
    "test_reg_rf <- test_reg_NA[,1:10]\n",
    "reg_rf = randomForest(total_goals~.,data=na.roughfix(train_reg_rf),minobsinnode = 10,na.action=na.roughfix)\n",
    "test_reg_rf$pred=round(predict(reg_rf, newdata=na.roughfix(test_reg_rf[,1:9])))\n",
    "print(paste(\"MAE value of random forest for regression :\",round(MAE(test_reg_rf$total_goals, test_reg_rf$pred),3)))"
   ]
  },
  {
   "cell_type": "markdown",
   "metadata": {},
   "source": [
    "## Stochastic Gradient Boosting"
   ]
  },
  {
   "cell_type": "code",
   "execution_count": 22,
   "metadata": {},
   "outputs": [
    {
     "name": "stderr",
     "output_type": "stream",
     "text": [
      "Loaded gbm 2.1.5\n"
     ]
    },
    {
     "name": "stdout",
     "output_type": "stream",
     "text": [
      "[1] \"Accuracy of stochastic gradient boosting for classification : 0.8\"\n",
      "[1] \"MAE value of Stochastic Gradient Boosting for regression: 0.869\"\n"
     ]
    }
   ],
   "source": [
    "#Here, we use the same training and test data sets for this step.\n",
    "#install.packages('gbm')\n",
    "library(gbm)\n",
    "#library(caret)\n",
    "set.seed(1)\n",
    "\n",
    "#Building the stochastic gradient boosting model for classification as following:\n",
    "train_class_sgb = train_class\n",
    "test_class_sgb = test_class[,1:10]\n",
    "class_sgb = gbm(total_goals_class ~.,data = train_class_sgb,distribution = \"multinomial\",shrinkage = .1,interaction.depth = 5,\n",
    "              n.minobsinnode = 10,n.trees = 100)\n",
    "test_class_sgb$pred=predict.gbm(object = class_sgb,newdata = test_class_sgb[,1:9],n.trees = 100, type = \"response\")\n",
    "test_class_sgb$pred = colnames(test_class_sgb$pred)[apply(test_class_sgb$pred, 1, which.max)]\n",
    "print(paste(\"Accuracy of stochastic gradient boosting for classification :\",\n",
    "            round(Accuracy(test_class_sgb$total_goals_class , test_class_sgb$pred),2)))\n",
    "\n",
    "#Building the stochastic gradient boosting for regression as following:\n",
    "train_reg_sgb = train_reg_NA\n",
    "test_reg_sgb = test_reg_NA[,1:10]\n",
    "reg_sgb = gbm(total_goals~.,data = train_reg_sgb, shrinkage = .1,distribution = \"gaussian\",interaction.depth = 5,\n",
    "              n.minobsinnode = 10,n.trees = 100)\n",
    "test_reg_sgb$pred=round(predict.gbm(object = reg_sgb,newdata = test_reg_sgb[,1:9],n.trees = 100))\n",
    "print(paste(\"MAE value of Stochastic Gradient Boosting for regression:\",round(MAE(test_reg_sgb$total_goals , \n",
    "                                                                                  test_reg_sgb$pred),3)))"
   ]
  },
  {
   "cell_type": "markdown",
   "metadata": {},
   "source": [
    "# TASK 3"
   ]
  },
  {
   "cell_type": "markdown",
   "metadata": {},
   "source": [
    "## Cross Validation for Penalized Regression"
   ]
  },
  {
   "cell_type": "code",
   "execution_count": 23,
   "metadata": {},
   "outputs": [
    {
     "name": "stderr",
     "output_type": "stream",
     "text": [
      "Installing package into 'C:/Users/gizem/Documents/R/win-library/3.6'\n",
      "(as 'lib' is unspecified)\n"
     ]
    },
    {
     "name": "stdout",
     "output_type": "stream",
     "text": [
      "package 'TunePareto' successfully unpacked and MD5 sums checked\n",
      "\n",
      "The downloaded binary packages are in\n",
      "\tC:\\Users\\gizem\\AppData\\Local\\Temp\\RtmpUpdAg4\\downloaded_packages\n"
     ]
    },
    {
     "name": "stderr",
     "output_type": "stream",
     "text": [
      "\n",
      "Attaching package: 'TunePareto'\n",
      "\n",
      "The following object is masked from 'package:lubridate':\n",
      "\n",
      "    as.interval\n",
      "\n"
     ]
    },
    {
     "data": {
      "image/png": "[encoded data removed]",
      "text/plain": [
       "Plot with title \"Mean of Accuracy Values for Each Lambda\""
      ]
     },
     "metadata": {},
     "output_type": "display_data"
    },
    {
     "data": {
      "image/png": "[encoded data removed]",
      "text/plain": [
       "Plot with title \"Mean of MAE Values for Each Lambda\""
      ]
     },
     "metadata": {},
     "output_type": "display_data"
    }
   ],
   "source": [
    "install.packages('TunePareto')\n",
    "library(TunePareto)\n",
    "\n",
    "#Cross Validation for Classification :\n",
    "train_class_pr <- train_class\n",
    "test_class_pr <- test_class[,1:10]\n",
    "\n",
    "lambda = seq(0, 1, 0.2)\n",
    "nFolds=10\n",
    "nofReplications=1\n",
    "\n",
    "set.seed(1)\n",
    "indices=generateCVRuns(train_class_pr$total_goals_class,nofReplications,nFolds,stratified=TRUE)\n",
    "thisReplication=indices[[nofReplications]]\n",
    "\n",
    "mean_acc_val=c()\n",
    "mean_acc_test = c()\n",
    "\n",
    "for (a in lambda){\n",
    "    acc_val <- rep(0,nFolds)\n",
    "    acc_test <- rep(0,nFolds)\n",
    "    \n",
    "    for (i in 1:nFolds) {        \n",
    "        valindices=thisReplication[[i]]\n",
    "\n",
    "        train <- train_class_pr[-valindices,]\n",
    "        val <- train_class_pr[valindices,]\n",
    "        \n",
    "        # A model is built as following :\n",
    "        pr=glmnet(as.matrix(train[,1:9]),train[,10],family=\"binomial\",lambda=a)\n",
    "        \n",
    "        # Predicting class values for both validation and test data sets :\n",
    "        val$pred=predict(pr,newx=as.matrix(val[,1:9]),type=\"class\")\n",
    "        test_class_pr$pred=predict(pr,newx=as.matrix(test_class_pr[,1:9]),type=\"class\")\n",
    "        \n",
    "        # Calculating Accuracy values as following :\n",
    "        acc_val[i] <- round(Accuracy(val$total_goals_class , val$pred),3)\n",
    "        acc_test[i] <- round(Accuracy(test_class_pr$total_goals_class , test_class_pr$pred),3)\n",
    "        \n",
    "    }\n",
    "\n",
    "    # Saving mean accuracy values for each lambda values :\n",
    "    mean_acc_val=c(mean_acc_val,mean(acc_val))\n",
    "    mean_acc_test=c(mean_acc_test,mean(acc_test))\n",
    "    \n",
    "}\n",
    "\n",
    "\n",
    "#Plotting Accuracy Values for each Lambda value :\n",
    "plot(mean_acc_val,type=\"o\",pch=16,col=\"black\",ylim = c(0.54, 0.62), xaxt=\"n\",xlab=\"Lambda\"\n",
    "     ,ylab=\"Mean Accuracy\",main=\"Mean of Accuracy Values for Each Lambda\")\n",
    "points(mean_acc_test,type=\"o\",pch=16,col=\"red\")\n",
    "axis(side=1,at=seq_along(lambda),labels=lambda)\n",
    "legend(x = \"bottomright\" , legend = c(\"CV\",\"Test\"),col=c(\"black\",\"red\"),pch=\"-\")\n",
    "\n",
    "\n",
    "\n",
    "#Cross Validation for Regression :\n",
    "train_reg_pr <- train_reg_NA\n",
    "test_reg_pr <- test_reg_NA[,1:10]\n",
    "\n",
    "set.seed(1)\n",
    "indices=generateCVRuns(train_reg_pr$total_goals,nofReplications,nFolds,stratified=TRUE)\n",
    "thisReplication=indices[[nofReplications]]\n",
    "\n",
    "mean_mae_val=c()\n",
    "mean_mae_test = c()\n",
    "\n",
    "for (a in lambda){\n",
    "    mae_val <- rep(0,nFolds)\n",
    "    mae_test <- rep(0,nFolds)\n",
    "    \n",
    "    for (i in 1:nFolds) {        \n",
    "        valindices=thisReplication[[i]]\n",
    "\n",
    "        train <- train_reg_pr[-valindices,]\n",
    "        val <- train_reg_pr[valindices,]\n",
    "        \n",
    "        # A model is built as following :\n",
    "        pr=glmnet(as.matrix(train[,1:9]),train[,10],lambda=a)\n",
    "        \n",
    "        # Predicting total goals for both validation and test data sets :\n",
    "        val$pred=round(predict(pr,newx=as.matrix(val[,1:9])))\n",
    "        test_reg_pr$pred=round(predict(pr,newx=as.matrix(test_reg_pr[,1:9])))\n",
    "        \n",
    "        # Calculating MAE values as following :\n",
    "        mae_val[i] <- round(MAE(val$total_goals, val$pred),3)\n",
    "        mae_test[i] <- round(MAE(test_reg_pr$total_goals, test_reg_pr$pred),3)\n",
    "        \n",
    "    }\n",
    "\n",
    "    # Saving mean MAE values for each lambda values :\n",
    "    mean_mae_val=c(mean_mae_val,mean(mae_val))\n",
    "    mean_mae_test=c(mean_mae_test,mean(mae_test))    \n",
    "}\n",
    "\n",
    "#Plotting MAE Values for each Lambda value :\n",
    "plot(mean_mae_val,type=\"o\",pch=16,col=\"black\", ylim=c(0,2),xaxt=\"n\",xlab=\"Lambda\"\n",
    "     ,ylab=\"Mean MAE\",main=\"Mean of MAE Values for Each Lambda\")\n",
    "points(mean_mae_test,type=\"o\",pch=16,col=\"red\")\n",
    "axis(side=1,at=seq_along(lambda),labels=lambda)\n",
    "legend(x = \"bottomright\" , legend = c(\"CV\",\"Test\"),col=c(\"black\",\"red\"),pch=\"-\")\n",
    "\n"
   ]
  },
  {
   "cell_type": "markdown",
   "metadata": {},
   "source": [
    "#### In conclusion, lambda=0 value is the best for classification problem, whereas lambda = 0.2 value is the best for regression problem with penalized regression."
   ]
  },
  {
   "cell_type": "markdown",
   "metadata": {},
   "source": [
    "## Cross Validation for Decision Tree"
   ]
  },
  {
   "cell_type": "code",
   "execution_count": 24,
   "metadata": {},
   "outputs": [
    {
     "data": {
      "image/png": "[encoded data removed]",
      "text/plain": [
       "Plot with title \"Mean of Accuracy Values for Each Combination\""
      ]
     },
     "metadata": {},
     "output_type": "display_data"
    },
    {
     "data": {
      "image/png": "[encoded data removed]",
      "text/plain": [
       "Plot with title \"Mean of MAE Values for Each Combination\""
      ]
     },
     "metadata": {},
     "output_type": "display_data"
    }
   ],
   "source": [
    "#Cross Validation for Classification :\n",
    "train_class_dt <- train_class\n",
    "test_class_dt <- test_class[,1:10]\n",
    "\n",
    "cp=seq(0.05,0.25,0.05)\n",
    "min_obs=seq(5,20,5)\n",
    "\n",
    "nFolds=10\n",
    "nofReplications=1\n",
    "\n",
    "set.seed(1)\n",
    "indices=generateCVRuns(train_class_dt$total_goals_class,nofReplications,nFolds,stratified=TRUE)\n",
    "thisReplication=indices[[nofReplications]]\n",
    "\n",
    "\n",
    "mean_acc_val=c()\n",
    "mean_acc_test = c()\n",
    "\n",
    "for (a in cp){\n",
    "    for (b in min_obs) {\n",
    "        acc_val <- rep(0,nFolds)\n",
    "        acc_test <- rep(0,nFolds)\n",
    "    \n",
    "        for (i in 1:nFolds) {        \n",
    "            valindices=thisReplication[[i]]\n",
    "\n",
    "            train <- train_class_dt[-valindices,]\n",
    "            val <- train_class_dt[valindices,]\n",
    "        \n",
    "            # A model is built as following :\n",
    "            dt=rpart(total_goals_class~.,data=train,method='class',control=rpart.control(cp=a,minobsinnode = b))\n",
    "        \n",
    "            # Predicting class values for both validation and test data sets :\n",
    "            val$pred=predict(dt,newdata=val[,1:9],type=\"class\")\n",
    "            test_class_dt$pred=predict(dt,newdata=test_class_dt[,1:9],type=\"class\")\n",
    "        \n",
    "            # Calculating Accuracy values as following :\n",
    "            acc_val[i] <- round(Accuracy(val$total_goals_class , val$pred),3)\n",
    "            acc_test[i] <- round(Accuracy(test_class_dt$total_goals_class , test_class_dt$pred),3)\n",
    "        \n",
    "    }\n",
    "\n",
    "    # Saving mean accuracy values for each combination :\n",
    "    mean_acc_val=c(mean_acc_val,mean(acc_val))\n",
    "    mean_acc_test=c(mean_acc_test,mean(acc_test))\n",
    "    }\n",
    "}\n",
    "\n",
    "indices=c()\n",
    "for (a in cp){\n",
    "    for (b in min_obs){\n",
    "        indices=c(indices,paste0(a,\",\",b))\n",
    "    }\n",
    "}\n",
    "\n",
    "\n",
    "#Plotting Accuracy Values for each combination :\n",
    "plot(mean_acc_val,type=\"o\",pch=16,col=\"black\",ylim=c(0.54,0.6), xaxt=\"n\",xlab=\"cp,min_obs\"\n",
    "     ,ylab=\"Mean Accuracy\",main=\"Mean of Accuracy Values for Each Combination\")\n",
    "points(mean_acc_test,type=\"o\",pch=16,col=\"red\")\n",
    "axis(side=1,at=seq_along(indices),labels=indices, cex.axis=0.45,las=2)\n",
    "legend(x = \"bottomright\" , legend = c(\"CV\",\"Test\"),col=c(\"black\",\"red\"),pch=\"-\")\n",
    "\n",
    "\n",
    "\n",
    "#Cross Validation for Regression :\n",
    "train_reg_dt <- train_reg_NA\n",
    "test_reg_dt <- test_reg_NA[,1:10]\n",
    "\n",
    "set.seed(1)\n",
    "indices=generateCVRuns(train_reg_dt$total_goals,nofReplications,nFolds,stratified=TRUE)\n",
    "thisReplication=indices[[nofReplications]]\n",
    "\n",
    "\n",
    "mean_mae_val=c()\n",
    "mean_mae_test = c()\n",
    "\n",
    "for (a in cp){\n",
    "    for (b in min_obs) {\n",
    "        mae_val <- rep(0,nFolds)\n",
    "        mae_test <- rep(0,nFolds)\n",
    "    \n",
    "        for (i in 1:nFolds) {        \n",
    "            valindices=thisReplication[[i]]\n",
    "\n",
    "            train <- train_reg_dt[-valindices,]\n",
    "            val <- train_reg_dt[valindices,]\n",
    "        \n",
    "            # A model is built as following :\n",
    "            dt=rpart(total_goals~.,data=train,control=rpart.control(cp=a,minobsinnode = b))\n",
    "        \n",
    "            # Predicting total goals for both validation and test data sets :\n",
    "            val$pred=round(predict(dt,newdata=val[,1:9]))\n",
    "            test_reg_dt$pred=round(predict(dt,newdata=test_reg_dt[,1:9]))\n",
    "        \n",
    "            # Calculating MAE values as following :\n",
    "            mae_val[i] <- round(MAE(val$total_goals , val$pred),3)\n",
    "            mae_test[i] <- round(MAE(test_reg_dt$total_goals, test_reg_dt$pred),3)\n",
    "        \n",
    "    }\n",
    "\n",
    "    # Saving mean MAE values for each combination :\n",
    "    mean_mae_val=c(mean_mae_val,mean(mae_val))\n",
    "    mean_mae_test=c(mean_mae_test,mean(mae_test))\n",
    "    }\n",
    "}\n",
    "\n",
    "indices=c()\n",
    "for (a in cp){\n",
    "    for (b in min_obs){\n",
    "        indices=c(indices,paste0(a,\",\",b))\n",
    "    }\n",
    "}\n",
    "\n",
    "\n",
    "#Plotting MAE Values for each combination :\n",
    "plot(mean_mae_val,type=\"o\",pch=16,col=\"black\", ylim=c(1.05,1.25), xaxt=\"n\",xlab=\"cp, min_obs\"\n",
    "     ,ylab=\"Mean MAE\",main=\"Mean of MAE Values for Each Combination\")\n",
    "points(mean_mae_test,type=\"o\",pch=16,col=\"red\")\n",
    "axis(side=1,at=seq_along(indices),labels=indices, cex.axis=0.45,las=2)\n",
    "legend(x = \"bottomright\" , legend = c(\"CV\",\"Test\"),col=c(\"black\",\"red\"),pch=\"-\")\n"
   ]
  },
  {
   "cell_type": "markdown",
   "metadata": {},
   "source": [
    "#### In conclusion, min_obs value isn't significant since it doesn't have any effect on the results. cp=0.05 and min_obs=10 is chosen for classification problem and cp = 0.1 and min_obs = 10 values are chosen for regression problem with decision tree."
   ]
  },
  {
   "cell_type": "markdown",
   "metadata": {},
   "source": [
    "## Cross Validation for Random Forest"
   ]
  },
  {
   "cell_type": "code",
   "execution_count": 25,
   "metadata": {},
   "outputs": [
    {
     "name": "stderr",
     "output_type": "stream",
     "text": [
      "Warning message in randomForest.default(m, y, ...):\n",
      "\"invalid mtry: reset to within valid range\"Warning message in randomForest.default(m, y, ...):\n",
      "\"invalid mtry: reset to within valid range\"Warning message in randomForest.default(m, y, ...):\n",
      "\"invalid mtry: reset to within valid range\"Warning message in randomForest.default(m, y, ...):\n",
      "\"invalid mtry: reset to within valid range\"Warning message in randomForest.default(m, y, ...):\n",
      "\"invalid mtry: reset to within valid range\"Warning message in randomForest.default(m, y, ...):\n",
      "\"invalid mtry: reset to within valid range\"Warning message in randomForest.default(m, y, ...):\n",
      "\"invalid mtry: reset to within valid range\"Warning message in randomForest.default(m, y, ...):\n",
      "\"invalid mtry: reset to within valid range\"Warning message in randomForest.default(m, y, ...):\n",
      "\"invalid mtry: reset to within valid range\"Warning message in randomForest.default(m, y, ...):\n",
      "\"invalid mtry: reset to within valid range\"Warning message in randomForest.default(m, y, ...):\n",
      "\"invalid mtry: reset to within valid range\"Warning message in randomForest.default(m, y, ...):\n",
      "\"invalid mtry: reset to within valid range\"Warning message in randomForest.default(m, y, ...):\n",
      "\"invalid mtry: reset to within valid range\"Warning message in randomForest.default(m, y, ...):\n",
      "\"invalid mtry: reset to within valid range\"Warning message in randomForest.default(m, y, ...):\n",
      "\"invalid mtry: reset to within valid range\"Warning message in randomForest.default(m, y, ...):\n",
      "\"invalid mtry: reset to within valid range\"Warning message in randomForest.default(m, y, ...):\n",
      "\"invalid mtry: reset to within valid range\"Warning message in randomForest.default(m, y, ...):\n",
      "\"invalid mtry: reset to within valid range\"Warning message in randomForest.default(m, y, ...):\n",
      "\"invalid mtry: reset to within valid range\"Warning message in randomForest.default(m, y, ...):\n",
      "\"invalid mtry: reset to within valid range\""
     ]
    },
    {
     "name": "stdout",
     "output_type": "stream",
     "text": [
      "[1] \"Mean Accuracy Values for Validation\"\n",
      "[1] 0.5134 0.5277 0.5359 0.5236 0.5277\n",
      "[1] \"Mean Accuracy Values for Test\"\n",
      "[1] 0.7900 0.7979 0.7971 0.7919 0.7905\n"
     ]
    },
    {
     "data": {
      "image/png": "[encoded data removed]",
      "text/plain": [
       "Plot with title \"Mean of Accuracy Values for Each m Value\""
      ]
     },
     "metadata": {},
     "output_type": "display_data"
    }
   ],
   "source": [
    "#Cross Validation for Classification :\n",
    "train_class_rf <- train_class\n",
    "test_class_rf <- test_class[,1:10]\n",
    "\n",
    "m_val = seq(3,15,3)\n",
    "nFolds=10\n",
    "nofReplications=1\n",
    "\n",
    "set.seed(1)\n",
    "indices=generateCVRuns(train_class_rf$total_goals_class,nofReplications,nFolds,stratified=TRUE)\n",
    "thisReplication=indices[[nofReplications]]\n",
    "\n",
    "mean_acc_val=c()\n",
    "mean_acc_test = c()\n",
    "\n",
    "for (a in m_val){\n",
    "    acc_val <- rep(0,nFolds)\n",
    "    acc_test <- rep(0,nFolds)\n",
    "    \n",
    "    for (i in 1:nFolds) {        \n",
    "        valindices=thisReplication[[i]]\n",
    "\n",
    "        train <- train_class_rf[-valindices,]\n",
    "        val <- train_class_rf[valindices,]\n",
    "        \n",
    "        # A model is built as following :\n",
    "        rf=randomForest(total_goals_class~.,data=na.roughfix(train),minobsinnode = 5, mtry=a,n.trees= 500, \n",
    "                        na.action=na.roughfix)\n",
    "        \n",
    "        # Predicting class values for both validation and test data sets :\n",
    "        val$pred=predict(rf,newdata=val[,1:9])\n",
    "        test_class_rf$pred=predict(rf, newdata=na.roughfix(test_class_rf[,1:9]))\n",
    "        \n",
    "        # Calculating Accuracy values as following :\n",
    "        acc_val[i] <- round(Accuracy(val$total_goals_class , val$pred),3)\n",
    "        acc_test[i] <- round(Accuracy(test_class_rf$total_goals_class , test_class_rf$pred),3)\n",
    "        \n",
    "    }\n",
    "\n",
    "    # Saving mean accuracy values for each lambda values :\n",
    "    mean_acc_val=c(mean_acc_val,mean(acc_val))\n",
    "    mean_acc_test=c(mean_acc_test,mean(acc_test))\n",
    "    \n",
    "}\n",
    "print(\"Mean Accuracy Values for Validation\")\n",
    "print(mean_acc_val)\n",
    "print(\"Mean Accuracy Values for Test\")\n",
    "print(mean_acc_test)\n",
    "\n",
    "#Plotting Accuracy Values for each Lambda value :\n",
    "plot(mean_acc_val,type=\"o\",pch=16,col=\"black\",ylim = c(0.4,0.85), xaxt=\"n\",xlab=\"m values\"\n",
    "     ,ylab=\"Mean Accuracy\",main=\"Mean of Accuracy Values for Each m Value\")\n",
    "points(mean_acc_test,type=\"o\",pch=16,col=\"red\")\n",
    "axis(side=1,at=seq_along(m_val),labels=m_val)\n",
    "legend(x = \"bottomright\" , legend = c(\"CV\",\"Test\"),col=c(\"black\",\"red\"),pch=\"-\")"
   ]
  },
  {
   "cell_type": "code",
   "execution_count": 26,
   "metadata": {},
   "outputs": [
    {
     "name": "stderr",
     "output_type": "stream",
     "text": [
      "Warning message in randomForest.default(m, y, ...):\n",
      "\"invalid mtry: reset to within valid range\"Warning message in randomForest.default(m, y, ...):\n",
      "\"invalid mtry: reset to within valid range\"Warning message in randomForest.default(m, y, ...):\n",
      "\"invalid mtry: reset to within valid range\"Warning message in randomForest.default(m, y, ...):\n",
      "\"invalid mtry: reset to within valid range\"Warning message in randomForest.default(m, y, ...):\n",
      "\"invalid mtry: reset to within valid range\"Warning message in randomForest.default(m, y, ...):\n",
      "\"invalid mtry: reset to within valid range\"Warning message in randomForest.default(m, y, ...):\n",
      "\"invalid mtry: reset to within valid range\"Warning message in randomForest.default(m, y, ...):\n",
      "\"invalid mtry: reset to within valid range\"Warning message in randomForest.default(m, y, ...):\n",
      "\"invalid mtry: reset to within valid range\"Warning message in randomForest.default(m, y, ...):\n",
      "\"invalid mtry: reset to within valid range\"Warning message in randomForest.default(m, y, ...):\n",
      "\"invalid mtry: reset to within valid range\"Warning message in randomForest.default(m, y, ...):\n",
      "\"invalid mtry: reset to within valid range\"Warning message in randomForest.default(m, y, ...):\n",
      "\"invalid mtry: reset to within valid range\"Warning message in randomForest.default(m, y, ...):\n",
      "\"invalid mtry: reset to within valid range\"Warning message in randomForest.default(m, y, ...):\n",
      "\"invalid mtry: reset to within valid range\"Warning message in randomForest.default(m, y, ...):\n",
      "\"invalid mtry: reset to within valid range\"Warning message in randomForest.default(m, y, ...):\n",
      "\"invalid mtry: reset to within valid range\"Warning message in randomForest.default(m, y, ...):\n",
      "\"invalid mtry: reset to within valid range\"Warning message in randomForest.default(m, y, ...):\n",
      "\"invalid mtry: reset to within valid range\"Warning message in randomForest.default(m, y, ...):\n",
      "\"invalid mtry: reset to within valid range\""
     ]
    },
    {
     "name": "stdout",
     "output_type": "stream",
     "text": [
      "[1] \"Mean MAE Values for Validation\"\n",
      "[1] 1.1826 1.2130 1.2084 1.1998 1.1956\n",
      "[1] \"Mean MAE Values for Test\"\n",
      "[1] 0.7696 0.7656 0.7597 0.7544 0.7597\n"
     ]
    },
    {
     "data": {
      "image/png": "[encoded data removed]",
      "text/plain": [
       "Plot with title \"Mean of MAE Values for Each m Value\""
      ]
     },
     "metadata": {},
     "output_type": "display_data"
    }
   ],
   "source": [
    "#Cross Validation for Regression :\n",
    "train_reg_rf <- train_reg_NA\n",
    "test_reg_rf <- test_reg_NA[,1:10]\n",
    "\n",
    "set.seed(1)\n",
    "indices=generateCVRuns(train_reg_rf$total_goals,nofReplications,nFolds,stratified=TRUE)\n",
    "thisReplication=indices[[nofReplications]]\n",
    "\n",
    "mean_mae_val=c()\n",
    "mean_mae_test = c()\n",
    "\n",
    "for (a in m_val){\n",
    "    mae_val <- rep(0,nFolds)\n",
    "    mae_test <- rep(0,nFolds)\n",
    "    \n",
    "    for (i in 1:nFolds) {        \n",
    "        valindices=thisReplication[[i]]\n",
    "\n",
    "        train <- train_reg_rf[-valindices,]\n",
    "        val <- train_reg_rf[valindices,]\n",
    "        \n",
    "        # A model is built as following :\n",
    "        rf=randomForest(total_goals~.,data=na.roughfix(train),minobsinnode = 5, mtry=a, n.trees=500, ,na.action=na.roughfix)\n",
    "        \n",
    "        # Predicting total goals for both validation and test data sets :\n",
    "        val$pred=round(predict(rf,newdata=val[,1:9]))\n",
    "        test_reg_rf$pred=round(predict(rf,newdata=test_reg_rf[,1:9]))\n",
    "        \n",
    "        # Calculating MAE values as following :\n",
    "        mae_val[i] <- round(MAE(val$total_goals, val$pred),3)\n",
    "        mae_test[i] <- round(MAE(test_reg_rf$total_goals, test_reg_rf$pred),3)\n",
    "        \n",
    "    }\n",
    "\n",
    "    # Saving mean MAE values for each lambda values :\n",
    "    mean_mae_val=c(mean_mae_val,mean(mae_val))\n",
    "    mean_mae_test=c(mean_mae_test,mean(mae_test))\n",
    "}\n",
    "\n",
    "print(\"Mean MAE Values for Validation\")\n",
    "print(mean_mae_val)\n",
    "print(\"Mean MAE Values for Test\")\n",
    "print(mean_mae_test)\n",
    "\n",
    "#Plotting MAE Values for each Lambda value :\n",
    "plot(mean_mae_val,type=\"o\",pch=16,col=\"black\", ylim=c(0.6,1.4),xaxt=\"n\",xlab=\"m Values\"\n",
    "     ,ylab=\"Mean MAE\",main=\"Mean of MAE Values for Each m Value\")\n",
    "points(mean_mae_test,type=\"o\",pch=16,col=\"red\")\n",
    "axis(side=1,at=seq_along(m_val),labels=m_val)\n",
    "legend(x = \"bottomright\" , legend = c(\"CV\",\"Test\"),col=c(\"black\",\"red\"),pch=\"-\")\n"
   ]
  },
  {
   "cell_type": "markdown",
   "metadata": {},
   "source": [
    "#### In conclusion, while m=9 is the best for classification problem, m=12 is the best for regression problem with random forest."
   ]
  },
  {
   "cell_type": "markdown",
   "metadata": {},
   "source": [
    "## Cross Validation for Stochastic Gradient Boosting"
   ]
  },
  {
   "cell_type": "code",
   "execution_count": 27,
   "metadata": {},
   "outputs": [
    {
     "name": "stdout",
     "output_type": "stream",
     "text": [
      "[1] \"Mean MAE Values for Validation\"\n",
      " [1] 1.1085 0.9436 0.8654 0.8087 0.5261 0.3391 0.6566 0.2650 0.0910 1.0824\n",
      "[11] 0.8393 0.7088 0.7481 0.3564 0.1695 0.5393 0.1128 0.0302 1.0912 0.8307\n",
      "[21] 0.7263 0.7393 0.3303 0.1650 0.5087 0.0998 0.0216\n",
      "[1] \"Mean MAE Values for Test\"\n",
      " [1] 1.0780 1.0403 0.9990 0.9990 0.8029 0.6719 0.8939 0.6656 0.5789 1.0444\n",
      "[11] 1.0090 0.9220 0.9313 0.6838 0.6150 0.8232 0.6020 0.5292 1.0515 0.9808\n",
      "[21] 0.9270 0.9281 0.6969 0.6242 0.8050 0.5909 0.5363\n"
     ]
    },
    {
     "data": {
      "image/png": "[encoded data removed]",
      "text/plain": [
       "Plot with title \"Mean of Accuracy Values for Each Combination\""
      ]
     },
     "metadata": {},
     "output_type": "display_data"
    },
    {
     "data": {
      "image/png": "[encoded data removed]",
      "text/plain": [
       "Plot with title \"Mean of MAE Values for Each Combination\""
      ]
     },
     "metadata": {},
     "output_type": "display_data"
    }
   ],
   "source": [
    "#Cross Validation for Classification :\n",
    "train_class_sgb = train_class\n",
    "test_class_sgb = test_class[,1:10]\n",
    "\n",
    "depth = c(5,10,15)\n",
    "learning_rate = c(0.01,0.05,0.1)\n",
    "no_trees = c(100,300,500)\n",
    "\n",
    "nFolds=10\n",
    "nofReplications=1\n",
    "\n",
    "set.seed(1)\n",
    "indices=generateCVRuns(train_class_sgb$total_goals_class,nofReplications,nFolds,stratified=TRUE)\n",
    "thisReplication=indices[[nofReplications]]\n",
    "\n",
    "\n",
    "mean_acc_val=c()\n",
    "mean_acc_test = c()\n",
    "\n",
    "for (a in depth){\n",
    "    for (b in learning_rate) {\n",
    "        for (c in no_trees) {\n",
    "            acc_val <- rep(0,nFolds)\n",
    "            acc_test <- rep(0,nFolds)\n",
    "    \n",
    "            for (i in 1:nFolds) {        \n",
    "                valindices=thisReplication[[i]]\n",
    "\n",
    "                train <- train_class_sgb[-valindices,]\n",
    "                val <- train_class_sgb[valindices,]\n",
    "        \n",
    "                # A model is built as following :\n",
    "                sgb=gbm(total_goals_class ~.,data = train_class_sgb,distribution = \"multinomial\",shrinkage = b,\n",
    "                        interaction.depth = a, n.minobsinnode = 10,n.trees = c)\n",
    "        \n",
    "                # Predicting class values for both validation and test data sets :\n",
    "                val$pred=predict.gbm(object = sgb,newdata = val[,1:9],n.trees = c, type = \"response\")\n",
    "                val$pred = colnames(val$pred)[apply(val$pred, 1, which.max)]\n",
    "                test_class_sgb$pred=predict(sgb,newdata=test_class_sgb[,1:9],n.trees = c, type = \"response\")\n",
    "                test_class_sgb$pred = colnames(test_class_sgb$pred)[apply(test_class_sgb$pred, 1, which.max)]\n",
    "        \n",
    "                # Calculating Accuracy values as following :\n",
    "                acc_val[i] <- round(Accuracy(val$total_goals_class , val$pred),3)\n",
    "                acc_test[i] <- round(Accuracy(test_class_sgb$total_goals_class , test_class_sgb$pred),3)\n",
    "        \n",
    "            }\n",
    "\n",
    "            # Saving mean accuracy values for each combination :\n",
    "            mean_acc_val=c(mean_acc_val,mean(acc_val))\n",
    "            mean_acc_test=c(mean_acc_test,mean(acc_test))\n",
    "        }\n",
    "    }\n",
    "}\n",
    "\n",
    "indices=c()\n",
    "for (a in depth){\n",
    "    for (b in learning_rate){\n",
    "        for (c in no_trees){\n",
    "            indices=c(indices,paste0(a,\",\",b,\",\",c))\n",
    "        }\n",
    "    }\n",
    "}\n",
    "\n",
    "\n",
    "#Plotting Accuracy Values for each combination :\n",
    "plot(mean_acc_val,type=\"o\",pch=16,col=\"black\",ylim=c(0.45,1), xaxt=\"n\",xlab=\"depth, shrinkage, # of trees\"\n",
    "     ,ylab=\"Mean Accuracy\",main=\"Mean of Accuracy Values for Each Combination\")\n",
    "points(mean_acc_test,type=\"o\",pch=16,col=\"red\")\n",
    "axis(side=1,at=seq_along(indices),labels=indices, cex.axis=0.45,las=2)\n",
    "legend(x = \"bottomright\" , legend = c(\"CV\",\"Test\"),col=c(\"black\",\"red\"),pch=\"-\")\n",
    "\n",
    "\n",
    "\n",
    "\n",
    "#Cross Validation for Regression :\n",
    "train_reg_sgb = train_reg_NA\n",
    "test_reg_sgb = test_reg_NA[,1:10]\n",
    "\n",
    "set.seed(1)\n",
    "indices=generateCVRuns(train_reg_sgb$total_goals,nofReplications,nFolds,stratified=TRUE)\n",
    "thisReplication=indices[[nofReplications]]\n",
    "\n",
    "\n",
    "mean_mae_val=c()\n",
    "mean_mae_test = c()\n",
    "\n",
    "for (a in depth){\n",
    "    for (b in learning_rate) {\n",
    "        for (c in no_trees) {\n",
    "            mae_val <- rep(0,nFolds)\n",
    "            mae_test <- rep(0,nFolds)\n",
    "    \n",
    "            for (i in 1:nFolds) {        \n",
    "                valindices=thisReplication[[i]]\n",
    "\n",
    "                train <- train_reg_sgb[-valindices,]\n",
    "                val <- train_reg_sgb[valindices,]\n",
    "        \n",
    "                # A model is built as following :\n",
    "                sgb=gbm(total_goals ~.,data = train_reg_sgb,distribution = \"gaussian\",shrinkage = b,\n",
    "                        interaction.depth = a, n.minobsinnode = 10,n.trees = c)\n",
    "        \n",
    "                # Predicting total goals for both validation and test data sets :\n",
    "                val$pred=round(predict.gbm(object = sgb,newdata = val[,1:9],n.trees = c))\n",
    "                test_reg_sgb$pred=round(predict.gbm(object = sgb,newdata = test_reg_sgb[,1:9],n.trees = c))\n",
    "        \n",
    "                # Calculating MAE values as following :\n",
    "                mae_val[i] <- round(MAE(val$total_goals, val$pred),3)\n",
    "                mae_test[i] <- round(MAE(test_reg_sgb$total_goals, test_reg_sgb$pred),3)\n",
    "        \n",
    "            }\n",
    "\n",
    "            # Saving mean MAE values for each combination :\n",
    "            mean_mae_val=c(mean_mae_val,mean(mae_val))\n",
    "            mean_mae_test=c(mean_mae_test,mean(mae_test))\n",
    "        }\n",
    "    }\n",
    "}\n",
    "\n",
    "indices=c()\n",
    "for (a in depth){\n",
    "    for (b in learning_rate){\n",
    "        for (c in no_trees){\n",
    "            indices=c(indices,paste0(a,\",\",b,\",\",c))\n",
    "        }\n",
    "    }\n",
    "}\n",
    "\n",
    "print(\"Mean MAE Values for Validation\")\n",
    "print(mean_mae_val)\n",
    "print(\"Mean MAE Values for Test\")\n",
    "print(mean_mae_test)\n",
    "\n",
    "#Plotting MAE Values for each combination :\n",
    "plot(mean_mae_val,type=\"o\",pch=16,col=\"black\", xaxt=\"n\",xlab=\"depth, shrinkage, # of trees\"\n",
    "     ,ylab=\"Mean MAE\",main=\"Mean of MAE Values for Each Combination\")\n",
    "points(mean_mae_test,type=\"o\",pch=16,col=\"red\")\n",
    "axis(side=1,at=seq_along(indices),labels=indices, cex.axis=0.45,las=2)\n",
    "legend(x = \"topright\" , legend = c(\"CV\",\"Test\"),col=c(\"black\",\"red\"),pch=\"-\")"
   ]
  },
  {
   "cell_type": "markdown",
   "metadata": {},
   "source": [
    "#### In conclusion,  while depth = 10, shrinkage=0.05, number of trees=500 combination is the best for classification problem, depth=10, shrinkage=0.1, number of trees = 500 combination is the best for regression problem with stochastic gradient boosting under these assumptions."
   ]
  },
  {
   "cell_type": "markdown",
   "metadata": {},
   "source": [
    "# TASK 4"
   ]
  },
  {
   "cell_type": "markdown",
   "metadata": {},
   "source": [
    "#### According to parameters which are chosen in Task 3, models are constructed for each method as following : "
   ]
  },
  {
   "cell_type": "code",
   "execution_count": 28,
   "metadata": {},
   "outputs": [
    {
     "name": "stderr",
     "output_type": "stream",
     "text": [
      "Warning message in randomForest.default(m, y, ...):\n",
      "\"invalid mtry: reset to within valid range\""
     ]
    },
    {
     "data": {
      "text/html": [
       "<table>\n",
       "<thead><tr><th></th><th scope=col>Accuracy</th><th scope=col>MAE</th></tr></thead>\n",
       "<tbody>\n",
       "\t<tr><th scope=row>Penalized Regression</th><td>0.60 </td><td>1.112</td></tr>\n",
       "\t<tr><th scope=row>Decision Tree</th><td>0.58 </td><td>1.101</td></tr>\n",
       "\t<tr><th scope=row>Random Forest</th><td>0.82 </td><td>0.707</td></tr>\n",
       "\t<tr><th scope=row>Stoch. Gra. Boosting</th><td>0.81 </td><td>0.778</td></tr>\n",
       "</tbody>\n",
       "</table>\n"
      ],
      "text/latex": [
       "\\begin{tabular}{r|ll}\n",
       "  & Accuracy & MAE\\\\\n",
       "\\hline\n",
       "\tPenalized Regression & 0.60  & 1.112\\\\\n",
       "\tDecision Tree & 0.58  & 1.101\\\\\n",
       "\tRandom Forest & 0.82  & 0.707\\\\\n",
       "\tStoch. Gra. Boosting & 0.81  & 0.778\\\\\n",
       "\\end{tabular}\n"
      ],
      "text/markdown": [
       "\n",
       "| <!--/--> | Accuracy | MAE |\n",
       "|---|---|---|\n",
       "| Penalized Regression | 0.60  | 1.112 |\n",
       "| Decision Tree | 0.58  | 1.101 |\n",
       "| Random Forest | 0.82  | 0.707 |\n",
       "| Stoch. Gra. Boosting | 0.81  | 0.778 |\n",
       "\n"
      ],
      "text/plain": [
       "                     Accuracy MAE  \n",
       "Penalized Regression 0.60     1.112\n",
       "Decision Tree        0.58     1.101\n",
       "Random Forest        0.82     0.707\n",
       "Stoch. Gra. Boosting 0.81     0.778"
      ]
     },
     "metadata": {},
     "output_type": "display_data"
    }
   ],
   "source": [
    "Summary = matrix(nrow=4,ncol=2)\n",
    "colnames(Summary) = c(\"Accuracy\",\"MAE\")\n",
    "rownames(Summary) = c(\"Penalized Regression\", \"Decision Tree\",\"Random Forest\",\"Stoch. Gra. Boosting\")\n",
    "\n",
    "\n",
    "#PENALIZED REGRESSION\n",
    "#For penalized regression, lambda is chosen as 0 for classification problem in Task 3.\n",
    "#Building the penalized regression model for classification as following:\n",
    "train_class_pr <- train_class\n",
    "test_class_pr <- test_class[,1:10]\n",
    "class_pr=glmnet(as.matrix(train_class_pr[,1:9]),train_class_pr[,10],family=\"binomial\", lambda=0)\n",
    "test_class_pr$pred=predict(class_pr,newx=as.matrix(test_class_pr[,1:9]),type=\"class\")\n",
    "Summary[1,1] = round(Accuracy(test_class_pr$total_goals_class, test_class_pr$pred),2)\n",
    "\n",
    "#For penalized regression, lambda is chosen as 0.2 for regression problem in Task 3.\n",
    "#Building the penalized regression model for regression as following:\n",
    "train_reg_pr <- train_reg_NA\n",
    "test_reg_pr <- test_reg_NA[,1:10]\n",
    "reg_pr=glmnet(as.matrix(train_reg_pr[,1:9]),train_reg_pr[,10], family=\"gaussian\", lambda=0.2)\n",
    "test_reg_pr$pred=predict(reg_pr,newx=as.matrix(test_reg_pr[,1:9]))\n",
    "Summary[1,2] = round(MAE(test_reg_pr$total_goals , test_reg_pr$pred),3)\n",
    "\n",
    "\n",
    "#DECISION TREE\n",
    "#For decision tree, cp = 0.05 and min_obs = 10 values are chosen for classification in Task 3.\n",
    "#Building the decision tree for classification as following:\n",
    "train_class_dt <- train_class\n",
    "test_class_dt <- test_class[,1:10]\n",
    "class_dt=rpart(total_goals_class~.,data=train_class_dt,method='class',control=rpart.control(cp=0.05,minobsinnode = 10))\n",
    "test_class_dt$pred=predict(class_dt, newdata=test_class_dt[,1:9],type=\"class\")\n",
    "Summary[2,1]=round(Accuracy(test_class_dt$total_goals_class , test_class_dt$pred),2)\n",
    "\n",
    "#For decision tree, cp = 0.1 and min_obs = 10 values are chosen for regression in Task 3.\n",
    "#Building the decision tree for regression as following:\n",
    "train_reg_dt <- train_reg_NA\n",
    "test_reg_dt <- test_reg_NA[,1:10]\n",
    "reg_dt=rpart(total_goals~.,data=train_reg_dt,control=rpart.control(cp=0.1,minobsinnode = 10))\n",
    "test_reg_dt$pred=round(predict(reg_dt, newdata=test_reg_dt[,1:9]))\n",
    "Summary[2,2] = round(MAE(test_reg_dt$total_goals , test_reg_dt$pred),3)\n",
    "\n",
    "\n",
    "#RANDOM FOREST\n",
    "#For random forest, m=9 is chosen for classification problem in Task 3.\n",
    "#Building the random forest model for classification as following:\n",
    "train_class_rf <- train_class\n",
    "test_class_rf <- test_class[,1:10]\n",
    "class_rf = randomForest(total_goals_class~.,data=na.roughfix(train_class_rf),mtry=9,minobsinnode = 10,na.action=na.roughfix)\n",
    "test_class_rf$pred=predict(class_rf, newdata=na.roughfix(test_class_rf[,1:9]))\n",
    "Summary[3,1] = round(Accuracy(test_class_rf$total_goals_class , test_class_rf$pred),2)\n",
    "\n",
    "#For random forest, m=12 is chosen for regression problem in Task 3.\n",
    "#Building the decision tree for regression as following:\n",
    "train_reg_rf <- train_reg_NA\n",
    "test_reg_rf <- test_reg_NA[,1:10]\n",
    "reg_rf = randomForest(total_goals~.,data=na.roughfix(train_reg_rf),mtry=12,minobsinnode = 10,na.action=na.roughfix)\n",
    "test_reg_rf$pred=round(predict(reg_rf, newdata=na.roughfix(test_reg_rf[,1:9])))\n",
    "Summary[3,2] = round(MAE(test_reg_rf$total_goals, test_reg_rf$pred),3)\n",
    "\n",
    "\n",
    "#STOCHASTIC GRADIENT BOOSTING \n",
    "#For stochastic gradient boosting, depth = 10, shrinkage=0.05, number of trees=500 combination is chosen in Task 3.\n",
    "#Building the stochastic gradient boosting model for classification as following:\n",
    "train_class_sgb = train_class\n",
    "test_class_sgb = test_class[,1:10]\n",
    "class_sgb = gbm(total_goals_class ~.,data = train_class_sgb,distribution = \"multinomial\",shrinkage = 0.05,\n",
    "                interaction.depth = 10, n.minobsinnode = 10,n.trees = 500)\n",
    "test_class_sgb$pred=predict.gbm(object = class_sgb,newdata = test_class_sgb[,1:9],n.trees = 100, type = \"response\")\n",
    "test_class_sgb$pred = colnames(test_class_sgb$pred)[apply(test_class_sgb$pred, 1, which.max)]\n",
    "Summary[4,1] = round(Accuracy(test_class_sgb$total_goals_class , test_class_sgb$pred),2)\n",
    "\n",
    "#For stochastic gradient boosting, depth=10, shrinkage=0.1, number of trees = 500 combination is chosen in Task 3.\n",
    "#Building the stochastic gradient boosting for regression as following:\n",
    "train_reg_sgb = train_reg_NA\n",
    "test_reg_sgb = test_reg_NA[,1:10]\n",
    "reg_sgb = gbm(total_goals~.,data = train_reg_sgb, shrinkage = 0.1,distribution = \"gaussian\",interaction.depth = 10,\n",
    "              n.minobsinnode = 10,n.trees = 500)\n",
    "test_reg_sgb$pred=round(predict.gbm(object = reg_sgb,newdata = test_reg_sgb[,1:9],n.trees = 100))\n",
    "Summary[4,2] = round(MAE(test_reg_sgb$total_goals , test_reg_sgb$pred),3)\n",
    "Summary"
   ]
  },
  {
   "cell_type": "markdown",
   "metadata": {},
   "source": [
    "#### In conclusion,  Random Forest method has the best performance for both classification and regression problems.\n",
    "\n",
    "#### In general, cross-validation error and test error are consistent between each other, since changes in CV-error and test error have similar shape in the plot. For random forest and stochastic gradient boosting methods, it can be seen some inconsistency between CV-error and test-error; however, since the values obtained are quite close to each other, it can be evaluated as not so much important. \n",
    "\n",
    "#### When we look at the plots in Task 3, it can be added some remarks about overfitting and underfitting situations. For penalized regression, when lambda is equal to 0.2, this situation is best for classification, but it is underfitting situation for regression. In addition, when lambda is greater than 0.2, it is overfitting for classification, however, it is best and the same values for regression. \n",
    "\n",
    "#### For decision tree, when cp equals to 0.05, it is best for classification, but it is underfitting for regression. Moreover, when cp is greater than 0.05, it is overfitting for classification, however,  it is best and the same values for regression. Also, as mentioned earlier, min_obs value doesn't affect the result for decision tree for this data.\n",
    "\n",
    "\n",
    "#### For both random forest and stochastic gradient boosting, we can't say anything about underfitting and overfitting. It can be said that parameters can be changed, later it can be evaluated again. Under these assumptions, we can't say anything according to plots."
   ]
  }
 ],
 "metadata": {
  "kernelspec": {
   "display_name": "R",
   "language": "R",
   "name": "ir"
  },
  "language_info": {
   "codemirror_mode": "r",
   "file_extension": ".r",
   "mimetype": "text/x-r-source",
   "name": "R",
   "pygments_lexer": "r",
   "version": "3.6.1"
  }
 },
 "nbformat": 4,
 "nbformat_minor": 2
}
