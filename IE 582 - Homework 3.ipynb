{
 "cells": [
  {
   "cell_type": "markdown",
   "metadata": {},
   "source": [
    "# IE 582 - HOMEWORK 3\n",
    "\n",
    "## Gizem Güneş"
   ]
  },
  {
   "cell_type": "markdown",
   "metadata": {},
   "source": [
    "### Since 27-03-2016 data is missing, data includes the dates between  28-03-2016 and 10-11-2019 is used. Also, test data includes the dates after 01-11-2019 and 10-11-2019.  "
   ]
  },
  {
   "cell_type": "code",
   "execution_count": 109,
   "metadata": {},
   "outputs": [
    {
     "name": "stdout",
     "output_type": "stream",
     "text": [
      "package 'caret' successfully unpacked and MD5 sums checked\n",
      "\n",
      "The downloaded binary packages are in\n",
      "\tC:\\Users\\gizem\\AppData\\Local\\Temp\\Rtmp6BDFYN\\downloaded_packages\n"
     ]
    },
    {
     "ename": "ERROR",
     "evalue": "Error: package or namespace load failed for 'caret' in loadNamespace(i, c(lib.loc, .libPaths()), versionCheck = vI[[i]]):\n namespace 'rlang' 0.3.4 is already loaded, but >= 0.4.0 is required\n",
     "output_type": "error",
     "traceback": [
      "Error: package or namespace load failed for 'caret' in loadNamespace(i, c(lib.loc, .libPaths()), versionCheck = vI[[i]]):\n namespace 'rlang' 0.3.4 is already loaded, but >= 0.4.0 is required\nTraceback:\n",
      "1. library(caret)",
      "2. tryCatch({\n .     attr(package, \"LibPath\") <- which.lib.loc\n .     ns <- loadNamespace(package, lib.loc)\n .     env <- attachNamespace(ns, pos = pos, deps, exclude, include.only)\n . }, error = function(e) {\n .     P <- if (!is.null(cc <- conditionCall(e))) \n .         paste(\" in\", deparse(cc)[1L])\n .     else \"\"\n .     msg <- gettextf(\"package or namespace load failed for %s%s:\\n %s\", \n .         sQuote(package), P, conditionMessage(e))\n .     if (logical.return) \n .         message(paste(\"Error:\", msg), domain = NA)\n .     else stop(msg, call. = FALSE, domain = NA)\n . })",
      "3. tryCatchList(expr, classes, parentenv, handlers)",
      "4. tryCatchOne(expr, names, parentenv, handlers[[1L]])",
      "5. value[[3L]](cond)",
      "6. stop(msg, call. = FALSE, domain = NA)"
     ]
    }
   ],
   "source": [
    "install.packages(\"caret\")\n",
    "library(glmnet)\n",
    "library(lubridate)\n",
    "library(tidyr)\n",
    "library(dplyr)\n",
    "library(caret)\n",
    "library(data.table)"
   ]
  },
  {
   "cell_type": "code",
   "execution_count": 110,
   "metadata": {},
   "outputs": [
    {
     "name": "stdout",
     "output_type": "stream",
     "text": [
      "'data.frame':\t31752 obs. of  3 variables:\n",
      " $ Date       : Factor w/ 1323 levels \"01.01.2017\",\"01.01.2018\",..: 1178 1178 1178 1178 1178 1178 1178 1178 1178 1178 ...\n",
      " $ Hour       : Factor w/ 24 levels \"00:00\",\"01:00\",..: 1 2 3 4 5 6 7 8 9 10 ...\n",
      " $ Consumption: Factor w/ 31432 levels \"17.796,48\",\"17.940,44\",..: 4910 1950 985 673 622 765 989 2895 12763 19840 ...\n"
     ]
    }
   ],
   "source": [
    "#Data is read and column names are changed as following :\n",
    "data = read.csv('C:/Users/gizem/Desktop/MS-3/IE582 - Data Mining/Homeworks - gizemgunes/HW3/Data.csv', header = T, sep=\",\")\n",
    "colnames(data) = c(\"Date\", \"Hour\", \"Consumption\")\n",
    "str(data) #All features are shown as Factor, so their types need to be changed.\n"
   ]
  },
  {
   "cell_type": "code",
   "execution_count": 111,
   "metadata": {},
   "outputs": [
    {
     "name": "stdout",
     "output_type": "stream",
     "text": [
      "'data.frame':\t31752 obs. of  4 variables:\n",
      " $ fullDate   : POSIXlt, format: \"2016-03-28 00:00:00\" \"2016-03-28 01:00:00\" ...\n",
      " $ Date       : Date, format: \"2016-03-28\" \"2016-03-28\" ...\n",
      " $ Hour       : num  0 1 2 3 4 5 6 7 8 9 ...\n",
      " $ Consumption: num  27358 25457 24328 23679 23560 ...\n"
     ]
    }
   ],
   "source": [
    "#Type of Date Feature is changed as following :\n",
    "data$Date = as.Date(data$Date, format=\"%d.%m.%Y\")\n",
    "\n",
    "#When types of features are changed by as.numeric function, it is observed that values are changed, so data is broken.\n",
    "#Therefore, long way is chosen for changing their types as following :\n",
    "data = separate (data, Hour, into = c(\"Hour\", \"Minute\"), sep = \":\", remove = TRUE)\n",
    "data = data[,-3]\n",
    "data$Hour = as.numeric(data$Hour)\n",
    "data$fullDate = data$Date + hours(data$Hour)\n",
    "\n",
    "data = separate(data, Consumption, into=c(\"First\",\"Second\"), sep = \",\" , remove=FALSE)\n",
    "data$First = as.numeric(data$First)\n",
    "data$Second = as.numeric(data$Second)\n",
    "data$First = as.numeric(data$First) * 1000\n",
    "data$Second = data$Second / 100\n",
    "data$Consumption = data$First + data$Second\n",
    "data = data %>% select(fullDate, everything())\n",
    "data = data[,c(1:4)]\n",
    "\n",
    "str(data) #Types of features seem as needed.\n"
   ]
  },
  {
   "cell_type": "markdown",
   "metadata": {},
   "source": [
    "# Task A"
   ]
  },
  {
   "cell_type": "code",
   "execution_count": 112,
   "metadata": {},
   "outputs": [],
   "source": [
    "#Lag48 and Lag168 features are created as following :\n",
    "A_Data = data\n",
    "A_Data$Naive_Lag48 = NA\n",
    "A_Data$Naive_Lag168 = NA\n",
    "for (i in 49:nrow(A_Data)) {\n",
    "  A_Data[i,5] = A_Data[(i-48),4]\n",
    "  i = i+1 }\n",
    "for (i in 169:nrow(A_Data)) {\n",
    "  A_Data[i,6] = A_Data[(i-168),4]\n",
    "  i = i+1 }"
   ]
  },
  {
   "cell_type": "code",
   "execution_count": 113,
   "metadata": {},
   "outputs": [],
   "source": [
    "#Test data is created as following :\n",
    "A_Data = A_Data[A_Data$Date >=\"2019-11-01\",]"
   ]
  },
  {
   "cell_type": "code",
   "execution_count": 114,
   "metadata": {},
   "outputs": [],
   "source": [
    "#MAPE values are calculated as following :\n",
    "A_Data$Per_Abs_Error_Lag48 = round((abs(A_Data$Consumption - A_Data$Naive_Lag48) / A_Data$Consumption * 100), 2)\n",
    "A_Data$Per_Abs_Error_Lag168 = round((abs(A_Data$Consumption - A_Data$Naive_Lag168) / A_Data$Consumption * 100), 2)\n"
   ]
  },
  {
   "cell_type": "code",
   "execution_count": 115,
   "metadata": {},
   "outputs": [
    {
     "data": {
      "text/html": [
       "<table>\n",
       "<thead><tr><th scope=col>Model</th><th scope=col>MAPE</th><th scope=col>Std.Deviation</th></tr></thead>\n",
       "<tbody>\n",
       "\t<tr><td>Lag48 </td><td>7.81 %</td><td>9.04 %</td></tr>\n",
       "\t<tr><td>Lag168</td><td>4.04 %</td><td>4.66 %</td></tr>\n",
       "</tbody>\n",
       "</table>\n"
      ],
      "text/latex": [
       "\\begin{tabular}{r|lll}\n",
       " Model & MAPE & Std.Deviation\\\\\n",
       "\\hline\n",
       "\t Lag48    & 7.81 \\% & 9.04 \\%\\\\\n",
       "\t Lag168   & 4.04 \\% & 4.66 \\%\\\\\n",
       "\\end{tabular}\n"
      ],
      "text/markdown": [
       "\n",
       "| Model | MAPE | Std.Deviation |\n",
       "|---|---|---|\n",
       "| Lag48  | 7.81 % | 9.04 % |\n",
       "| Lag168 | 4.04 % | 4.66 % |\n",
       "\n"
      ],
      "text/plain": [
       "  Model  MAPE   Std.Deviation\n",
       "1 Lag48  7.81 % 9.04 %       \n",
       "2 Lag168 4.04 % 4.66 %       "
      ]
     },
     "metadata": {},
     "output_type": "display_data"
    }
   ],
   "source": [
    "#Summary table is created as following :\n",
    "Model = c(\"Lag48\", \"Lag168\")\n",
    "MAPE = c(paste(round(mean(A_Data$Per_Abs_Error_Lag48),2),\"%\"),paste(round(mean(A_Data$Per_Abs_Error_Lag168),2),\"%\")) \n",
    "Std.Deviation = c(paste(round(sd(A_Data$Per_Abs_Error_Lag48),2),\"%\"),paste(round(sd(A_Data$Per_Abs_Error_Lag168),2),\"%\"))\n",
    "\n",
    "A_MAPE = data.frame(Model, MAPE, Std.Deviation)\n",
    "A_MAPE"
   ]
  },
  {
   "cell_type": "markdown",
   "metadata": {},
   "source": [
    "#### Therefore, it is observed that performance of Lag_168 is better."
   ]
  },
  {
   "cell_type": "markdown",
   "metadata": {},
   "source": [
    "# TASK B"
   ]
  },
  {
   "cell_type": "code",
   "execution_count": 116,
   "metadata": {},
   "outputs": [
    {
     "data": {
      "text/plain": [
       "\n",
       " FALSE   TRUE \n",
       "190296    216 "
      ]
     },
     "metadata": {},
     "output_type": "display_data"
    }
   ],
   "source": [
    "#Data preparation :\n",
    "B_Data = data\n",
    "B_Data$Lag48 = NA\n",
    "B_Data$Lag168 = NA\n",
    "for (i in 49:nrow(B_Data)) {\n",
    "  B_Data[i,5] = B_Data[(i-48),4]\n",
    "  i = i+1 }\n",
    "for (i in 169:nrow(B_Data)) {\n",
    "  B_Data[i,6] = B_Data[(i-168),4]\n",
    "  i = i+1 }\n",
    "\n",
    "table(is.na.data.frame(B_Data))"
   ]
  },
  {
   "cell_type": "code",
   "execution_count": 117,
   "metadata": {},
   "outputs": [],
   "source": [
    "#Since there are NA values, so we remove first 7 days as following :\n",
    "B_Data = B_Data[B_Data$Date >= (min(B_Data$Date) + days(7)),]"
   ]
  },
  {
   "cell_type": "code",
   "execution_count": 118,
   "metadata": {},
   "outputs": [
    {
     "data": {
      "text/html": [
       "<table>\n",
       "<thead><tr><th></th><th scope=col>fullDate</th><th scope=col>Date</th><th scope=col>Hour</th><th scope=col>Lag48</th><th scope=col>Lag168</th><th scope=col>Consumption</th></tr></thead>\n",
       "<tbody>\n",
       "\t<tr><th scope=row>169</th><td>2016-04-04 00:00:00</td><td>2016-04-04         </td><td>0                  </td><td>28487.31           </td><td>27358.43           </td><td>26079.65           </td></tr>\n",
       "\t<tr><th scope=row>170</th><td>2016-04-04 01:00:00</td><td>2016-04-04         </td><td>1                  </td><td>27017.06           </td><td>25456.57           </td><td>24600.38           </td></tr>\n",
       "\t<tr><th scope=row>171</th><td>2016-04-04 02:00:00</td><td>2016-04-04         </td><td>2                  </td><td>25924.33           </td><td>24328.06           </td><td>23402.93           </td></tr>\n",
       "\t<tr><th scope=row>172</th><td>2016-04-04 03:00:00</td><td>2016-04-04         </td><td>3                  </td><td>25080.56           </td><td>23678.54           </td><td>22927.60           </td></tr>\n",
       "\t<tr><th scope=row>173</th><td>2016-04-04 04:00:00</td><td>2016-04-04         </td><td>4                  </td><td>24928.11           </td><td>23560.31           </td><td>22869.51           </td></tr>\n",
       "\t<tr><th scope=row>174</th><td>2016-04-04 05:00:00</td><td>2016-04-04         </td><td>5                  </td><td>25285.42           </td><td>23899.49           </td><td>23315.44           </td></tr>\n",
       "</tbody>\n",
       "</table>\n"
      ],
      "text/latex": [
       "\\begin{tabular}{r|llllll}\n",
       "  & fullDate & Date & Hour & Lag48 & Lag168 & Consumption\\\\\n",
       "\\hline\n",
       "\t169 & 2016-04-04 00:00:00 & 2016-04-04          & 0                   & 28487.31            & 27358.43            & 26079.65           \\\\\n",
       "\t170 & 2016-04-04 01:00:00 & 2016-04-04          & 1                   & 27017.06            & 25456.57            & 24600.38           \\\\\n",
       "\t171 & 2016-04-04 02:00:00 & 2016-04-04          & 2                   & 25924.33            & 24328.06            & 23402.93           \\\\\n",
       "\t172 & 2016-04-04 03:00:00 & 2016-04-04          & 3                   & 25080.56            & 23678.54            & 22927.60           \\\\\n",
       "\t173 & 2016-04-04 04:00:00 & 2016-04-04          & 4                   & 24928.11            & 23560.31            & 22869.51           \\\\\n",
       "\t174 & 2016-04-04 05:00:00 & 2016-04-04          & 5                   & 25285.42            & 23899.49            & 23315.44           \\\\\n",
       "\\end{tabular}\n"
      ],
      "text/markdown": [
       "\n",
       "| <!--/--> | fullDate | Date | Hour | Lag48 | Lag168 | Consumption |\n",
       "|---|---|---|---|---|---|---|\n",
       "| 169 | 2016-04-04 00:00:00 | 2016-04-04          | 0                   | 28487.31            | 27358.43            | 26079.65            |\n",
       "| 170 | 2016-04-04 01:00:00 | 2016-04-04          | 1                   | 27017.06            | 25456.57            | 24600.38            |\n",
       "| 171 | 2016-04-04 02:00:00 | 2016-04-04          | 2                   | 25924.33            | 24328.06            | 23402.93            |\n",
       "| 172 | 2016-04-04 03:00:00 | 2016-04-04          | 3                   | 25080.56            | 23678.54            | 22927.60            |\n",
       "| 173 | 2016-04-04 04:00:00 | 2016-04-04          | 4                   | 24928.11            | 23560.31            | 22869.51            |\n",
       "| 174 | 2016-04-04 05:00:00 | 2016-04-04          | 5                   | 25285.42            | 23899.49            | 23315.44            |\n",
       "\n"
      ],
      "text/plain": [
       "    fullDate            Date       Hour Lag48    Lag168   Consumption\n",
       "169 2016-04-04 00:00:00 2016-04-04 0    28487.31 27358.43 26079.65   \n",
       "170 2016-04-04 01:00:00 2016-04-04 1    27017.06 25456.57 24600.38   \n",
       "171 2016-04-04 02:00:00 2016-04-04 2    25924.33 24328.06 23402.93   \n",
       "172 2016-04-04 03:00:00 2016-04-04 3    25080.56 23678.54 22927.60   \n",
       "173 2016-04-04 04:00:00 2016-04-04 4    24928.11 23560.31 22869.51   \n",
       "174 2016-04-04 05:00:00 2016-04-04 5    25285.42 23899.49 23315.44   "
      ]
     },
     "metadata": {},
     "output_type": "display_data"
    }
   ],
   "source": [
    "#Ordering columns of the data :\n",
    "B_Data = B_Data %>% select(fullDate, Date, Hour, Lag48, Lag168, Consumption)\n",
    "head(B_Data)"
   ]
  },
  {
   "cell_type": "code",
   "execution_count": 119,
   "metadata": {},
   "outputs": [],
   "source": [
    "#Data is divided into two parts as training and test data :\n",
    "B_training = B_Data[B_Data$Date < \"2019-11-01\",]\n",
    "B_test = B_Data[B_Data$Date >= \"2019-11-01\",]\n"
   ]
  },
  {
   "cell_type": "code",
   "execution_count": 120,
   "metadata": {},
   "outputs": [
    {
     "data": {
      "text/html": [
       "<table>\n",
       "<thead><tr><th></th><th scope=col>Lag48</th><th scope=col>Lag168</th><th scope=col>Consumption</th></tr></thead>\n",
       "<tbody>\n",
       "\t<tr><th scope=row>Lag48</th><td>1.0000000</td><td>0.6464991</td><td>0.7300922</td></tr>\n",
       "\t<tr><th scope=row>Lag168</th><td>0.6464991</td><td>1.0000000</td><td>0.8321096</td></tr>\n",
       "\t<tr><th scope=row>Consumption</th><td>0.7300922</td><td>0.8321096</td><td>1.0000000</td></tr>\n",
       "</tbody>\n",
       "</table>\n"
      ],
      "text/latex": [
       "\\begin{tabular}{r|lll}\n",
       "  & Lag48 & Lag168 & Consumption\\\\\n",
       "\\hline\n",
       "\tLag48 & 1.0000000 & 0.6464991 & 0.7300922\\\\\n",
       "\tLag168 & 0.6464991 & 1.0000000 & 0.8321096\\\\\n",
       "\tConsumption & 0.7300922 & 0.8321096 & 1.0000000\\\\\n",
       "\\end{tabular}\n"
      ],
      "text/markdown": [
       "\n",
       "| <!--/--> | Lag48 | Lag168 | Consumption |\n",
       "|---|---|---|---|\n",
       "| Lag48 | 1.0000000 | 0.6464991 | 0.7300922 |\n",
       "| Lag168 | 0.6464991 | 1.0000000 | 0.8321096 |\n",
       "| Consumption | 0.7300922 | 0.8321096 | 1.0000000 |\n",
       "\n"
      ],
      "text/plain": [
       "            Lag48     Lag168    Consumption\n",
       "Lag48       1.0000000 0.6464991 0.7300922  \n",
       "Lag168      0.6464991 1.0000000 0.8321096  \n",
       "Consumption 0.7300922 0.8321096 1.0000000  "
      ]
     },
     "metadata": {},
     "output_type": "display_data"
    },
    {
     "data": {
      "image/png": "[encoded data removed]",
      "text/plain": [
       "plot without title"
      ]
     },
     "metadata": {},
     "output_type": "display_data"
    }
   ],
   "source": [
    "#Understanding the training data\n",
    "B_training$fullDate = as.POSIXct(B_training$fullDate)\n",
    "ggplot() + \n",
    "  geom_line(data=B_training[1:365*24,], aes(fullDate, Consumption), color='black', size=2)+\n",
    "  geom_line(data=B_training[1:365*24,], aes(fullDate, Lag48), color='blue') +\n",
    "  geom_line(data=B_training[1:365*24,], aes(fullDate, Lag168), color='red') \n",
    "cor(B_training[,c(4:6)])"
   ]
  },
  {
   "cell_type": "markdown",
   "metadata": {},
   "source": [
    "#### Lag168 has more explanation of Consumption in terms of correlation values."
   ]
  },
  {
   "cell_type": "code",
   "execution_count": 121,
   "metadata": {},
   "outputs": [],
   "source": [
    "#Linear model is constructed as following:\n",
    "linregmod = lm(Consumption ~ Lag48 + Lag168 , data=B_training) \n",
    "\n",
    "#Prediction values are calculated as following :\n",
    "B_test$Prediction = predict(linregmod, B_test, type=\"response\")"
   ]
  },
  {
   "cell_type": "code",
   "execution_count": 122,
   "metadata": {},
   "outputs": [
    {
     "data": {
      "text/html": [
       "<table>\n",
       "<thead><tr><th scope=col>Model</th><th scope=col>MAPE</th><th scope=col>Std.Deviation</th></tr></thead>\n",
       "<tbody>\n",
       "\t<tr><td>Lag48            </td><td>7.81 %           </td><td>9.04 %           </td></tr>\n",
       "\t<tr><td>Lag168           </td><td>4.04 %           </td><td>4.66 %           </td></tr>\n",
       "\t<tr><td>Linear_Regression</td><td>4.55 %           </td><td>4.94 %           </td></tr>\n",
       "</tbody>\n",
       "</table>\n"
      ],
      "text/latex": [
       "\\begin{tabular}{r|lll}\n",
       " Model & MAPE & Std.Deviation\\\\\n",
       "\\hline\n",
       "\t Lag48             & 7.81 \\%          & 9.04 \\%         \\\\\n",
       "\t Lag168            & 4.04 \\%          & 4.66 \\%         \\\\\n",
       "\t Linear\\_Regression & 4.55 \\%            & 4.94 \\%           \\\\\n",
       "\\end{tabular}\n"
      ],
      "text/markdown": [
       "\n",
       "| Model | MAPE | Std.Deviation |\n",
       "|---|---|---|\n",
       "| Lag48             | 7.81 %            | 9.04 %            |\n",
       "| Lag168            | 4.04 %            | 4.66 %            |\n",
       "| Linear_Regression | 4.55 %            | 4.94 %            |\n",
       "\n"
      ],
      "text/plain": [
       "  Model             MAPE   Std.Deviation\n",
       "1 Lag48             7.81 % 9.04 %       \n",
       "2 Lag168            4.04 % 4.66 %       \n",
       "3 Linear_Regression 4.55 % 4.94 %       "
      ]
     },
     "metadata": {},
     "output_type": "display_data"
    }
   ],
   "source": [
    "#MAPE values are calculated as following :\n",
    "B_test$Per_Abs_Error = round((abs(B_test$Consumption - B_test$Prediction) / B_test$Consumption * 100), 2)\n",
    "\n",
    "#Summary table is created as following :\n",
    "Model = \"Linear_Regression\"\n",
    "MAPE = paste(round(mean(B_test$Per_Abs_Error),2),\"%\")\n",
    "Std.Deviation = paste(round(sd(B_test$Per_Abs_Error),2),\"%\")\n",
    "B_MAPE = data.frame(Model, MAPE, Std.Deviation)\n",
    "\n",
    "Summary = rbind(A_MAPE, B_MAPE)\n",
    "Summary"
   ]
  },
  {
   "cell_type": "markdown",
   "metadata": {},
   "source": [
    "#### Therefore, it is observed that performance of Lag_168 is still better."
   ]
  },
  {
   "cell_type": "markdown",
   "metadata": {},
   "source": [
    "# TASK C"
   ]
  },
  {
   "cell_type": "code",
   "execution_count": 123,
   "metadata": {},
   "outputs": [],
   "source": [
    "#Here, training data set is the same as we used in Task B.\n",
    "#Constructing linear regression models for each hour as following :\n",
    "linregmod0 = lm(Consumption ~ Lag48 + Lag168 , data=filter(B_training, Hour == 0))\n",
    "linregmod1 = lm(Consumption ~ Lag48 + Lag168 , data=filter(B_training, Hour == 1))\n",
    "linregmod2 = lm(Consumption ~ Lag48 + Lag168 , data=filter(B_training, Hour == 2))\n",
    "linregmod3 = lm(Consumption ~ Lag48 + Lag168 , data=filter(B_training, Hour == 3))\n",
    "linregmod4 = lm(Consumption ~ Lag48 + Lag168 , data=filter(B_training, Hour == 4))\n",
    "linregmod5 = lm(Consumption ~ Lag48 + Lag168 , data=filter(B_training, Hour == 5))\n",
    "linregmod6 = lm(Consumption ~ Lag48 + Lag168 , data=filter(B_training, Hour == 6))\n",
    "linregmod7 = lm(Consumption ~ Lag48 + Lag168 , data=filter(B_training, Hour == 7))\n",
    "linregmod8 = lm(Consumption ~ Lag48 + Lag168 , data=filter(B_training, Hour == 8))\n",
    "linregmod9 = lm(Consumption ~ Lag48 + Lag168 , data=filter(B_training, Hour == 9))\n",
    "linregmod10 = lm(Consumption ~ Lag48 + Lag168 , data=filter(B_training, Hour == 10))\n",
    "linregmod11 = lm(Consumption ~ Lag48 + Lag168 , data=filter(B_training, Hour == 11))\n",
    "linregmod12 = lm(Consumption ~ Lag48 + Lag168 , data=filter(B_training, Hour == 12))\n",
    "linregmod13 = lm(Consumption ~ Lag48 + Lag168 , data=filter(B_training, Hour == 13))\n",
    "linregmod14 = lm(Consumption ~ Lag48 + Lag168 , data=filter(B_training, Hour == 14))\n",
    "linregmod15 = lm(Consumption ~ Lag48 + Lag168 , data=filter(B_training, Hour == 15))\n",
    "linregmod16 = lm(Consumption ~ Lag48 + Lag168 , data=filter(B_training, Hour == 16))\n",
    "linregmod17 = lm(Consumption ~ Lag48 + Lag168 , data=filter(B_training, Hour == 17))\n",
    "linregmod18 = lm(Consumption ~ Lag48 + Lag168 , data=filter(B_training, Hour == 18))\n",
    "linregmod19 = lm(Consumption ~ Lag48 + Lag168 , data=filter(B_training, Hour == 19))\n",
    "linregmod20 = lm(Consumption ~ Lag48 + Lag168 , data=filter(B_training, Hour == 20))\n",
    "linregmod21 = lm(Consumption ~ Lag48 + Lag168 , data=filter(B_training, Hour == 21))\n",
    "linregmod22 = lm(Consumption ~ Lag48 + Lag168 , data=filter(B_training, Hour == 22))\n",
    "linregmod23 = lm(Consumption ~ Lag48 + Lag168 , data=filter(B_training, Hour == 23))\n"
   ]
  },
  {
   "cell_type": "code",
   "execution_count": 124,
   "metadata": {},
   "outputs": [],
   "source": [
    "#Test data of Task C is created as following :\n",
    "C_test = B_test[,c(1:6)]"
   ]
  },
  {
   "cell_type": "code",
   "execution_count": 125,
   "metadata": {},
   "outputs": [],
   "source": [
    "#Prediction values are calculated as following :\n",
    "C_test$Prediction = NA\n",
    "C_test[C_test$Hour == 0,]$Prediction = predict(linregmod0, C_test[C_test$Hour == 0,], type=\"response\")\n",
    "C_test[C_test$Hour == 1,]$Prediction = predict(linregmod1, C_test[C_test$Hour == 1,], type=\"response\")\n",
    "C_test[C_test$Hour == 2,]$Prediction = predict(linregmod2, C_test[C_test$Hour == 2,], type=\"response\")\n",
    "C_test[C_test$Hour == 3,]$Prediction = predict(linregmod3, C_test[C_test$Hour == 3,], type=\"response\")\n",
    "C_test[C_test$Hour == 4,]$Prediction = predict(linregmod4, C_test[C_test$Hour == 4,], type=\"response\")\n",
    "C_test[C_test$Hour == 5,]$Prediction = predict(linregmod5, C_test[C_test$Hour == 5,], type=\"response\")\n",
    "C_test[C_test$Hour == 6,]$Prediction = predict(linregmod6, C_test[C_test$Hour == 6,], type=\"response\")\n",
    "C_test[C_test$Hour == 7,]$Prediction = predict(linregmod7, C_test[C_test$Hour == 7,], type=\"response\")\n",
    "C_test[C_test$Hour == 8,]$Prediction = predict(linregmod8, C_test[C_test$Hour == 8,], type=\"response\")\n",
    "C_test[C_test$Hour == 9,]$Prediction = predict(linregmod9, C_test[C_test$Hour == 9,], type=\"response\")\n",
    "C_test[C_test$Hour == 10,]$Prediction = predict(linregmod10, C_test[C_test$Hour == 10,], type=\"response\")\n",
    "C_test[C_test$Hour == 11,]$Prediction = predict(linregmod11, C_test[C_test$Hour == 11,], type=\"response\")\n",
    "C_test[C_test$Hour == 12,]$Prediction = predict(linregmod12, C_test[C_test$Hour == 12,], type=\"response\")\n",
    "C_test[C_test$Hour == 13,]$Prediction = predict(linregmod13, C_test[C_test$Hour == 13,], type=\"response\")\n",
    "C_test[C_test$Hour == 14,]$Prediction = predict(linregmod14, C_test[C_test$Hour == 14,], type=\"response\")\n",
    "C_test[C_test$Hour == 15,]$Prediction = predict(linregmod15, C_test[C_test$Hour == 15,], type=\"response\")\n",
    "C_test[C_test$Hour == 16,]$Prediction = predict(linregmod16, C_test[C_test$Hour == 16,], type=\"response\")\n",
    "C_test[C_test$Hour == 17,]$Prediction = predict(linregmod17, C_test[C_test$Hour == 17,], type=\"response\")\n",
    "C_test[C_test$Hour == 18,]$Prediction = predict(linregmod18, C_test[C_test$Hour == 18,], type=\"response\")\n",
    "C_test[C_test$Hour == 19,]$Prediction = predict(linregmod19, C_test[C_test$Hour == 19,], type=\"response\")\n",
    "C_test[C_test$Hour == 20,]$Prediction = predict(linregmod20, C_test[C_test$Hour == 20,], type=\"response\")\n",
    "C_test[C_test$Hour == 21,]$Prediction = predict(linregmod21, C_test[C_test$Hour == 21,], type=\"response\")\n",
    "C_test[C_test$Hour == 22,]$Prediction = predict(linregmod22, C_test[C_test$Hour == 22,], type=\"response\")\n",
    "C_test[C_test$Hour == 23,]$Prediction = predict(linregmod23, C_test[C_test$Hour == 23,], type=\"response\")\n"
   ]
  },
  {
   "cell_type": "code",
   "execution_count": 126,
   "metadata": {},
   "outputs": [],
   "source": [
    "#MAPE values are calculated as following :\n",
    "C_test$Per_Abs_Error = round((abs(C_test$Consumption - C_test$Prediction) / C_test$Consumption * 100), 2)"
   ]
  },
  {
   "cell_type": "code",
   "execution_count": 127,
   "metadata": {},
   "outputs": [
    {
     "data": {
      "text/html": [
       "<table>\n",
       "<thead><tr><th scope=col>Model</th><th scope=col>MAPE</th><th scope=col>Std.Deviation</th></tr></thead>\n",
       "<tbody>\n",
       "\t<tr><td>Lag48                       </td><td>7.81 %                      </td><td>9.04 %                      </td></tr>\n",
       "\t<tr><td>Lag168                      </td><td>4.04 %                      </td><td>4.66 %                      </td></tr>\n",
       "\t<tr><td>Linear_Regression           </td><td>4.55 %                      </td><td>4.94 %                      </td></tr>\n",
       "\t<tr><td>Linear_Regression_Separately</td><td>4.71 %                      </td><td>4.47 %                      </td></tr>\n",
       "</tbody>\n",
       "</table>\n"
      ],
      "text/latex": [
       "\\begin{tabular}{r|lll}\n",
       " Model & MAPE & Std.Deviation\\\\\n",
       "\\hline\n",
       "\t Lag48                        & 7.81 \\%                     & 9.04 \\%                    \\\\\n",
       "\t Lag168                       & 4.04 \\%                     & 4.66 \\%                    \\\\\n",
       "\t Linear\\_Regression            & 4.55 \\%                       & 4.94 \\%                      \\\\\n",
       "\t Linear\\_Regression\\_Separately & 4.71 \\%                         & 4.47 \\%                        \\\\\n",
       "\\end{tabular}\n"
      ],
      "text/markdown": [
       "\n",
       "| Model | MAPE | Std.Deviation |\n",
       "|---|---|---|\n",
       "| Lag48                        | 7.81 %                       | 9.04 %                       |\n",
       "| Lag168                       | 4.04 %                       | 4.66 %                       |\n",
       "| Linear_Regression            | 4.55 %                       | 4.94 %                       |\n",
       "| Linear_Regression_Separately | 4.71 %                       | 4.47 %                       |\n",
       "\n"
      ],
      "text/plain": [
       "  Model                        MAPE   Std.Deviation\n",
       "1 Lag48                        7.81 % 9.04 %       \n",
       "2 Lag168                       4.04 % 4.66 %       \n",
       "3 Linear_Regression            4.55 % 4.94 %       \n",
       "4 Linear_Regression_Separately 4.71 % 4.47 %       "
      ]
     },
     "metadata": {},
     "output_type": "display_data"
    }
   ],
   "source": [
    "#Summary table is created as following :\n",
    "Model = \"Linear_Regression_Separately\"\n",
    "MAPE = paste(round(mean(C_test$Per_Abs_Error),2),\"%\")\n",
    "Std.Deviation = paste(round(sd(C_test$Per_Abs_Error),2),\"%\")\n",
    "C_MAPE = data.frame(Model, MAPE, Std.Deviation)\n",
    "\n",
    "Summary = rbind(Summary, C_MAPE)\n",
    "Summary"
   ]
  },
  {
   "cell_type": "markdown",
   "metadata": {},
   "source": [
    "#### While Lag168 model has lowest MAPE value, Linear Regression Model constructed seperately for each hour has lowest std. deviation value of MAPEs. "
   ]
  },
  {
   "cell_type": "markdown",
   "metadata": {},
   "source": [
    "# TASK D"
   ]
  },
  {
   "cell_type": "code",
   "execution_count": 128,
   "metadata": {},
   "outputs": [
    {
     "data": {
      "text/html": [
       "<table>\n",
       "<thead><tr><th scope=col>Date</th><th scope=col>Lag48_Hour_ 0</th><th scope=col>Lag48_Hour_ 1</th><th scope=col>Lag48_Hour_ 2</th><th scope=col>Lag48_Hour_ 3</th><th scope=col>Lag48_Hour_ 4</th><th scope=col>Lag48_Hour_ 5</th><th scope=col>Lag48_Hour_ 6</th><th scope=col>Lag48_Hour_ 7</th><th scope=col>Lag48_Hour_ 8</th><th scope=col>...</th><th scope=col>Consumption_ 14</th><th scope=col>Consumption_ 15</th><th scope=col>Consumption_ 16</th><th scope=col>Consumption_ 17</th><th scope=col>Consumption_ 18</th><th scope=col>Consumption_ 19</th><th scope=col>Consumption_ 20</th><th scope=col>Consumption_ 21</th><th scope=col>Consumption_ 22</th><th scope=col>Consumption_ 23</th></tr></thead>\n",
       "<tbody>\n",
       "\t<tr><td>2016-04-04</td><td>28487.31  </td><td>27017.06  </td><td>25924.33  </td><td>25080.56  </td><td>24928.11  </td><td>25285.42  </td><td>24922.81  </td><td>25584.85  </td><td>29146.65  </td><td>...       </td><td>32644.11  </td><td>32243.35  </td><td>32229.79  </td><td>31454.62  </td><td>30783.21  </td><td>32222.33  </td><td>32853.00  </td><td>31994.06  </td><td>31663.93  </td><td>30429.55  </td></tr>\n",
       "\t<tr><td>2016-04-05</td><td>27420.33  </td><td>25842.86  </td><td>24653.26  </td><td>23889.59  </td><td>23522.28  </td><td>23615.04  </td><td>22598.46  </td><td>22171.60  </td><td>23433.40  </td><td>...       </td><td>32801.94  </td><td>32635.72  </td><td>32333.69  </td><td>31588.33  </td><td>31000.35  </td><td>32334.31  </td><td>32901.27  </td><td>32180.06  </td><td>32111.50  </td><td>30539.70  </td></tr>\n",
       "\t<tr><td>2016-04-06</td><td>26079.65  </td><td>24600.38  </td><td>23402.93  </td><td>22927.60  </td><td>22869.51  </td><td>23315.44  </td><td>23666.79  </td><td>25571.12  </td><td>30441.77  </td><td>...       </td><td>32451.89  </td><td>32528.88  </td><td>32393.37  </td><td>31777.87  </td><td>30979.57  </td><td>32241.74  </td><td>33033.09  </td><td>32068.88  </td><td>31987.30  </td><td>30374.26  </td></tr>\n",
       "\t<tr><td>2016-04-07</td><td>27889.85  </td><td>26573.18  </td><td>25691.26  </td><td>25157.10  </td><td>24773.33  </td><td>25361.68  </td><td>25516.28  </td><td>27108.15  </td><td>31445.59  </td><td>...       </td><td>32984.71  </td><td>33155.30  </td><td>33100.56  </td><td>31993.59  </td><td>30964.80  </td><td>32044.67  </td><td>32882.05  </td><td>31933.07  </td><td>31973.92  </td><td>30373.33  </td></tr>\n",
       "\t<tr><td>2016-04-08</td><td>28278.69  </td><td>26502.82  </td><td>25563.32  </td><td>25153.62  </td><td>25011.69  </td><td>25465.72  </td><td>25446.77  </td><td>26953.23  </td><td>31221.55  </td><td>...       </td><td>32727.47  </td><td>32926.93  </td><td>32962.19  </td><td>31943.31  </td><td>31115.31  </td><td>32089.97  </td><td>32880.36  </td><td>31921.50  </td><td>31690.09  </td><td>30172.68  </td></tr>\n",
       "\t<tr><td>2016-04-09</td><td>28309.86  </td><td>26660.48  </td><td>25823.55  </td><td>25401.09  </td><td>25253.35  </td><td>25486.53  </td><td>25370.80  </td><td>26963.21  </td><td>31317.28  </td><td>...       </td><td>31568.72  </td><td>30948.61  </td><td>30155.70  </td><td>29192.62  </td><td>29311.67  </td><td>30483.07  </td><td>31060.72  </td><td>30195.74  </td><td>30006.89  </td><td>28849.37  </td></tr>\n",
       "</tbody>\n",
       "</table>\n"
      ],
      "text/latex": [
       "\\begin{tabular}{r|lllllllllllllllllllllllllllllllllllllllllllllllllllllllllllllllllllllllll}\n",
       " Date & Lag48\\_Hour\\_ 0 & Lag48\\_Hour\\_ 1 & Lag48\\_Hour\\_ 2 & Lag48\\_Hour\\_ 3 & Lag48\\_Hour\\_ 4 & Lag48\\_Hour\\_ 5 & Lag48\\_Hour\\_ 6 & Lag48\\_Hour\\_ 7 & Lag48\\_Hour\\_ 8 & ... & Consumption\\_ 14 & Consumption\\_ 15 & Consumption\\_ 16 & Consumption\\_ 17 & Consumption\\_ 18 & Consumption\\_ 19 & Consumption\\_ 20 & Consumption\\_ 21 & Consumption\\_ 22 & Consumption\\_ 23\\\\\n",
       "\\hline\n",
       "\t 2016-04-04 & 28487.31   & 27017.06   & 25924.33   & 25080.56   & 24928.11   & 25285.42   & 24922.81   & 25584.85   & 29146.65   & ...        & 32644.11   & 32243.35   & 32229.79   & 31454.62   & 30783.21   & 32222.33   & 32853.00   & 31994.06   & 31663.93   & 30429.55  \\\\\n",
       "\t 2016-04-05 & 27420.33   & 25842.86   & 24653.26   & 23889.59   & 23522.28   & 23615.04   & 22598.46   & 22171.60   & 23433.40   & ...        & 32801.94   & 32635.72   & 32333.69   & 31588.33   & 31000.35   & 32334.31   & 32901.27   & 32180.06   & 32111.50   & 30539.70  \\\\\n",
       "\t 2016-04-06 & 26079.65   & 24600.38   & 23402.93   & 22927.60   & 22869.51   & 23315.44   & 23666.79   & 25571.12   & 30441.77   & ...        & 32451.89   & 32528.88   & 32393.37   & 31777.87   & 30979.57   & 32241.74   & 33033.09   & 32068.88   & 31987.30   & 30374.26  \\\\\n",
       "\t 2016-04-07 & 27889.85   & 26573.18   & 25691.26   & 25157.10   & 24773.33   & 25361.68   & 25516.28   & 27108.15   & 31445.59   & ...        & 32984.71   & 33155.30   & 33100.56   & 31993.59   & 30964.80   & 32044.67   & 32882.05   & 31933.07   & 31973.92   & 30373.33  \\\\\n",
       "\t 2016-04-08 & 28278.69   & 26502.82   & 25563.32   & 25153.62   & 25011.69   & 25465.72   & 25446.77   & 26953.23   & 31221.55   & ...        & 32727.47   & 32926.93   & 32962.19   & 31943.31   & 31115.31   & 32089.97   & 32880.36   & 31921.50   & 31690.09   & 30172.68  \\\\\n",
       "\t 2016-04-09 & 28309.86   & 26660.48   & 25823.55   & 25401.09   & 25253.35   & 25486.53   & 25370.80   & 26963.21   & 31317.28   & ...        & 31568.72   & 30948.61   & 30155.70   & 29192.62   & 29311.67   & 30483.07   & 31060.72   & 30195.74   & 30006.89   & 28849.37  \\\\\n",
       "\\end{tabular}\n"
      ],
      "text/markdown": [
       "\n",
       "| Date | Lag48_Hour_ 0 | Lag48_Hour_ 1 | Lag48_Hour_ 2 | Lag48_Hour_ 3 | Lag48_Hour_ 4 | Lag48_Hour_ 5 | Lag48_Hour_ 6 | Lag48_Hour_ 7 | Lag48_Hour_ 8 | ... | Consumption_ 14 | Consumption_ 15 | Consumption_ 16 | Consumption_ 17 | Consumption_ 18 | Consumption_ 19 | Consumption_ 20 | Consumption_ 21 | Consumption_ 22 | Consumption_ 23 |\n",
       "|---|---|---|---|---|---|---|---|---|---|---|---|---|---|---|---|---|---|---|---|---|\n",
       "| 2016-04-04 | 28487.31   | 27017.06   | 25924.33   | 25080.56   | 24928.11   | 25285.42   | 24922.81   | 25584.85   | 29146.65   | ...        | 32644.11   | 32243.35   | 32229.79   | 31454.62   | 30783.21   | 32222.33   | 32853.00   | 31994.06   | 31663.93   | 30429.55   |\n",
       "| 2016-04-05 | 27420.33   | 25842.86   | 24653.26   | 23889.59   | 23522.28   | 23615.04   | 22598.46   | 22171.60   | 23433.40   | ...        | 32801.94   | 32635.72   | 32333.69   | 31588.33   | 31000.35   | 32334.31   | 32901.27   | 32180.06   | 32111.50   | 30539.70   |\n",
       "| 2016-04-06 | 26079.65   | 24600.38   | 23402.93   | 22927.60   | 22869.51   | 23315.44   | 23666.79   | 25571.12   | 30441.77   | ...        | 32451.89   | 32528.88   | 32393.37   | 31777.87   | 30979.57   | 32241.74   | 33033.09   | 32068.88   | 31987.30   | 30374.26   |\n",
       "| 2016-04-07 | 27889.85   | 26573.18   | 25691.26   | 25157.10   | 24773.33   | 25361.68   | 25516.28   | 27108.15   | 31445.59   | ...        | 32984.71   | 33155.30   | 33100.56   | 31993.59   | 30964.80   | 32044.67   | 32882.05   | 31933.07   | 31973.92   | 30373.33   |\n",
       "| 2016-04-08 | 28278.69   | 26502.82   | 25563.32   | 25153.62   | 25011.69   | 25465.72   | 25446.77   | 26953.23   | 31221.55   | ...        | 32727.47   | 32926.93   | 32962.19   | 31943.31   | 31115.31   | 32089.97   | 32880.36   | 31921.50   | 31690.09   | 30172.68   |\n",
       "| 2016-04-09 | 28309.86   | 26660.48   | 25823.55   | 25401.09   | 25253.35   | 25486.53   | 25370.80   | 26963.21   | 31317.28   | ...        | 31568.72   | 30948.61   | 30155.70   | 29192.62   | 29311.67   | 30483.07   | 31060.72   | 30195.74   | 30006.89   | 28849.37   |\n",
       "\n"
      ],
      "text/plain": [
       "  Date       Lag48_Hour_ 0 Lag48_Hour_ 1 Lag48_Hour_ 2 Lag48_Hour_ 3\n",
       "1 2016-04-04 28487.31      27017.06      25924.33      25080.56     \n",
       "2 2016-04-05 27420.33      25842.86      24653.26      23889.59     \n",
       "3 2016-04-06 26079.65      24600.38      23402.93      22927.60     \n",
       "4 2016-04-07 27889.85      26573.18      25691.26      25157.10     \n",
       "5 2016-04-08 28278.69      26502.82      25563.32      25153.62     \n",
       "6 2016-04-09 28309.86      26660.48      25823.55      25401.09     \n",
       "  Lag48_Hour_ 4 Lag48_Hour_ 5 Lag48_Hour_ 6 Lag48_Hour_ 7 Lag48_Hour_ 8 ...\n",
       "1 24928.11      25285.42      24922.81      25584.85      29146.65      ...\n",
       "2 23522.28      23615.04      22598.46      22171.60      23433.40      ...\n",
       "3 22869.51      23315.44      23666.79      25571.12      30441.77      ...\n",
       "4 24773.33      25361.68      25516.28      27108.15      31445.59      ...\n",
       "5 25011.69      25465.72      25446.77      26953.23      31221.55      ...\n",
       "6 25253.35      25486.53      25370.80      26963.21      31317.28      ...\n",
       "  Consumption_ 14 Consumption_ 15 Consumption_ 16 Consumption_ 17\n",
       "1 32644.11        32243.35        32229.79        31454.62       \n",
       "2 32801.94        32635.72        32333.69        31588.33       \n",
       "3 32451.89        32528.88        32393.37        31777.87       \n",
       "4 32984.71        33155.30        33100.56        31993.59       \n",
       "5 32727.47        32926.93        32962.19        31943.31       \n",
       "6 31568.72        30948.61        30155.70        29192.62       \n",
       "  Consumption_ 18 Consumption_ 19 Consumption_ 20 Consumption_ 21\n",
       "1 30783.21        32222.33        32853.00        31994.06       \n",
       "2 31000.35        32334.31        32901.27        32180.06       \n",
       "3 30979.57        32241.74        33033.09        32068.88       \n",
       "4 30964.80        32044.67        32882.05        31933.07       \n",
       "5 31115.31        32089.97        32880.36        31921.50       \n",
       "6 29311.67        30483.07        31060.72        30195.74       \n",
       "  Consumption_ 22 Consumption_ 23\n",
       "1 31663.93        30429.55       \n",
       "2 32111.50        30539.70       \n",
       "3 31987.30        30374.26       \n",
       "4 31973.92        30373.33       \n",
       "5 31690.09        30172.68       \n",
       "6 30006.89        28849.37       "
      ]
     },
     "metadata": {},
     "output_type": "display_data"
    },
    {
     "name": "stdout",
     "output_type": "stream",
     "text": [
      "'data.frame':\t1316 obs. of  73 variables:\n",
      " $ Date           : Date, format: \"2016-04-04\" \"2016-04-05\" ...\n",
      " $ Lag48_Hour_ 0  : num  28487 27420 26080 27890 28279 ...\n",
      " $ Lag48_Hour_ 1  : num  27017 25843 24600 26573 26503 ...\n",
      " $ Lag48_Hour_ 2  : num  25924 24653 23403 25691 25563 ...\n",
      " $ Lag48_Hour_ 3  : num  25081 23890 22928 25157 25154 ...\n",
      " $ Lag48_Hour_ 4  : num  24928 23522 22870 24773 25012 ...\n",
      " $ Lag48_Hour_ 5  : num  25285 23615 23315 25362 25466 ...\n",
      " $ Lag48_Hour_ 6  : num  24923 22598 23667 25516 25447 ...\n",
      " $ Lag48_Hour_ 7  : num  25585 22172 25571 27108 26953 ...\n",
      " $ Lag48_Hour_ 8  : num  29147 23433 30442 31446 31222 ...\n",
      " $ Lag48_Hour_ 9  : num  31465 24903 33270 33664 33478 ...\n",
      " $ Lag48_Hour_ 10 : num  32354 26104 33933 34042 33854 ...\n",
      " $ Lag48_Hour_ 11 : num  32837 26898 34191 34313 34035 ...\n",
      " $ Lag48_Hour_ 12 : num  31278 26242 31889 31585 31755 ...\n",
      " $ Lag48_Hour_ 13 : num  31152 26330 31954 32187 32018 ...\n",
      " $ Lag48_Hour_ 14 : num  30865 26080 32644 32802 32452 ...\n",
      " $ Lag48_Hour_ 15 : num  30513 26155 32243 32636 32529 ...\n",
      " $ Lag48_Hour_ 16 : num  30017 25949 32230 32334 32393 ...\n",
      " $ Lag48_Hour_ 17 : num  29397 25947 31455 31588 31778 ...\n",
      " $ Lag48_Hour_ 18 : num  29761 26553 30783 31000 30980 ...\n",
      " $ Lag48_Hour_ 19 : num  31745 28944 32222 32334 32242 ...\n",
      " $ Lag48_Hour_ 20 : num  32084 30203 32853 32901 33033 ...\n",
      " $ Lag48_Hour_ 21 : num  31297 29716 31994 32180 32069 ...\n",
      " $ Lag48_Hour_ 22 : num  30978 29411 31664 32111 31987 ...\n",
      " $ Lag48_Hour_ 23 : num  29612 27983 30430 30540 30374 ...\n",
      " $ Lag168_Hour_ 0 : num  27358 29497 29087 29185 28669 ...\n",
      " $ Lag168_Hour_ 1 : num  25457 27678 27358 27502 27088 ...\n",
      " $ Lag168_Hour_ 2 : num  24328 26555 26293 26403 26088 ...\n",
      " $ Lag168_Hour_ 3 : num  23679 25943 25769 25625 25487 ...\n",
      " $ Lag168_Hour_ 4 : num  23560 25905 25636 25605 25456 ...\n",
      " $ Lag168_Hour_ 5 : num  23899 26248 26027 26033 25863 ...\n",
      " $ Lag168_Hour_ 6 : num  24339 26697 26408 26127 26033 ...\n",
      " $ Lag168_Hour_ 7 : num  26194 27908 27906 27736 27446 ...\n",
      " $ Lag168_Hour_ 8 : num  31657 32420 32230 31974 31498 ...\n",
      " $ Lag168_Hour_ 9 : num  34681 34815 34651 34052 33736 ...\n",
      " $ Lag168_Hour_ 10: num  35655 35504 35071 34633 33812 ...\n",
      " $ Lag168_Hour_ 11: num  36498 35504 35194 34685 34214 ...\n",
      " $ Lag168_Hour_ 12: num  35110 33329 32718 32387 31996 ...\n",
      " $ Lag168_Hour_ 13: num  35458 33661 32944 32609 30576 ...\n",
      " $ Lag168_Hour_ 14: num  35459 33734 33378 32958 31628 ...\n",
      " $ Lag168_Hour_ 15: num  34915 33171 33281 32668 32243 ...\n",
      " $ Lag168_Hour_ 16: num  34694 33217 33057 32446 31880 ...\n",
      " $ Lag168_Hour_ 17: num  33765 32406 32422 31760 31184 ...\n",
      " $ Lag168_Hour_ 18: num  32721 31913 31944 31073 30891 ...\n",
      " $ Lag168_Hour_ 19: num  34016 33379 33568 32799 32425 ...\n",
      " $ Lag168_Hour_ 20: num  34263 33883 34101 33286 33041 ...\n",
      " $ Lag168_Hour_ 21: num  33368 33142 33265 32592 32324 ...\n",
      " $ Lag168_Hour_ 22: num  33240 32948 33057 32641 32120 ...\n",
      " $ Lag168_Hour_ 23: num  31885 31248 31552 30954 30783 ...\n",
      " $ Consumption_ 0 : num  26080 27890 28279 28310 28314 ...\n",
      " $ Consumption_ 1 : num  24600 26573 26503 26660 26863 ...\n",
      " $ Consumption_ 2 : num  23403 25691 25563 25824 25944 ...\n",
      " $ Consumption_ 3 : num  22928 25157 25154 25401 25266 ...\n",
      " $ Consumption_ 4 : num  22870 24773 25012 25253 25058 ...\n",
      " $ Consumption_ 5 : num  23315 25362 25466 25487 25357 ...\n",
      " $ Consumption_ 6 : num  23667 25516 25447 25371 25022 ...\n",
      " $ Consumption_ 7 : num  25571 27108 26953 26963 26770 ...\n",
      " $ Consumption_ 8 : num  30442 31446 31222 31317 31141 ...\n",
      " $ Consumption_ 9 : num  33270 33664 33478 33348 33228 ...\n",
      " $ Consumption_ 10: num  33933 34042 33854 33857 33969 ...\n",
      " $ Consumption_ 11: num  34191 34313 34035 34260 34482 ...\n",
      " $ Consumption_ 12: num  31889 31585 31755 32445 32564 ...\n",
      " $ Consumption_ 13: num  31954 32187 32018 32710 31366 ...\n",
      " $ Consumption_ 14: num  32644 32802 32452 32985 32727 ...\n",
      " $ Consumption_ 15: num  32243 32636 32529 33155 32927 ...\n",
      " $ Consumption_ 16: num  32230 32334 32393 33101 32962 ...\n",
      " $ Consumption_ 17: num  31455 31588 31778 31994 31943 ...\n",
      " $ Consumption_ 18: num  30783 31000 30980 30965 31115 ...\n",
      " $ Consumption_ 19: num  32222 32334 32242 32045 32090 ...\n",
      " $ Consumption_ 20: num  32853 32901 33033 32882 32880 ...\n",
      " $ Consumption_ 21: num  31994 32180 32069 31933 31922 ...\n",
      " $ Consumption_ 22: num  31664 32111 31987 31974 31690 ...\n",
      " $ Consumption_ 23: num  30430 30540 30374 30373 30173 ...\n"
     ]
    }
   ],
   "source": [
    "#Data Preparation :\n",
    "library(reshape2)\n",
    "\n",
    "D_Data = B_Data[,c(2,3,4)]\n",
    "D_Data = dcast(D_Data, Date ~ Hour, value.var = \"Lag48\")\n",
    "colnames(D_Data) = c(\"Date\", c(paste(\"Lag48_Hour_\",c(0:23))))\n",
    "D_Data1 = B_Data[,c(2,3,5)]\n",
    "D_Data1 = dcast(D_Data1, Date ~ Hour, value.var = \"Lag168\")\n",
    "colnames(D_Data1) = c(\"Date\", c(paste(\"Lag168_Hour_\",c(0:23))))\n",
    "D_Data = left_join(D_Data, D_Data1, by = \"Date\")\n",
    "\n",
    "D_Consumption = data[,c(2,3,4)]\n",
    "D_Consumption = dcast(D_Consumption, Date ~Hour, value.var=\"Consumption\")\n",
    "colnames(D_Consumption) = c(\"Date\", c(paste(\"Consumption_\",c(0:23))))\n",
    "\n",
    "#First 7 days are removed since these data isn't included in the training data as Task B and C.\n",
    "D_Consumption = D_Consumption[D_Consumption$Date >= (min(D_Consumption$Date) + days(7)),]\n",
    "\n",
    "D_Data = left_join(D_Data, D_Consumption, by=\"Date\")\n",
    "head(D_Data)\n",
    "str(D_Data)"
   ]
  },
  {
   "cell_type": "code",
   "execution_count": 129,
   "metadata": {},
   "outputs": [],
   "source": [
    "#Data is divided into two parts as training and test data :\n",
    "D_training = D_Data[D_Data$Date < \"2019-11-01\",]\n",
    "D_test= D_Data[D_Data$Date >= \"2019-11-01\",]"
   ]
  },
  {
   "cell_type": "code",
   "execution_count": 130,
   "metadata": {},
   "outputs": [],
   "source": [
    "#Constructing Lasso Regression models for each hour as following :\n",
    "lasso_fit0 <- cv.glmnet(as.matrix(D_training[,c(2:49)]), D_training[,50], type.measure=\"mse\", alpha=1, family=\"gaussian\", nfolds=10)\n",
    "lasso_fit1 <- cv.glmnet(as.matrix(D_training[,c(2:49)]), D_training[,51], type.measure=\"mse\", alpha=1, family=\"gaussian\", nfolds=10)\n",
    "lasso_fit2 <- cv.glmnet(as.matrix(D_training[,c(2:49)]), D_training[,52], type.measure=\"mse\", alpha=1, family=\"gaussian\", nfolds=10)\n",
    "lasso_fit3 <- cv.glmnet(as.matrix(D_training[,c(2:49)]), D_training[,53], type.measure=\"mse\", alpha=1, family=\"gaussian\", nfolds=10)\n",
    "lasso_fit4 <- cv.glmnet(as.matrix(D_training[,c(2:49)]), D_training[,54], type.measure=\"mse\", alpha=1, family=\"gaussian\", nfolds=10)\n",
    "lasso_fit5 <- cv.glmnet(as.matrix(D_training[,c(2:49)]), D_training[,55], type.measure=\"mse\", alpha=1, family=\"gaussian\", nfolds=10)\n",
    "lasso_fit6 <- cv.glmnet(as.matrix(D_training[,c(2:49)]), D_training[,56], type.measure=\"mse\", alpha=1, family=\"gaussian\", nfolds=10)\n",
    "lasso_fit7 <- cv.glmnet(as.matrix(D_training[,c(2:49)]), D_training[,57], type.measure=\"mse\", alpha=1, family=\"gaussian\", nfolds=10)\n",
    "lasso_fit8 <- cv.glmnet(as.matrix(D_training[,c(2:49)]), D_training[,58], type.measure=\"mse\", alpha=1, family=\"gaussian\", nfolds=10)\n",
    "lasso_fit9 <- cv.glmnet(as.matrix(D_training[,c(2:49)]), D_training[,59], type.measure=\"mse\", alpha=1, family=\"gaussian\", nfolds=10)\n",
    "lasso_fit10 <- cv.glmnet(as.matrix(D_training[,c(2:49)]), D_training[,60], type.measure=\"mse\", alpha=1, family=\"gaussian\", nfolds=10)\n",
    "lasso_fit11 <- cv.glmnet(as.matrix(D_training[,c(2:49)]), D_training[,61], type.measure=\"mse\", alpha=1, family=\"gaussian\", nfolds=10)\n",
    "lasso_fit12 <- cv.glmnet(as.matrix(D_training[,c(2:49)]), D_training[,62], type.measure=\"mse\", alpha=1, family=\"gaussian\", nfolds=10)\n",
    "lasso_fit13 <- cv.glmnet(as.matrix(D_training[,c(2:49)]), D_training[,63], type.measure=\"mse\", alpha=1, family=\"gaussian\", nfolds=10)\n",
    "lasso_fit14 <- cv.glmnet(as.matrix(D_training[,c(2:49)]), D_training[,64], type.measure=\"mse\", alpha=1, family=\"gaussian\", nfolds=10)\n",
    "lasso_fit15 <- cv.glmnet(as.matrix(D_training[,c(2:49)]), D_training[,65], type.measure=\"mse\", alpha=1, family=\"gaussian\", nfolds=10)\n",
    "lasso_fit16 <- cv.glmnet(as.matrix(D_training[,c(2:49)]), D_training[,66], type.measure=\"mse\", alpha=1, family=\"gaussian\", nfolds=10)\n",
    "lasso_fit17 <- cv.glmnet(as.matrix(D_training[,c(2:49)]), D_training[,67], type.measure=\"mse\", alpha=1, family=\"gaussian\", nfolds=10)\n",
    "lasso_fit18 <- cv.glmnet(as.matrix(D_training[,c(2:49)]), D_training[,68], type.measure=\"mse\", alpha=1, family=\"gaussian\", nfolds=10)\n",
    "lasso_fit19 <- cv.glmnet(as.matrix(D_training[,c(2:49)]), D_training[,69], type.measure=\"mse\", alpha=1, family=\"gaussian\", nfolds=10)\n",
    "lasso_fit20 <- cv.glmnet(as.matrix(D_training[,c(2:49)]), D_training[,70], type.measure=\"mse\", alpha=1, family=\"gaussian\", nfolds=10)\n",
    "lasso_fit21 <- cv.glmnet(as.matrix(D_training[,c(2:49)]), D_training[,71], type.measure=\"mse\", alpha=1, family=\"gaussian\", nfolds=10)\n",
    "lasso_fit22 <- cv.glmnet(as.matrix(D_training[,c(2:49)]), D_training[,72], type.measure=\"mse\", alpha=1, family=\"gaussian\", nfolds=10)\n",
    "lasso_fit23 <- cv.glmnet(as.matrix(D_training[,c(2:49)]), D_training[,73], type.measure=\"mse\", alpha=1, family=\"gaussian\", nfolds=10)\n",
    "\n"
   ]
  },
  {
   "cell_type": "code",
   "execution_count": 131,
   "metadata": {},
   "outputs": [],
   "source": [
    "#Prediction values are calculated as following :\n",
    "D_test$Prediction0 = predict(lasso_fit0, s=lasso_fit0$lambda.min, newx=as.matrix(D_test[,c(2:49)]))\n",
    "D_test$Prediction1 = predict(lasso_fit1, s=lasso_fit1$lambda.min, newx=as.matrix(D_test[,c(2:49)]))\n",
    "D_test$Prediction2 = predict(lasso_fit2, s=lasso_fit2$lambda.min, newx=as.matrix(D_test[,c(2:49)]))\n",
    "D_test$Prediction3 = predict(lasso_fit3, s=lasso_fit3$lambda.min, newx=as.matrix(D_test[,c(2:49)]))\n",
    "D_test$Prediction4 = predict(lasso_fit4, s=lasso_fit4$lambda.min, newx=as.matrix(D_test[,c(2:49)]))\n",
    "D_test$Prediction5 = predict(lasso_fit5, s=lasso_fit5$lambda.min, newx=as.matrix(D_test[,c(2:49)]))\n",
    "D_test$Prediction6 = predict(lasso_fit6, s=lasso_fit6$lambda.min, newx=as.matrix(D_test[,c(2:49)]))\n",
    "D_test$Prediction7 = predict(lasso_fit7, s=lasso_fit7$lambda.min, newx=as.matrix(D_test[,c(2:49)]))\n",
    "D_test$Prediction8 = predict(lasso_fit8, s=lasso_fit8$lambda.min, newx=as.matrix(D_test[,c(2:49)]))\n",
    "D_test$Prediction9 = predict(lasso_fit9, s=lasso_fit9$lambda.min, newx=as.matrix(D_test[,c(2:49)]))\n",
    "D_test$Prediction10 = predict(lasso_fit10, s=lasso_fit10$lambda.min, newx=as.matrix(D_test[,c(2:49)]))\n",
    "D_test$Prediction11 = predict(lasso_fit11, s=lasso_fit11$lambda.min, newx=as.matrix(D_test[,c(2:49)]))\n",
    "D_test$Prediction12 = predict(lasso_fit12, s=lasso_fit12$lambda.min, newx=as.matrix(D_test[,c(2:49)]))\n",
    "D_test$Prediction13 = predict(lasso_fit13, s=lasso_fit13$lambda.min, newx=as.matrix(D_test[,c(2:49)]))\n",
    "D_test$Prediction14 = predict(lasso_fit14, s=lasso_fit14$lambda.min, newx=as.matrix(D_test[,c(2:49)]))\n",
    "D_test$Prediction15 = predict(lasso_fit15, s=lasso_fit15$lambda.min, newx=as.matrix(D_test[,c(2:49)]))\n",
    "D_test$Prediction16 = predict(lasso_fit16, s=lasso_fit16$lambda.min, newx=as.matrix(D_test[,c(2:49)]))\n",
    "D_test$Prediction17 = predict(lasso_fit17, s=lasso_fit17$lambda.min, newx=as.matrix(D_test[,c(2:49)]))\n",
    "D_test$Prediction18 = predict(lasso_fit18, s=lasso_fit18$lambda.min, newx=as.matrix(D_test[,c(2:49)]))\n",
    "D_test$Prediction19 = predict(lasso_fit19, s=lasso_fit19$lambda.min, newx=as.matrix(D_test[,c(2:49)]))\n",
    "D_test$Prediction20 = predict(lasso_fit20, s=lasso_fit20$lambda.min, newx=as.matrix(D_test[,c(2:49)]))\n",
    "D_test$Prediction21 = predict(lasso_fit21, s=lasso_fit21$lambda.min, newx=as.matrix(D_test[,c(2:49)]))\n",
    "D_test$Prediction22 = predict(lasso_fit22, s=lasso_fit22$lambda.min, newx=as.matrix(D_test[,c(2:49)]))\n",
    "D_test$Prediction23 = predict(lasso_fit23, s=lasso_fit23$lambda.min, newx=as.matrix(D_test[,c(2:49)]))"
   ]
  },
  {
   "cell_type": "code",
   "execution_count": 132,
   "metadata": {},
   "outputs": [
    {
     "data": {
      "text/html": [
       "<table>\n",
       "<thead><tr><th></th><th scope=col>Date</th><th scope=col>Consumption_ 0</th><th scope=col>Consumption_ 1</th><th scope=col>Consumption_ 2</th><th scope=col>Consumption_ 3</th><th scope=col>Consumption_ 4</th><th scope=col>Consumption_ 5</th><th scope=col>Consumption_ 6</th><th scope=col>Consumption_ 7</th><th scope=col>Consumption_ 8</th><th scope=col>...</th><th scope=col>Prediction14</th><th scope=col>Prediction15</th><th scope=col>Prediction16</th><th scope=col>Prediction17</th><th scope=col>Prediction18</th><th scope=col>Prediction19</th><th scope=col>Prediction20</th><th scope=col>Prediction21</th><th scope=col>Prediction22</th><th scope=col>Prediction23</th></tr></thead>\n",
       "<tbody>\n",
       "\t<tr><th scope=row>1307</th><td>2019-11-01</td><td>29417.56  </td><td>28133.75  </td><td>27358.60  </td><td>26780.09  </td><td>26511.54  </td><td>27002.74  </td><td>27945.43  </td><td>29120.27  </td><td>32815.46  </td><td>...       </td><td>34439.42  </td><td>34844.45  </td><td>35948.81  </td><td>37494.39  </td><td>37831.74  </td><td>36887.97  </td><td>35698.76  </td><td>34784.98  </td><td>33662.98  </td><td>32166.43  </td></tr>\n",
       "\t<tr><th scope=row>1308</th><td>2019-11-02</td><td>29562.79  </td><td>28256.30  </td><td>27135.27  </td><td>26480.50  </td><td>26377.98  </td><td>26551.33  </td><td>26896.90  </td><td>27288.43  </td><td>29804.68  </td><td>...       </td><td>31380.80  </td><td>31424.39  </td><td>32216.98  </td><td>33799.30  </td><td>35360.82  </td><td>34699.57  </td><td>33700.69  </td><td>32777.84  </td><td>31731.79  </td><td>30244.05  </td></tr>\n",
       "\t<tr><th scope=row>1309</th><td>2019-11-03</td><td>28453.56  </td><td>26982.67  </td><td>25789.05  </td><td>25126.01  </td><td>24921.85  </td><td>24928.02  </td><td>24992.22  </td><td>24123.50  </td><td>23869.05  </td><td>...       </td><td>28679.87  </td><td>28952.45  </td><td>29657.31  </td><td>31225.18  </td><td>33115.05  </td><td>32990.15  </td><td>32173.54  </td><td>31291.67  </td><td>30491.82  </td><td>29086.83  </td></tr>\n",
       "\t<tr><th scope=row>1310</th><td>2019-11-04</td><td>27437.59  </td><td>26099.72  </td><td>25424.28  </td><td>24896.77  </td><td>24896.90  </td><td>25330.16  </td><td>26491.28  </td><td>28166.73  </td><td>31894.38  </td><td>...       </td><td>34556.19  </td><td>34761.53  </td><td>35566.54  </td><td>36789.27  </td><td>37240.55  </td><td>36439.59  </td><td>35448.21  </td><td>34489.90  </td><td>33375.14  </td><td>31799.36  </td></tr>\n",
       "\t<tr><th scope=row>1311</th><td>2019-11-05</td><td>30282.48  </td><td>28870.49  </td><td>28060.26  </td><td>27428.39  </td><td>27219.83  </td><td>27611.34  </td><td>28607.40  </td><td>29891.20  </td><td>33332.65  </td><td>...       </td><td>33459.67  </td><td>33687.67  </td><td>34589.46  </td><td>36192.03  </td><td>37220.71  </td><td>36384.61  </td><td>35439.49  </td><td>34552.33  </td><td>33412.65  </td><td>31817.43  </td></tr>\n",
       "\t<tr><th scope=row>1312</th><td>2019-11-06</td><td>30160.59  </td><td>28729.17  </td><td>27923.43  </td><td>27371.76  </td><td>27201.66  </td><td>27616.48  </td><td>28670.00  </td><td>29957.97  </td><td>32775.58  </td><td>...       </td><td>36644.52  </td><td>36951.74  </td><td>38034.55  </td><td>39448.99  </td><td>39710.66  </td><td>38479.35  </td><td>37279.90  </td><td>36352.00  </td><td>35204.30  </td><td>33528.45  </td></tr>\n",
       "</tbody>\n",
       "</table>\n"
      ],
      "text/latex": [
       "\\begin{tabular}{r|lllllllllllllllllllllllllllllllllllllllllllllllll}\n",
       "  & Date & Consumption\\_ 0 & Consumption\\_ 1 & Consumption\\_ 2 & Consumption\\_ 3 & Consumption\\_ 4 & Consumption\\_ 5 & Consumption\\_ 6 & Consumption\\_ 7 & Consumption\\_ 8 & ... & Prediction14 & Prediction15 & Prediction16 & Prediction17 & Prediction18 & Prediction19 & Prediction20 & Prediction21 & Prediction22 & Prediction23\\\\\n",
       "\\hline\n",
       "\t1307 & 2019-11-01 & 29417.56   & 28133.75   & 27358.60   & 26780.09   & 26511.54   & 27002.74   & 27945.43   & 29120.27   & 32815.46   & ...        & 34439.42   & 34844.45   & 35948.81   & 37494.39   & 37831.74   & 36887.97   & 35698.76   & 34784.98   & 33662.98   & 32166.43  \\\\\n",
       "\t1308 & 2019-11-02 & 29562.79   & 28256.30   & 27135.27   & 26480.50   & 26377.98   & 26551.33   & 26896.90   & 27288.43   & 29804.68   & ...        & 31380.80   & 31424.39   & 32216.98   & 33799.30   & 35360.82   & 34699.57   & 33700.69   & 32777.84   & 31731.79   & 30244.05  \\\\\n",
       "\t1309 & 2019-11-03 & 28453.56   & 26982.67   & 25789.05   & 25126.01   & 24921.85   & 24928.02   & 24992.22   & 24123.50   & 23869.05   & ...        & 28679.87   & 28952.45   & 29657.31   & 31225.18   & 33115.05   & 32990.15   & 32173.54   & 31291.67   & 30491.82   & 29086.83  \\\\\n",
       "\t1310 & 2019-11-04 & 27437.59   & 26099.72   & 25424.28   & 24896.77   & 24896.90   & 25330.16   & 26491.28   & 28166.73   & 31894.38   & ...        & 34556.19   & 34761.53   & 35566.54   & 36789.27   & 37240.55   & 36439.59   & 35448.21   & 34489.90   & 33375.14   & 31799.36  \\\\\n",
       "\t1311 & 2019-11-05 & 30282.48   & 28870.49   & 28060.26   & 27428.39   & 27219.83   & 27611.34   & 28607.40   & 29891.20   & 33332.65   & ...        & 33459.67   & 33687.67   & 34589.46   & 36192.03   & 37220.71   & 36384.61   & 35439.49   & 34552.33   & 33412.65   & 31817.43  \\\\\n",
       "\t1312 & 2019-11-06 & 30160.59   & 28729.17   & 27923.43   & 27371.76   & 27201.66   & 27616.48   & 28670.00   & 29957.97   & 32775.58   & ...        & 36644.52   & 36951.74   & 38034.55   & 39448.99   & 39710.66   & 38479.35   & 37279.90   & 36352.00   & 35204.30   & 33528.45  \\\\\n",
       "\\end{tabular}\n"
      ],
      "text/markdown": [
       "\n",
       "| <!--/--> | Date | Consumption_ 0 | Consumption_ 1 | Consumption_ 2 | Consumption_ 3 | Consumption_ 4 | Consumption_ 5 | Consumption_ 6 | Consumption_ 7 | Consumption_ 8 | ... | Prediction14 | Prediction15 | Prediction16 | Prediction17 | Prediction18 | Prediction19 | Prediction20 | Prediction21 | Prediction22 | Prediction23 |\n",
       "|---|---|---|---|---|---|---|---|---|---|---|---|---|---|---|---|---|---|---|---|---|---|\n",
       "| 1307 | 2019-11-01 | 29417.56   | 28133.75   | 27358.60   | 26780.09   | 26511.54   | 27002.74   | 27945.43   | 29120.27   | 32815.46   | ...        | 34439.42   | 34844.45   | 35948.81   | 37494.39   | 37831.74   | 36887.97   | 35698.76   | 34784.98   | 33662.98   | 32166.43   |\n",
       "| 1308 | 2019-11-02 | 29562.79   | 28256.30   | 27135.27   | 26480.50   | 26377.98   | 26551.33   | 26896.90   | 27288.43   | 29804.68   | ...        | 31380.80   | 31424.39   | 32216.98   | 33799.30   | 35360.82   | 34699.57   | 33700.69   | 32777.84   | 31731.79   | 30244.05   |\n",
       "| 1309 | 2019-11-03 | 28453.56   | 26982.67   | 25789.05   | 25126.01   | 24921.85   | 24928.02   | 24992.22   | 24123.50   | 23869.05   | ...        | 28679.87   | 28952.45   | 29657.31   | 31225.18   | 33115.05   | 32990.15   | 32173.54   | 31291.67   | 30491.82   | 29086.83   |\n",
       "| 1310 | 2019-11-04 | 27437.59   | 26099.72   | 25424.28   | 24896.77   | 24896.90   | 25330.16   | 26491.28   | 28166.73   | 31894.38   | ...        | 34556.19   | 34761.53   | 35566.54   | 36789.27   | 37240.55   | 36439.59   | 35448.21   | 34489.90   | 33375.14   | 31799.36   |\n",
       "| 1311 | 2019-11-05 | 30282.48   | 28870.49   | 28060.26   | 27428.39   | 27219.83   | 27611.34   | 28607.40   | 29891.20   | 33332.65   | ...        | 33459.67   | 33687.67   | 34589.46   | 36192.03   | 37220.71   | 36384.61   | 35439.49   | 34552.33   | 33412.65   | 31817.43   |\n",
       "| 1312 | 2019-11-06 | 30160.59   | 28729.17   | 27923.43   | 27371.76   | 27201.66   | 27616.48   | 28670.00   | 29957.97   | 32775.58   | ...        | 36644.52   | 36951.74   | 38034.55   | 39448.99   | 39710.66   | 38479.35   | 37279.90   | 36352.00   | 35204.30   | 33528.45   |\n",
       "\n"
      ],
      "text/plain": [
       "     Date       Consumption_ 0 Consumption_ 1 Consumption_ 2 Consumption_ 3\n",
       "1307 2019-11-01 29417.56       28133.75       27358.60       26780.09      \n",
       "1308 2019-11-02 29562.79       28256.30       27135.27       26480.50      \n",
       "1309 2019-11-03 28453.56       26982.67       25789.05       25126.01      \n",
       "1310 2019-11-04 27437.59       26099.72       25424.28       24896.77      \n",
       "1311 2019-11-05 30282.48       28870.49       28060.26       27428.39      \n",
       "1312 2019-11-06 30160.59       28729.17       27923.43       27371.76      \n",
       "     Consumption_ 4 Consumption_ 5 Consumption_ 6 Consumption_ 7 Consumption_ 8\n",
       "1307 26511.54       27002.74       27945.43       29120.27       32815.46      \n",
       "1308 26377.98       26551.33       26896.90       27288.43       29804.68      \n",
       "1309 24921.85       24928.02       24992.22       24123.50       23869.05      \n",
       "1310 24896.90       25330.16       26491.28       28166.73       31894.38      \n",
       "1311 27219.83       27611.34       28607.40       29891.20       33332.65      \n",
       "1312 27201.66       27616.48       28670.00       29957.97       32775.58      \n",
       "     ... Prediction14 Prediction15 Prediction16 Prediction17 Prediction18\n",
       "1307 ... 34439.42     34844.45     35948.81     37494.39     37831.74    \n",
       "1308 ... 31380.80     31424.39     32216.98     33799.30     35360.82    \n",
       "1309 ... 28679.87     28952.45     29657.31     31225.18     33115.05    \n",
       "1310 ... 34556.19     34761.53     35566.54     36789.27     37240.55    \n",
       "1311 ... 33459.67     33687.67     34589.46     36192.03     37220.71    \n",
       "1312 ... 36644.52     36951.74     38034.55     39448.99     39710.66    \n",
       "     Prediction19 Prediction20 Prediction21 Prediction22 Prediction23\n",
       "1307 36887.97     35698.76     34784.98     33662.98     32166.43    \n",
       "1308 34699.57     33700.69     32777.84     31731.79     30244.05    \n",
       "1309 32990.15     32173.54     31291.67     30491.82     29086.83    \n",
       "1310 36439.59     35448.21     34489.90     33375.14     31799.36    \n",
       "1311 36384.61     35439.49     34552.33     33412.65     31817.43    \n",
       "1312 38479.35     37279.90     36352.00     35204.30     33528.45    "
      ]
     },
     "metadata": {},
     "output_type": "display_data"
    }
   ],
   "source": [
    "#A new data, including only consumption and predicted values is created as following :\n",
    "D_result = D_test[,c(1,50:97)]\n",
    "head(D_result)\n"
   ]
  },
  {
   "cell_type": "code",
   "execution_count": 133,
   "metadata": {},
   "outputs": [],
   "source": [
    "#MAPE values are calculated as following :\n",
    "D_result$Per_Abs_Error_0 = round((abs(D_result[,2] - D_result[,26]) / D_result[,2] * 100), 2)\n",
    "D_result$Per_Abs_Error_1 = round((abs(D_result[,3] - D_result[,27]) / D_result[,3] * 100), 2)\n",
    "D_result$Per_Abs_Error_2 = round((abs(D_result[,4] - D_result[,28]) / D_result[,4] * 100), 2)\n",
    "D_result$Per_Abs_Error_3 = round((abs(D_result[,5] - D_result[,29]) / D_result[,5] * 100), 2)\n",
    "D_result$Per_Abs_Error_4 = round((abs(D_result[,6] - D_result[,30]) / D_result[,6] * 100), 2)\n",
    "D_result$Per_Abs_Error_5 = round((abs(D_result[,7] - D_result[,31]) / D_result[,7] * 100), 2)\n",
    "D_result$Per_Abs_Error_6 = round((abs(D_result[,8] - D_result[,32]) / D_result[,8] * 100), 2)\n",
    "D_result$Per_Abs_Error_7 = round((abs(D_result[,9] - D_result[,33]) / D_result[,9] * 100), 2)\n",
    "D_result$Per_Abs_Error_8 = round((abs(D_result[,10] - D_result[,34]) / D_result[,10] * 100), 2)\n",
    "D_result$Per_Abs_Error_9 = round((abs(D_result[,11] - D_result[,35]) / D_result[,11] * 100), 2)\n",
    "D_result$Per_Abs_Error_10 = round((abs(D_result[,12] - D_result[,36]) / D_result[,12] * 100), 2)\n",
    "D_result$Per_Abs_Error_11 = round((abs(D_result[,13] - D_result[,37]) / D_result[,13] * 100), 2)\n",
    "D_result$Per_Abs_Error_12 = round((abs(D_result[,14] - D_result[,38]) / D_result[,14] * 100), 2)\n",
    "D_result$Per_Abs_Error_13 = round((abs(D_result[,15] - D_result[,39]) / D_result[,15] * 100), 2)\n",
    "D_result$Per_Abs_Error_14 = round((abs(D_result[,16] - D_result[,40]) / D_result[,16] * 100), 2)\n",
    "D_result$Per_Abs_Error_15 = round((abs(D_result[,17] - D_result[,41]) / D_result[,17] * 100), 2)\n",
    "D_result$Per_Abs_Error_16 = round((abs(D_result[,18] - D_result[,42]) / D_result[,18] * 100), 2)\n",
    "D_result$Per_Abs_Error_17 = round((abs(D_result[,19] - D_result[,43]) / D_result[,19] * 100), 2)\n",
    "D_result$Per_Abs_Error_18 = round((abs(D_result[,20] - D_result[,44]) / D_result[,20] * 100), 2)\n",
    "D_result$Per_Abs_Error_19 = round((abs(D_result[,21] - D_result[,45]) / D_result[,21] * 100), 2)\n",
    "D_result$Per_Abs_Error_20 = round((abs(D_result[,22] - D_result[,46]) / D_result[,22] * 100), 2)\n",
    "D_result$Per_Abs_Error_21 = round((abs(D_result[,23] - D_result[,47]) / D_result[,23] * 100), 2)\n",
    "D_result$Per_Abs_Error_22 = round((abs(D_result[,24] - D_result[,48]) / D_result[,24] * 100), 2)\n",
    "D_result$Per_Abs_Error_23 = round((abs(D_result[,25] - D_result[,49]) / D_result[,25] * 100), 2)"
   ]
  },
  {
   "cell_type": "code",
   "execution_count": 157,
   "metadata": {},
   "outputs": [],
   "source": [
    "D_MAPE_data = data.frame(D_result$Per_Abs_Error_0, D_result$Per_Abs_Error_1, D_result$Per_Abs_Error_2,D_result$Per_Abs_Error_3,\n",
    "          D_result$Per_Abs_Error_4, D_result$Per_Abs_Error_5, D_result$Per_Abs_Error_6, D_result$Per_Abs_Error_7,\n",
    "          D_result$Per_Abs_Error_8, D_result$Per_Abs_Error_9, D_result$Per_Abs_Error_10, D_result$Per_Abs_Error_11,\n",
    "          D_result$Per_Abs_Error_12, D_result$Per_Abs_Error_13, D_result$Per_Abs_Error_14, D_result$Per_Abs_Error_15,\n",
    "          D_result$Per_Abs_Error_16, D_result$Per_Abs_Error_17, D_result$Per_Abs_Error_18, D_result$Per_Abs_Error_19,\n",
    "          D_result$Per_Abs_Error_20, D_result$Per_Abs_Error_21, D_result$Per_Abs_Error_22, D_result$Per_Abs_Error_23)\n",
    "D_MAPE_data = t(D_MAPE_data)\n",
    "D_MAPE_data = c(D_MAPE_data[,1],D_MAPE_data[,2],D_MAPE_data[,3],D_MAPE_data[,4],D_MAPE_data[,5],\n",
    "                D_MAPE_data[,6],D_MAPE_data[,7],D_MAPE_data[,8],D_MAPE_data[,9],D_MAPE_data[,10])"
   ]
  },
  {
   "cell_type": "code",
   "execution_count": 135,
   "metadata": {},
   "outputs": [
    {
     "data": {
      "text/html": [
       "<table>\n",
       "<thead><tr><th scope=col>Model</th><th scope=col>MAPE</th><th scope=col>Std.Deviation</th></tr></thead>\n",
       "<tbody>\n",
       "\t<tr><td>Lag48                       </td><td>7.81 %                      </td><td>9.04 %                      </td></tr>\n",
       "\t<tr><td>Lag168                      </td><td>4.04 %                      </td><td>4.66 %                      </td></tr>\n",
       "\t<tr><td>Linear_Regression           </td><td>4.55 %                      </td><td>4.94 %                      </td></tr>\n",
       "\t<tr><td>Linear_Regression_Separately</td><td>4.71 %                      </td><td>4.47 %                      </td></tr>\n",
       "\t<tr><td>Lasso Regression            </td><td>2.75 %                      </td><td>2.68 %                      </td></tr>\n",
       "</tbody>\n",
       "</table>\n"
      ],
      "text/latex": [
       "\\begin{tabular}{r|lll}\n",
       " Model & MAPE & Std.Deviation\\\\\n",
       "\\hline\n",
       "\t Lag48                        & 7.81 \\%                     & 9.04 \\%                    \\\\\n",
       "\t Lag168                       & 4.04 \\%                     & 4.66 \\%                    \\\\\n",
       "\t Linear\\_Regression            & 4.55 \\%                       & 4.94 \\%                      \\\\\n",
       "\t Linear\\_Regression\\_Separately & 4.71 \\%                         & 4.47 \\%                        \\\\\n",
       "\t Lasso Regression             & 2.75 \\%                     & 2.68 \\%                    \\\\\n",
       "\\end{tabular}\n"
      ],
      "text/markdown": [
       "\n",
       "| Model | MAPE | Std.Deviation |\n",
       "|---|---|---|\n",
       "| Lag48                        | 7.81 %                       | 9.04 %                       |\n",
       "| Lag168                       | 4.04 %                       | 4.66 %                       |\n",
       "| Linear_Regression            | 4.55 %                       | 4.94 %                       |\n",
       "| Linear_Regression_Separately | 4.71 %                       | 4.47 %                       |\n",
       "| Lasso Regression             | 2.75 %                       | 2.68 %                       |\n",
       "\n"
      ],
      "text/plain": [
       "  Model                        MAPE   Std.Deviation\n",
       "1 Lag48                        7.81 % 9.04 %       \n",
       "2 Lag168                       4.04 % 4.66 %       \n",
       "3 Linear_Regression            4.55 % 4.94 %       \n",
       "4 Linear_Regression_Separately 4.71 % 4.47 %       \n",
       "5 Lasso Regression             2.75 % 2.68 %       "
      ]
     },
     "metadata": {},
     "output_type": "display_data"
    }
   ],
   "source": [
    "#Summary table is created as following :\n",
    "Model = \"Lasso Regression\"\n",
    "MAPE = paste(round(mean(D_MAPE_data),2),\"%\")\n",
    "Std.Deviation = paste(round(sd(D_MAPE_data),2),\"%\")\n",
    "D_MAPE = data.frame(Model, MAPE, Std.Deviation)\n",
    "\n",
    "Summary = rbind(Summary, D_MAPE)\n",
    "Summary"
   ]
  },
  {
   "cell_type": "markdown",
   "metadata": {},
   "source": [
    "#### Lasso Regression performs better than all other models in terms of MAPE and Std. Deviation values."
   ]
  },
  {
   "cell_type": "code",
   "execution_count": 136,
   "metadata": {},
   "outputs": [
    {
     "name": "stderr",
     "output_type": "stream",
     "text": [
      "   [[ suppressing 24 column names 'Lasso_Hour_ 0', 'Lasso_Hour_ 1', 'Lasso_Hour_ 2' ... ]]\n"
     ]
    },
    {
     "data": {
      "text/plain": [
       "49 x 24 sparse Matrix of class \"dgCMatrix\"\n",
       "                                                                       \n",
       "(Intercept)     1632.45062494  1.676953e+03  2.187181e+03  1.910785e+03\n",
       "Lag48_Hour_ 0     -0.14295369 -9.013281e-02 -3.520925e-01 -3.752376e-01\n",
       "Lag48_Hour_ 1     -0.04293569  .             .             .           \n",
       "Lag48_Hour_ 2      .           .             .             .           \n",
       "Lag48_Hour_ 3      .           .             3.433628e-02  .           \n",
       "Lag48_Hour_ 4      .           5.087521e-03  2.795996e-01  3.323315e-01\n",
       "Lag48_Hour_ 5      .           .             .             .           \n",
       "Lag48_Hour_ 6      .           .             .             .           \n",
       "Lag48_Hour_ 7      0.21313253  .             .             .           \n",
       "Lag48_Hour_ 8      .           .             .             .           \n",
       "Lag48_Hour_ 9     -0.56640191 -3.447741e-01 -3.499027e-01 -3.898408e-01\n",
       "Lag48_Hour_ 10    -0.13027461 -2.291681e-01 -2.525122e-01 -1.744693e-01\n",
       "Lag48_Hour_ 11     .           .             .             .           \n",
       "Lag48_Hour_ 12     .           .             .             .           \n",
       "Lag48_Hour_ 13     0.23599888  1.408398e-01  1.400668e-01  1.180112e-01\n",
       "Lag48_Hour_ 14     .           .             .             .           \n",
       "Lag48_Hour_ 15     .           .             .             .           \n",
       "Lag48_Hour_ 16     .           9.411045e-02  1.063669e-01  9.189362e-02\n",
       "Lag48_Hour_ 17     0.02259093  .             .             .           \n",
       "Lag48_Hour_ 18     .           .             .             .           \n",
       "Lag48_Hour_ 19     .           .             .             .           \n",
       "Lag48_Hour_ 20     .           .             .             .           \n",
       "Lag48_Hour_ 21     0.03723539  .             .             .           \n",
       "Lag48_Hour_ 22     0.21923260  2.331406e-01  2.023171e-01  2.366848e-01\n",
       "Lag48_Hour_ 23     1.09002226  1.055377e+00  1.059508e+00  1.000946e+00\n",
       "Lag168_Hour_ 0     0.02239418  .             .             .           \n",
       "Lag168_Hour_ 1     .           .             .             .           \n",
       "Lag168_Hour_ 2     .           .             .             .           \n",
       "Lag168_Hour_ 3     .           .             .             .           \n",
       "Lag168_Hour_ 4     .           2.327923e-02  3.767043e-02  .           \n",
       "Lag168_Hour_ 5     .           .             .             .           \n",
       "Lag168_Hour_ 6     0.25692191  2.508734e-01  1.438320e-01  1.769126e-01\n",
       "Lag168_Hour_ 7     0.12709655  7.560910e-02  9.036103e-02  4.385230e-02\n",
       "Lag168_Hour_ 8     .           3.443025e-02  8.422802e-02  1.182272e-01\n",
       "Lag168_Hour_ 9     .           .             .             .           \n",
       "Lag168_Hour_ 10    .           .             .             .           \n",
       "Lag168_Hour_ 11    .           .             .             .           \n",
       "Lag168_Hour_ 12    0.03690672  .             .             .           \n",
       "Lag168_Hour_ 13    .           .             .             .           \n",
       "Lag168_Hour_ 14    0.07832190  9.842392e-02  7.707451e-02  6.867609e-02\n",
       "Lag168_Hour_ 15    .           .             3.179295e-05  2.608073e-05\n",
       "Lag168_Hour_ 16    .           .             .             .           \n",
       "Lag168_Hour_ 17    .           .             .             .           \n",
       "Lag168_Hour_ 18    .           .             .             .           \n",
       "Lag168_Hour_ 19   -0.21183138 -1.277666e-01 -1.059906e-01 -1.164104e-01\n",
       "Lag168_Hour_ 20   -0.20364431 -2.713979e-01 -2.747634e-01 -1.886935e-01\n",
       "Lag168_Hour_ 21    .           .             .             .           \n",
       "Lag168_Hour_ 22   -0.03639448 -1.956348e-02 -1.397282e-02 -5.908045e-02\n",
       "Lag168_Hour_ 23    .           .             .            -1.622625e-03\n",
       "                                                                       \n",
       "(Intercept)      1.987614e+03 1541.57253429  2.836380e+03  3.501129e+03\n",
       "Lag48_Hour_ 0   -4.910631e-01   -0.41665698 -5.486983e-01 -2.611085e-01\n",
       "Lag48_Hour_ 1    .              -0.21677219 -1.353045e-01 -1.927937e-01\n",
       "Lag48_Hour_ 2    .               .          -9.616868e-02 -8.328058e-02\n",
       "Lag48_Hour_ 3    .               .           .             .           \n",
       "Lag48_Hour_ 4    2.837924e-01    .           9.330879e-03  .           \n",
       "Lag48_Hour_ 5    1.460588e-01    0.57213702  3.610823e-01  2.644351e-01\n",
       "Lag48_Hour_ 6    3.311034e-02    0.09534532  5.421152e-01  2.543431e-01\n",
       "Lag48_Hour_ 7    2.000122e-02    .           .             2.656531e-03\n",
       "Lag48_Hour_ 8    .               .           .             .           \n",
       "Lag48_Hour_ 9   -4.026669e-01   -0.52982869 -5.646764e-01 -6.427638e-01\n",
       "Lag48_Hour_ 10  -1.959381e-01   -0.09371717 -1.608133e-01  .           \n",
       "Lag48_Hour_ 11  -3.093650e-03    .          -1.148859e-01 -9.960713e-02\n",
       "Lag48_Hour_ 12   .               .           .             .           \n",
       "Lag48_Hour_ 13   2.080413e-01    0.22270946  4.333596e-01  3.278944e-01\n",
       "Lag48_Hour_ 14   .               .          -5.244369e-02  .           \n",
       "Lag48_Hour_ 15   .               .           .             .           \n",
       "Lag48_Hour_ 16   1.229216e-02    .           .             .           \n",
       "Lag48_Hour_ 17   3.179055e-05    .           .             .           \n",
       "Lag48_Hour_ 18   .               .           .             .           \n",
       "Lag48_Hour_ 19   .               .           .             .           \n",
       "Lag48_Hour_ 20   .               0.12628530  1.116935e-01  2.417634e-01\n",
       "Lag48_Hour_ 21   9.484687e-02    .           1.295935e-01  1.885399e-01\n",
       "Lag48_Hour_ 22   2.243915e-01    0.23009790  1.393778e-01  .           \n",
       "Lag48_Hour_ 23   9.134122e-01    0.85300244  8.376531e-01  8.647053e-01\n",
       "Lag168_Hour_ 0   .               .           .             .           \n",
       "Lag168_Hour_ 1   .               .           .             .           \n",
       "Lag168_Hour_ 2   .              -0.05371461 -1.794228e-01 -1.676333e-01\n",
       "Lag168_Hour_ 3   .               .           .             .           \n",
       "Lag168_Hour_ 4   .               .          -1.082967e-01 -3.343429e-01\n",
       "Lag168_Hour_ 5   .               .          -1.353154e-01 -1.477229e-01\n",
       "Lag168_Hour_ 6   1.395611e-01    0.17561213  2.511343e-01  .           \n",
       "Lag168_Hour_ 7   1.527729e-01    0.17930867  5.246034e-01  7.890631e-01\n",
       "Lag168_Hour_ 8   7.524059e-02    0.08930976  .             2.175067e-01\n",
       "Lag168_Hour_ 9   .               .           .             .           \n",
       "Lag168_Hour_ 10  .               .           .             .           \n",
       "Lag168_Hour_ 11  .               .           .             .           \n",
       "Lag168_Hour_ 12  .               .          -1.022184e-02  .           \n",
       "Lag168_Hour_ 13  .               .           .             .           \n",
       "Lag168_Hour_ 14  4.495719e-02    0.01019377  .             .           \n",
       "Lag168_Hour_ 15  4.172696e-02    0.05898091  1.197643e-01  .           \n",
       "Lag168_Hour_ 16  .               .           .             2.222461e-02\n",
       "Lag168_Hour_ 17  .               .           .             1.099481e-01\n",
       "Lag168_Hour_ 18  .               .           .             .           \n",
       "Lag168_Hour_ 19 -1.764138e-01   -0.10166136  .             .           \n",
       "Lag168_Hour_ 20 -7.703446e-02    .          -3.737795e-01 -4.301176e-01\n",
       "Lag168_Hour_ 21  .              -0.14581077 -5.666845e-02 -9.814165e-02\n",
       "Lag168_Hour_ 22 -1.377955e-01   -0.14384696 -9.132866e-03  .           \n",
       "Lag168_Hour_ 23 -1.433331e-02    .           .             .           \n",
       "                                                                       \n",
       "(Intercept)      6.221473e+03  7.761656e+03  8.506342e+03 9168.29848296\n",
       "Lag48_Hour_ 0   -7.433589e-01 -5.295002e-01 -3.545218e-01   -0.24142660\n",
       "Lag48_Hour_ 1   -1.520641e-01 -3.168132e-01 -1.942701e-01   -0.41394621\n",
       "Lag48_Hour_ 2   -1.705320e-01 -3.533151e-01 -5.143840e-01   -0.43714735\n",
       "Lag48_Hour_ 3    .             .             .               .         \n",
       "Lag48_Hour_ 4    .             .             .               .         \n",
       "Lag48_Hour_ 5    1.022498e+00  1.139583e+00  9.085585e-01    0.96949140\n",
       "Lag48_Hour_ 6    4.339289e-02  5.299874e-02  5.103142e-02    0.00825747\n",
       "Lag48_Hour_ 7    .             .             1.274611e-01    0.15233349\n",
       "Lag48_Hour_ 8    .             .             .               .         \n",
       "Lag48_Hour_ 9   -7.659762e-01 -8.664118e-01 -1.096316e+00   -1.16871618\n",
       "Lag48_Hour_ 10   .             .             .               .         \n",
       "Lag48_Hour_ 11  -4.010705e-01 -4.429733e-01 -1.435853e-01   -0.10632293\n",
       "Lag48_Hour_ 12   .             .             .               .         \n",
       "Lag48_Hour_ 13   9.850236e-01  1.437141e+00  1.266044e+00    1.33708323\n",
       "Lag48_Hour_ 14  -2.930362e-01 -5.202754e-01 -3.751291e-01   -0.37185112\n",
       "Lag48_Hour_ 15   .             .             .               .         \n",
       "Lag48_Hour_ 16   .             .             .               .         \n",
       "Lag48_Hour_ 17   .             .             .               .         \n",
       "Lag48_Hour_ 18   .             .             .               .         \n",
       "Lag48_Hour_ 19   .             .             .               .         \n",
       "Lag48_Hour_ 20   3.876302e-01  3.309922e-01  2.100187e-01    0.08860391\n",
       "Lag48_Hour_ 21   1.487063e-01  9.988990e-04  .               .         \n",
       "Lag48_Hour_ 22   .             .             .               .         \n",
       "Lag48_Hour_ 23   1.037795e+00  1.241269e+00  1.236896e+00    1.30123416\n",
       "Lag168_Hour_ 0   .             .             .               .         \n",
       "Lag168_Hour_ 1   .             .             .               .         \n",
       "Lag168_Hour_ 2   .             .             .               .         \n",
       "Lag168_Hour_ 3   .             .             .               .         \n",
       "Lag168_Hour_ 4  -3.195610e-01 -2.574009e-01 -3.672589e-01   -0.34795229\n",
       "Lag168_Hour_ 5  -8.176361e-01 -9.250720e-01 -6.372670e-01   -0.60425742\n",
       "Lag168_Hour_ 6   .             .             .               .         \n",
       "Lag168_Hour_ 7   6.157229e-01  5.164633e-01  3.564280e-01    0.30362008\n",
       "Lag168_Hour_ 8   7.746594e-01  8.489674e-01  5.357197e-01    0.48316635\n",
       "Lag168_Hour_ 9   .             4.372877e-02  3.110064e-01    0.23700513\n",
       "Lag168_Hour_ 10  .             .             .               0.07113963\n",
       "Lag168_Hour_ 11  .             .             .               .         \n",
       "Lag168_Hour_ 12 -2.760345e-04  .             .               .         \n",
       "Lag168_Hour_ 13  .             .             .               .         \n",
       "Lag168_Hour_ 14  .             .             4.939223e-04    0.02514015\n",
       "Lag168_Hour_ 15  .             3.949627e-02  1.067759e-01    0.09939292\n",
       "Lag168_Hour_ 16  1.306683e-01  1.241080e-01  2.674620e-03    .         \n",
       "Lag168_Hour_ 17  .             1.950623e-02  8.991320e-02    0.11517617\n",
       "Lag168_Hour_ 18  .             .             .               .         \n",
       "Lag168_Hour_ 19 -1.310206e-01 -2.141786e-01 -2.825191e-01   -0.33848279\n",
       "Lag168_Hour_ 20 -5.213034e-01 -5.294890e-01 -4.386304e-01   -0.36458573\n",
       "Lag168_Hour_ 21  .             .             .               .         \n",
       "Lag168_Hour_ 22  .             .             .               .         \n",
       "Lag168_Hour_ 23  .             .             .               .         \n",
       "                                                                      \n",
       "(Intercept)      7.094133e+03  8.147657e+03  8.314712e+03 7711.9909624\n",
       "Lag48_Hour_ 0    .            -3.983679e-01 -5.153814e-01   -0.5342343\n",
       "Lag48_Hour_ 1   -2.885456e-01 -2.883546e-01 -2.276850e-01   -0.3454835\n",
       "Lag48_Hour_ 2   -5.662511e-01 -5.007996e-01 -4.106762e-01   -0.1845307\n",
       "Lag48_Hour_ 3    .             .             .               .        \n",
       "Lag48_Hour_ 4    .             .             .               .        \n",
       "Lag48_Hour_ 5    6.761936e-01  1.064733e+00  1.118254e+00    1.0318263\n",
       "Lag48_Hour_ 6    2.355784e-02  .             .               .        \n",
       "Lag48_Hour_ 7    1.572990e-01  1.282787e-01  .               .        \n",
       "Lag48_Hour_ 8    .             .             .               .        \n",
       "Lag48_Hour_ 9   -1.176159e+00 -1.213335e+00 -1.185310e+00   -1.1604021\n",
       "Lag48_Hour_ 10   .             .             .               .        \n",
       "Lag48_Hour_ 11  -2.355591e-04 -1.614406e-01 -1.962697e-01   -0.2050226\n",
       "Lag48_Hour_ 12   .             .             .               .        \n",
       "Lag48_Hour_ 13   1.174379e+00  1.393975e+00  1.171237e+00    1.0237254\n",
       "Lag48_Hour_ 14  -2.499933e-01 -3.387905e-01 -8.353328e-02    .        \n",
       "Lag48_Hour_ 15   .             .             .               .        \n",
       "Lag48_Hour_ 16   .             .             .               .        \n",
       "Lag48_Hour_ 17   .             .             .               .        \n",
       "Lag48_Hour_ 18   .             1.074245e-04  .               .        \n",
       "Lag48_Hour_ 19   .             .             .               .        \n",
       "Lag48_Hour_ 20   .             .             4.776459e-03    0.1212154\n",
       "Lag48_Hour_ 21   .             .             .               .        \n",
       "Lag48_Hour_ 22   .             .             .               .        \n",
       "Lag48_Hour_ 23   1.258654e+00  1.384640e+00  1.429794e+00    1.3587824\n",
       "Lag168_Hour_ 0   .             .             .               .        \n",
       "Lag168_Hour_ 1   .             .             .               .        \n",
       "Lag168_Hour_ 2   .             .             .               .        \n",
       "Lag168_Hour_ 3   .             .             .               .        \n",
       "Lag168_Hour_ 4  -3.271617e-01 -9.109533e-02 -1.367660e-01   -0.1177848\n",
       "Lag168_Hour_ 5  -4.862441e-01 -9.109864e-01 -8.674653e-01   -0.8925021\n",
       "Lag168_Hour_ 6   .             .             .               .        \n",
       "Lag168_Hour_ 7   3.018430e-01  4.540525e-01  2.461133e-01    0.2546080\n",
       "Lag168_Hour_ 8   2.680306e-01  3.192298e-01  5.168962e-01    0.4755373\n",
       "Lag168_Hour_ 9   1.964581e-01  .             .               .        \n",
       "Lag168_Hour_ 10  9.664703e-03  .             .               .        \n",
       "Lag168_Hour_ 11  .            -1.297549e-01  .               .        \n",
       "Lag168_Hour_ 12  1.478960e-01  .             .               .        \n",
       "Lag168_Hour_ 13  5.725955e-02  4.939482e-01  .               .        \n",
       "Lag168_Hour_ 14  .             .             5.617491e-02    .        \n",
       "Lag168_Hour_ 15  .             .             1.015283e-01    .        \n",
       "Lag168_Hour_ 16  .             .             1.311218e-01    0.3207821\n",
       "Lag168_Hour_ 17  1.485162e-01  1.382963e-01  2.343771e-01    0.2667485\n",
       "Lag168_Hour_ 18  .             .             .               .        \n",
       "Lag168_Hour_ 19 -2.888450e-01 -3.641816e-01 -4.201209e-01   -0.4249821\n",
       "Lag168_Hour_ 20 -2.467660e-01 -1.664872e-01 -1.693710e-01   -0.1860115\n",
       "Lag168_Hour_ 21  .             .             .               .        \n",
       "Lag168_Hour_ 22  .             .             .               .        \n",
       "Lag168_Hour_ 23  .             .             .               .        \n",
       "                                                                       \n",
       "(Intercept)      6.978712e+03 7649.73506327 7395.43757126  6.196056e+03\n",
       "Lag48_Hour_ 0   -6.873482e-01   -0.62195294   -0.46425189 -4.322111e-01\n",
       "Lag48_Hour_ 1   -8.867925e-02   -0.21697080   -0.42870210 -2.404167e-01\n",
       "Lag48_Hour_ 2    .              -0.19673995   -0.09368539  .           \n",
       "Lag48_Hour_ 3    .               .             .           .           \n",
       "Lag48_Hour_ 4    .               .             0.06143395  .           \n",
       "Lag48_Hour_ 5    6.844527e-01    1.01874396    0.88685068  5.003626e-01\n",
       "Lag48_Hour_ 6    .               .             0.08609625  2.030046e-01\n",
       "Lag48_Hour_ 7    .               .             .           .           \n",
       "Lag48_Hour_ 8    .               .             .          -5.670963e-02\n",
       "Lag48_Hour_ 9   -1.077566e+00   -0.97640412   -0.86566835 -7.049792e-01\n",
       "Lag48_Hour_ 10   .               .             .           .           \n",
       "Lag48_Hour_ 11  -1.186177e-01   -0.24916119   -0.23457664 -1.791103e-01\n",
       "Lag48_Hour_ 12   .               .             .           .           \n",
       "Lag48_Hour_ 13   8.162599e-01    0.83348517    0.78391421  4.894083e-01\n",
       "Lag48_Hour_ 14   .              -0.10813179   -0.12115895 -3.748075e-03\n",
       "Lag48_Hour_ 15   .               .            -0.19793173 -7.387772e-02\n",
       "Lag48_Hour_ 16   .               .             .           .           \n",
       "Lag48_Hour_ 17   .               .             .           .           \n",
       "Lag48_Hour_ 18   .               0.20401331    0.57619991  .           \n",
       "Lag48_Hour_ 19   .               .             .           4.510460e-01\n",
       "Lag48_Hour_ 20   3.241500e-01    0.06036533    .           6.330629e-02\n",
       "Lag48_Hour_ 21   6.677569e-05    0.17733751    0.02190604  .           \n",
       "Lag48_Hour_ 22   .               .             .           .           \n",
       "Lag48_Hour_ 23   1.206990e+00    1.14756979    0.99944327  9.149131e-01\n",
       "Lag168_Hour_ 0   .               .             .           .           \n",
       "Lag168_Hour_ 1   .               .             .           .           \n",
       "Lag168_Hour_ 2   .               .            -0.04378938  .           \n",
       "Lag168_Hour_ 3   .               .             .           .           \n",
       "Lag168_Hour_ 4  -3.118469e-01   -0.26839110   -0.02129107 -3.892815e-01\n",
       "Lag168_Hour_ 5  -7.066571e-01   -0.79711643   -0.82423633 -3.326768e-01\n",
       "Lag168_Hour_ 6   .               .             .           .           \n",
       "Lag168_Hour_ 7   2.417053e-01    0.54826570    0.52681775  3.689130e-01\n",
       "Lag168_Hour_ 8   4.678792e-01    0.23238135    0.12478484  1.336428e-01\n",
       "Lag168_Hour_ 9   .               .             .           .           \n",
       "Lag168_Hour_ 10  .               .             .           .           \n",
       "Lag168_Hour_ 11  .              -0.01175243   -0.04914701 -3.632324e-02\n",
       "Lag168_Hour_ 12 -6.224346e-02   -0.16575832   -0.04736938  .           \n",
       "Lag168_Hour_ 13  .               .             .           .           \n",
       "Lag168_Hour_ 14  .               .             .           .           \n",
       "Lag168_Hour_ 15  .               .             .           .           \n",
       "Lag168_Hour_ 16  1.068344e-01    .             .           .           \n",
       "Lag168_Hour_ 17  5.836787e-01    0.86195040    0.50812786  2.271211e-01\n",
       "Lag168_Hour_ 18  .               .             .           .           \n",
       "Lag168_Hour_ 19 -4.045778e-01   -0.43771785   -0.12674149  .           \n",
       "Lag168_Hour_ 20 -1.887566e-01   -0.21318098   -0.20357479  .           \n",
       "Lag168_Hour_ 21  .               .             .           .           \n",
       "Lag168_Hour_ 22  .               .             .          -3.999381e-02\n",
       "Lag168_Hour_ 23  .               .             .           .           \n",
       "                                                                       \n",
       "(Intercept)      5.358054e+03  5.722509e+03  7.144251e+03  5.096271e+03\n",
       "Lag48_Hour_ 0   -6.905294e-02 -9.989119e-05 -1.249709e-01  .           \n",
       "Lag48_Hour_ 1   -3.550710e-01 -4.444872e-01 -3.438231e-01 -2.446639e-01\n",
       "Lag48_Hour_ 2   -4.497942e-01 -2.522836e-01 -1.138877e-01 -2.762495e-02\n",
       "Lag48_Hour_ 3    .             .             .             .           \n",
       "Lag48_Hour_ 4    2.588856e-02  1.460587e-01  2.577221e-04  .           \n",
       "Lag48_Hour_ 5    8.239243e-01  4.877707e-01  4.910073e-01  1.861134e-01\n",
       "Lag48_Hour_ 6    .             1.418234e-04  5.273001e-02  .           \n",
       "Lag48_Hour_ 7    .             .             .             .           \n",
       "Lag48_Hour_ 8   -9.252556e-03  .             .             .           \n",
       "Lag48_Hour_ 9   -7.362491e-01 -6.713652e-01 -6.575912e-01 -5.650729e-01\n",
       "Lag48_Hour_ 10   .             .             .             .           \n",
       "Lag48_Hour_ 11   .             .             .             .           \n",
       "Lag48_Hour_ 12   .             .             .             .           \n",
       "Lag48_Hour_ 13   5.964015e-01  5.181916e-01  4.567501e-01  2.334752e-01\n",
       "Lag48_Hour_ 14  -2.548388e-01 -1.843493e-01 -1.206224e-01 -8.008939e-04\n",
       "Lag48_Hour_ 15   .            -8.980301e-02 -3.638074e-02 -3.613963e-03\n",
       "Lag48_Hour_ 16  -7.666998e-02 -2.243643e-02 -6.345420e-02 -6.260440e-02\n",
       "Lag48_Hour_ 17   .             .             .             .           \n",
       "Lag48_Hour_ 18   .             .             .             .           \n",
       "Lag48_Hour_ 19  -1.350448e-01 -1.234606e-01 -7.221252e-02  .           \n",
       "Lag48_Hour_ 20   4.777209e-01  3.001247e-02  .             .           \n",
       "Lag48_Hour_ 21   2.537017e-01  6.829603e-01  3.756088e-01  2.870944e-01\n",
       "Lag48_Hour_ 22   .             .             .             .           \n",
       "Lag48_Hour_ 23   8.418363e-01  8.312553e-01  1.047719e+00  1.026486e+00\n",
       "Lag168_Hour_ 0   .             .             .             .           \n",
       "Lag168_Hour_ 1   .             .             .             .           \n",
       "Lag168_Hour_ 2   .             .             .             .           \n",
       "Lag168_Hour_ 3   .             .             .             .           \n",
       "Lag168_Hour_ 4  -7.841122e-02  .             .            -1.208565e-01\n",
       "Lag168_Hour_ 5  -5.313111e-01 -6.314618e-01 -6.321878e-01 -5.088606e-01\n",
       "Lag168_Hour_ 6   .             .             .             .           \n",
       "Lag168_Hour_ 7   2.701397e-01  2.980428e-01  3.436466e-01  3.675484e-01\n",
       "Lag168_Hour_ 8   2.513473e-01  2.431919e-01  2.028266e-01  1.485128e-01\n",
       "Lag168_Hour_ 9   .             .             .             .           \n",
       "Lag168_Hour_ 10  .             .             .             .           \n",
       "Lag168_Hour_ 11 -2.189939e-01 -2.117673e-01 -1.699830e-01 -6.035073e-02\n",
       "Lag168_Hour_ 12  .             .             .             .           \n",
       "Lag168_Hour_ 13  .             .             .             .           \n",
       "Lag168_Hour_ 14  .             .             .             .           \n",
       "Lag168_Hour_ 15  .             .             .             .           \n",
       "Lag168_Hour_ 16  2.154833e-01  1.819558e-01  2.409586e-01  1.073991e-01\n",
       "Lag168_Hour_ 17  3.929390e-02  6.580980e-02  2.448994e-02  4.204444e-02\n",
       "Lag168_Hour_ 18  .             .             .             .           \n",
       "Lag168_Hour_ 19 -3.209356e-03 -8.140632e-02 -2.143209e-01 -1.488173e-01\n",
       "Lag168_Hour_ 20  .             .             .             .           \n",
       "Lag168_Hour_ 21  .             6.881367e-02  .             .           \n",
       "Lag168_Hour_ 22  .             .             .             .           \n",
       "Lag168_Hour_ 23  1.591866e-03  .             1.297286e-01  1.391547e-01"
      ]
     },
     "metadata": {},
     "output_type": "display_data"
    }
   ],
   "source": [
    "#Coefficients of Lasso Regression model for each hour are shown below :\n",
    "coefficients_lasso = cbind(coefficients(lasso_fit0), coefficients(lasso_fit1),coefficients(lasso_fit2),coefficients(lasso_fit3),\n",
    "                           coefficients(lasso_fit4),coefficients(lasso_fit5),coefficients(lasso_fit6),coefficients(lasso_fit7),\n",
    "                           coefficients(lasso_fit8),coefficients(lasso_fit9),coefficients(lasso_fit10),coefficients(lasso_fit11),\n",
    "                           coefficients(lasso_fit12),coefficients(lasso_fit13),coefficients(lasso_fit14),coefficients(lasso_fit15),\n",
    "                           coefficients(lasso_fit16),coefficients(lasso_fit17),coefficients(lasso_fit18),coefficients(lasso_fit19),\n",
    "                           coefficients(lasso_fit20),coefficients(lasso_fit21),coefficients(lasso_fit22),coefficients(lasso_fit23))\n",
    "colnames(coefficients_lasso) = c(paste(\"Lasso_Hour_\",0:23))\n",
    "coefficients_lasso\n"
   ]
  },
  {
   "cell_type": "code",
   "execution_count": 137,
   "metadata": {},
   "outputs": [
    {
     "data": {
      "image/png": "[encoded data removed]",
      "text/plain": [
       "Plot with title \"Lasso Coefficients\""
      ]
     },
     "metadata": {},
     "output_type": "display_data"
    }
   ],
   "source": [
    "#Coefficients are shown in plot below.\n",
    "#Each line represents a row in the coefficient matrix which is constructed above.\n",
    "#In other words, each line includes coefficients of the same feature/variable for each model.\n",
    "#(There are 24 models because we fit models for each hour saparately.)\n",
    "#Therefore, we can observe change in coefficients model by model.\n",
    "\n",
    "plot(coefficients_lasso[2,],type=\"l\",col=1,xlim = c(0,40),ylim = c(-2.5,2.5),main=\"Lasso Coefficients\", xlab=\"Model Number\",\n",
    "     ylab=\"Value\")\n",
    "for (i in 3:nrow(coefficients_lasso)) {\n",
    "    points(coefficients_lasso[i,],type=\"l\",col=(i-1))\n",
    "}\n",
    "\n",
    "names = c()\n",
    "cum_names = c()\n",
    "for (i in 1:24) {\n",
    "    names = paste(\"Coefficient\", i)\n",
    "    cum_names = c(cum_names, names)\n",
    "}\n",
    "par(xpd=TRUE)\n",
    "legend(25,2,cex = 0.7,\n",
    "legend = cum_names, \n",
    "        col = c(1:23), pch = \"-\")\n",
    "names = c()\n",
    "cum_names = c()\n",
    "for (i in 25:48) {\n",
    "    names = paste(\"Coefficient\", i)\n",
    "    cum_names = c(cum_names, names)\n",
    "}\n",
    "par(xpd=TRUE)\n",
    "legend(33,2,cex = 0.7,\n",
    "legend = cum_names, \n",
    "        col = c(25:48), pch = \"-\")\n"
   ]
  },
  {
   "cell_type": "markdown",
   "metadata": {},
   "source": [
    "# TASK E"
   ]
  },
  {
   "cell_type": "markdown",
   "metadata": {},
   "source": [
    "#### I didn't make it."
   ]
  },
  {
   "cell_type": "markdown",
   "metadata": {},
   "source": [
    "# TASK F"
   ]
  },
  {
   "cell_type": "code",
   "execution_count": 195,
   "metadata": {},
   "outputs": [
    {
     "data": {
      "text/html": [
       "<table>\n",
       "<thead><tr><th scope=col>Lag48</th><th scope=col>Lag168</th><th scope=col>Lin_Reg</th><th scope=col>Lin_Reg_Sep</th><th scope=col>Lasso_Reg</th></tr></thead>\n",
       "<tbody>\n",
       "\t<tr><td>7.69</td><td>0.50</td><td>1.63</td><td>3.21</td><td>1.98</td></tr>\n",
       "\t<tr><td>7.02</td><td>0.39</td><td>1.21</td><td>3.00</td><td>1.74</td></tr>\n",
       "\t<tr><td>7.25</td><td>0.37</td><td>1.58</td><td>3.50</td><td>1.58</td></tr>\n",
       "\t<tr><td>6.98</td><td>0.15</td><td>1.23</td><td>3.25</td><td>1.62</td></tr>\n",
       "\t<tr><td>6.32</td><td>0.17</td><td>0.75</td><td>2.69</td><td>2.07</td></tr>\n",
       "\t<tr><td>6.55</td><td>0.54</td><td>1.38</td><td>3.13</td><td>1.44</td></tr>\n",
       "</tbody>\n",
       "</table>\n"
      ],
      "text/latex": [
       "\\begin{tabular}{r|lllll}\n",
       " Lag48 & Lag168 & Lin\\_Reg & Lin\\_Reg\\_Sep & Lasso\\_Reg\\\\\n",
       "\\hline\n",
       "\t 7.69 & 0.50 & 1.63 & 3.21 & 1.98\\\\\n",
       "\t 7.02 & 0.39 & 1.21 & 3.00 & 1.74\\\\\n",
       "\t 7.25 & 0.37 & 1.58 & 3.50 & 1.58\\\\\n",
       "\t 6.98 & 0.15 & 1.23 & 3.25 & 1.62\\\\\n",
       "\t 6.32 & 0.17 & 0.75 & 2.69 & 2.07\\\\\n",
       "\t 6.55 & 0.54 & 1.38 & 3.13 & 1.44\\\\\n",
       "\\end{tabular}\n"
      ],
      "text/markdown": [
       "\n",
       "| Lag48 | Lag168 | Lin_Reg | Lin_Reg_Sep | Lasso_Reg |\n",
       "|---|---|---|---|---|\n",
       "| 7.69 | 0.50 | 1.63 | 3.21 | 1.98 |\n",
       "| 7.02 | 0.39 | 1.21 | 3.00 | 1.74 |\n",
       "| 7.25 | 0.37 | 1.58 | 3.50 | 1.58 |\n",
       "| 6.98 | 0.15 | 1.23 | 3.25 | 1.62 |\n",
       "| 6.32 | 0.17 | 0.75 | 2.69 | 2.07 |\n",
       "| 6.55 | 0.54 | 1.38 | 3.13 | 1.44 |\n",
       "\n"
      ],
      "text/plain": [
       "  Lag48 Lag168 Lin_Reg Lin_Reg_Sep Lasso_Reg\n",
       "1 7.69  0.50   1.63    3.21        1.98     \n",
       "2 7.02  0.39   1.21    3.00        1.74     \n",
       "3 7.25  0.37   1.58    3.50        1.58     \n",
       "4 6.98  0.15   1.23    3.25        1.62     \n",
       "5 6.32  0.17   0.75    2.69        2.07     \n",
       "6 6.55  0.54   1.38    3.13        1.44     "
      ]
     },
     "metadata": {},
     "output_type": "display_data"
    }
   ],
   "source": [
    "#MAPE values are aggregated in a dataframe as following:\n",
    "MAPE_values = cbind(A_Data$Per_Abs_Error_Lag48,A_Data$Per_Abs_Error_Lag168,B_test$Per_Abs_Error,C_test$Per_Abs_Error, \n",
    "                    D_MAPE_data)\n",
    "colnames(MAPE_values) = c(\"Lag48\",\"Lag168\",\"Lin_Reg\",\"Lin_Reg_Sep\",\"Lasso_Reg\")\n",
    "rownames(MAPE_values) = c(1:240)\n",
    "head(MAPE_values)"
   ]
  },
  {
   "cell_type": "code",
   "execution_count": 201,
   "metadata": {},
   "outputs": [
    {
     "data": {
      "image/png": "[encoded data removed]",
      "text/plain": [
       "Plot with title \"Boxplot of MAPE Values\""
      ]
     },
     "metadata": {},
     "output_type": "display_data"
    }
   ],
   "source": [
    "#Boxplot is drawn as following : \n",
    "boxplot(MAPE_values,col=c(2:6), ylab=\"Values\", xlab=\"Models\", main=\"Boxplot of MAPE Values\")\n",
    "par(xpd=TRUE)\n",
    "legend(3.35,42,cex = 0.8,\n",
    "legend = c(\"Lag48\",\"Lag168\",\"Linear Regression\",\"Linear Regression Separately\",\"Lasso Regression\"), \n",
    "        col = c(2:6), pch = \"-\")\n"
   ]
  },
  {
   "cell_type": "code",
   "execution_count": 138,
   "metadata": {},
   "outputs": [
    {
     "data": {
      "text/html": [
       "<table>\n",
       "<thead><tr><th scope=col>Model</th><th scope=col>MAPE</th><th scope=col>Std.Deviation</th></tr></thead>\n",
       "<tbody>\n",
       "\t<tr><td>Lag48                       </td><td>7.81 %                      </td><td>9.04 %                      </td></tr>\n",
       "\t<tr><td>Lag168                      </td><td>4.04 %                      </td><td>4.66 %                      </td></tr>\n",
       "\t<tr><td>Linear_Regression           </td><td>4.55 %                      </td><td>4.94 %                      </td></tr>\n",
       "\t<tr><td>Linear_Regression_Separately</td><td>4.71 %                      </td><td>4.47 %                      </td></tr>\n",
       "\t<tr><td>Lasso Regression            </td><td>2.75 %                      </td><td>2.68 %                      </td></tr>\n",
       "</tbody>\n",
       "</table>\n"
      ],
      "text/latex": [
       "\\begin{tabular}{r|lll}\n",
       " Model & MAPE & Std.Deviation\\\\\n",
       "\\hline\n",
       "\t Lag48                        & 7.81 \\%                     & 9.04 \\%                    \\\\\n",
       "\t Lag168                       & 4.04 \\%                     & 4.66 \\%                    \\\\\n",
       "\t Linear\\_Regression            & 4.55 \\%                       & 4.94 \\%                      \\\\\n",
       "\t Linear\\_Regression\\_Separately & 4.71 \\%                         & 4.47 \\%                        \\\\\n",
       "\t Lasso Regression             & 2.75 \\%                     & 2.68 \\%                    \\\\\n",
       "\\end{tabular}\n"
      ],
      "text/markdown": [
       "\n",
       "| Model | MAPE | Std.Deviation |\n",
       "|---|---|---|\n",
       "| Lag48                        | 7.81 %                       | 9.04 %                       |\n",
       "| Lag168                       | 4.04 %                       | 4.66 %                       |\n",
       "| Linear_Regression            | 4.55 %                       | 4.94 %                       |\n",
       "| Linear_Regression_Separately | 4.71 %                       | 4.47 %                       |\n",
       "| Lasso Regression             | 2.75 %                       | 2.68 %                       |\n",
       "\n"
      ],
      "text/plain": [
       "  Model                        MAPE   Std.Deviation\n",
       "1 Lag48                        7.81 % 9.04 %       \n",
       "2 Lag168                       4.04 % 4.66 %       \n",
       "3 Linear_Regression            4.55 % 4.94 %       \n",
       "4 Linear_Regression_Separately 4.71 % 4.47 %       \n",
       "5 Lasso Regression             2.75 % 2.68 %       "
      ]
     },
     "metadata": {},
     "output_type": "display_data"
    }
   ],
   "source": [
    "Summary"
   ]
  },
  {
   "cell_type": "markdown",
   "metadata": {},
   "source": [
    "#### In conclusion, performance of Lasso Regression is the best in terms of both MAPE and standard deviation of error values. Lag168 model has a good performance compared to other models. Linear Regression and Linear Regression Separately models have similar results. Lag48 model is the worst model."
   ]
  }
 ],
 "metadata": {
  "kernelspec": {
   "display_name": "R",
   "language": "R",
   "name": "ir"
  },
  "language_info": {
   "codemirror_mode": "r",
   "file_extension": ".r",
   "mimetype": "text/x-r-source",
   "name": "R",
   "pygments_lexer": "r",
   "version": "3.6.1"
  }
 },
 "nbformat": 4,
 "nbformat_minor": 2
}
